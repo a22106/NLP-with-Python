{
 "cells": [
  {
   "cell_type": "code",
   "execution_count": 1,
   "metadata": {},
   "outputs": [],
   "source": [
    "import numpy as np\n",
    "import torch\n",
    "import torch.nn as nn\n",
    "import torch.optim as optim\n",
    "\n",
    "sentences = [\"i like dog\", \"i love coffee\", \"i hate milk\", \"you like cat\", \"you love milk\", \"you hate coffee\"]\n",
    "dtype = torch.float\n",
    "\n",
    "word_list = list(set(\" \".join(sentences).split()))\n",
    "word_dict = {w: i for i, w in enumerate(word_list)}\n",
    "number_dict = {i: w for i, w in enumerate(word_list)}\n",
    "\n"
   ]
  },
  {
   "cell_type": "code",
   "execution_count": 2,
   "metadata": {},
   "outputs": [
    {
     "name": "stdout",
     "output_type": "stream",
     "text": [
      "['coffee', 'you', 'hate', 'cat', 'milk', 'like', 'i', 'dog', 'love']\n",
      "{'coffee': 0, 'you': 1, 'hate': 2, 'cat': 3, 'milk': 4, 'like': 5, 'i': 6, 'dog': 7, 'love': 8}\n",
      "{0: 'coffee', 1: 'you', 2: 'hate', 3: 'cat', 4: 'milk', 5: 'like', 6: 'i', 7: 'dog', 8: 'love'}\n"
     ]
    }
   ],
   "source": [
    "print(word_list)\n",
    "print(word_dict)\n",
    "print(number_dict)"
   ]
  },
  {
   "cell_type": "code",
   "execution_count": 8,
   "metadata": {},
   "outputs": [
    {
     "name": "stdout",
     "output_type": "stream",
     "text": [
      "['i', 'like', 'dog']\n",
      "['i', 'love', 'coffee']\n",
      "['i', 'hate', 'milk']\n",
      "['you', 'like', 'cat']\n",
      "['you', 'love', 'milk']\n",
      "['you', 'hate', 'coffee']\n",
      "[1, 2, 0]\n"
     ]
    }
   ],
   "source": [
    "# TextRNN Parameter\n",
    "batch_size = len(sentences)\n",
    "n_step = 2 # 학습하려고 하는 문장의 길이 -1\n",
    "n_hidden = 5 # 은닉층 사이즈\n",
    "\n",
    "for sen in sentences:\n",
    "    word = sen.split()\n",
    "    print(word)\n",
    "    input1 = [word_dict[n] for n in word[:-1]]\n",
    "print(input1)\n"
   ]
  },
  {
   "cell_type": "code",
   "execution_count": null,
   "metadata": {},
   "outputs": [],
   "source": [
    "def make_batch(sentences):\n",
    "    input_batch = []\n",
    "    target_batch = []\n",
    "    for sen in sentences:\n",
    "        word = sen.split()\n",
    "        input = [word_dict[n] for n in word[:-1]]\n",
    "        target = word_dict[word[-1]]\n",
    "\n",
    "        input_batch.append(np.eye(n_class)[input]) #One-Hot Encoding\n",
    "        target_batch.append(target)\n",
    "\n",
    "    return input_batch, target_batch\n",
    "input_batch, target_batch = make_batch(sentences)\n",
    "input_batch = torch.tensor(input_batch, dtype=torch.float32, requires_grad=True)\n",
    "target_batch = torch.tensor(target_batch, dtype = torch.int64)"
   ]
  }
 ],
 "metadata": {
  "interpreter": {
   "hash": "2cafbbdf5f0c485b1a1935b2358d1e2de8ca6414272176d54707d0003e55811a"
  },
  "kernelspec": {
   "display_name": "Python 3.7.9 64-bit (conda)",
   "name": "python3"
  },
  "language_info": {
   "codemirror_mode": {
    "name": "ipython",
    "version": 3
   },
   "file_extension": ".py",
   "mimetype": "text/x-python",
   "name": "python",
   "nbconvert_exporter": "python",
   "pygments_lexer": "ipython3",
   "version": "3.7.9"
  },
  "orig_nbformat": 4
 },
 "nbformat": 4,
 "nbformat_minor": 2
}
