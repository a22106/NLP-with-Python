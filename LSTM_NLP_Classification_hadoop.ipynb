{
 "cells": [
  {
   "cell_type": "code",
   "execution_count": 1,
   "metadata": {},
   "outputs": [
    {
     "data": {
      "text/html": [
       "        <script type=\"text/javascript\">\n",
       "        window.PlotlyConfig = {MathJaxConfig: 'local'};\n",
       "        if (window.MathJax) {MathJax.Hub.Config({SVG: {font: \"STIX-Web\"}});}\n",
       "        if (typeof require !== 'undefined') {\n",
       "        require.undef(\"plotly\");\n",
       "        requirejs.config({\n",
       "            paths: {\n",
       "                'plotly': ['https://cdn.plot.ly/plotly-latest.min']\n",
       "            }\n",
       "        });\n",
       "        require(['plotly'], function(Plotly) {\n",
       "            window._Plotly = Plotly;\n",
       "        });\n",
       "        }\n",
       "        </script>\n",
       "        "
      ]
     },
     "metadata": {},
     "output_type": "display_data"
    }
   ],
   "source": [
    "import numpy as np \n",
    "import pandas as pd\n",
    "import matplotlib.pyplot as plt\n",
    "import seaborn as sns\n",
    "import tensorflow as tf\n",
    "from tensorflow.keras.preprocessing.text import Tokenizer\n",
    "from tensorflow.keras.preprocessing.sequence import pad_sequences\n",
    "from tensorflow.keras.models import Sequential\n",
    "from tensorflow.keras.layers import Dense, Embedding, LSTM, SpatialDropout1D\n",
    "from sklearn.model_selection import train_test_split\n",
    "from tensorflow.keras.utils import to_categorical\n",
    "from tensorflow.keras.callbacks import EarlyStopping\n",
    "from tensorflow.keras.layers import Dropout\n",
    "import re\n",
    "import nltk\n",
    "import chart_studio\n",
    "from nltk.corpus import stopwords\n",
    "from nltk import word_tokenize\n",
    "STOPWORDS = set(stopwords.words('english'))\n",
    "from bs4 import BeautifulSoup\n",
    "import plotly.graph_objects as go\n",
    "import chart_studio.plotly as py\n",
    "import cufflinks\n",
    "from IPython.core.interactiveshell import InteractiveShell\n",
    "import plotly.figure_factory as ff\n",
    "InteractiveShell.ast_node_interactivity = 'all'\n",
    "from chart_studio.plotly import iplot\n",
    "cufflinks.go_offline()\n",
    "cufflinks.set_config_file(world_readable=True, theme='pearl')"
   ]
  },
  {
   "cell_type": "code",
   "execution_count": 2,
   "metadata": {},
   "outputs": [],
   "source": [
    "# The maximum number of words to be used. (most frequent)\n",
    "MAX_NB_WORDS = 50000\n",
    "# Max number of words in each complaint.\n",
    "MAX_SEQUENCE_LENGTH = 250\n",
    "\n",
    "EMBEDDING_DIM = 100"
   ]
  },
  {
   "cell_type": "code",
   "execution_count": 3,
   "metadata": {},
   "outputs": [],
   "source": [
    "class Lstm_issue():\n",
    "\n",
    "    def __init__(self, data_location, data_location_ori = 'data/hadoop/HADOOP.csv', aug_mul = 2):\n",
    "        self.data_ori = pd.read_csv(data_location_ori) # 원본 데이터\n",
    "        self.aug_mul = aug_mul\n",
    "        self.df = pd.read_csv(data_location, encoding='cp949')\n",
    "        print(self.df.info())\n",
    "\n",
    "        print(self.df.component.value_counts())\n",
    "\n",
    "        \n",
    "        self.data_ori['text'] = list(self.data_ori.title + \" \" + self.data_ori.description)\n",
    "\n",
    "        for x in range(len(self.df.component)):\n",
    "            self.df.component[x] = self.df.component[x].split(',')[0]\n",
    "\n",
    "        self.Y = pd.get_dummies(self.df[set(self.df.component)])\n",
    "        print(self.df.component.value_counts())\n",
    "\n",
    "    def print_plot(self, index):\n",
    "        example = self.df[self.df.index == index][['text', 'component']].values[0]\n",
    "        if len(example) > 0:\n",
    "            print(example[0])\n",
    "            print('component:', example[1])\n",
    "\n",
    "    def preprocessing(self):\n",
    "        self.df = self.df.reset_index(drop=True)\n",
    "        self.df = self.df.astype(str)\n",
    "    \n",
    "    def clean_text(self):\n",
    "        '''self.df['text'] = self.df['text'].apply(_clean_text)\n",
    "        self.df['text'] = self.df['text'].str.replace('\\d+', '')'''\n",
    "        refined_data = []\n",
    "        for item in self.df['text']:\n",
    "            #1. Remove \\r \n",
    "            current_desc = item.replace('\\r', ' ')    \n",
    "            #2. Remove URLs\n",
    "            current_desc = re.sub(r'http[s]?://(?:[a-zA-Z]|[0-9]|[$-_@.&+]|[!*\\(\\),]|(?:%[0-9a-fA-F][0-9a-fA-F]))+', '', current_desc)    \n",
    "            #4. Remove hex code\n",
    "            current_desc = re.sub(r'(\\w+)0x\\w+', '', current_desc) \n",
    "            #5. Change to lower case\n",
    "            current_desc = current_desc.lower()   \n",
    "            #6. Tokenize\n",
    "            #current_desc_tokens = tokenizer(current_desc, add_special_tokens= True)\n",
    "            #7. Strip trailing punctuation marks    \n",
    "            #current_desc_filter = [word.strip(string.punctuation) for word in current_desc_tokens]     \n",
    "            #8. Join the lists\n",
    "            #current_data = current_desc_filter\n",
    "            #current_data = list(filter(None, current_data))\n",
    "            refined_data.append(current_desc)\n",
    "        self.df['text'] = refined_data\n",
    "        self.df['text'] = self.df['text'].str.replace('\\d+', '')\n",
    "    \n",
    "    def tokenize_df(self):\n",
    "        '''# The maximum number of words to be used. (most frequent)\n",
    "        MAX_NB_WORDS = 50000\n",
    "        # Max number of words in each complaint.\n",
    "        MAX_SEQUENCE_LENGTH = 250\n",
    "        # This is fixed.\n",
    "        EMBEDDING_DIM = 100'''\n",
    "        self.tokenizer = Tokenizer(num_words=MAX_NB_WORDS, filters='!\"#$%&()*+,-./:;<=>?@[\\]^_`{|}~', lower=True)\n",
    "        self.tokenizer.fit_on_texts(self.df['text'].values)\n",
    "        word_index = self.tokenizer.word_index\n",
    "        print('Found %s unique tokens.' % len(word_index))\n",
    "\n",
    "    # 불러온 정제된 데이터 one hot을 str에서 list로 바꾸는 작업\n",
    "    def labels_to_int(self):\n",
    "        x, y = train_test_split(self.data_ori, test_size = 0.2, random_state=42)\n",
    "        self.X_ori = x.text\n",
    "        self.Y_ori = y.component\n",
    "\n",
    "        #self.X_train, self.X_test, self.Y_train, self.Y_test = train_test_split(self.X_ori, self.Y_ori, test_size = 0.20, random_state = 21)\n",
    "\n",
    "        # 증강데이터의 train_data에서 test index부분 제거\n",
    "        y_index = list(y.index)\n",
    "        #test_index_list = list(self.test_data.index)\n",
    "        test_index =[]\n",
    "        for aug_num in range(self.aug_mul):\n",
    "            iidf2 = [i + 6152* aug_num for i in y_index]\n",
    "            test_index = test_index + iidf2\n",
    "\n",
    "        # labeling y\n",
    "        #self.Y = pd.get_dummies(self.df['component'])\n",
    "        df_compset = list(set(self.df.component.values))\n",
    "        #self.Y = pd.get_dummies(self.df[set(self.df.component)])\n",
    "        #self.Y = pd.get_dummies(self.df['fs'])\n",
    "        \n",
    "        self.X_train = self.df['text'].drop(test_index)\n",
    "        self.X_train = self.X_train.sample(frac=1).reset_index(drop=True)\n",
    "        X_train_index = list(self.X_train.index)\n",
    "        self.X_test = self.df['text'].drop(X_train_index)\n",
    "        self.X_test = self.X_test.sample(frac=1).reset_index(drop=True)\n",
    "\n",
    "        self.Y_train = self.Y.drop(test_index)\n",
    "        self.Y_train = self.Y_train.sample(frac=1).reset_index(drop=True)\n",
    "        self.Y_test = self.Y.drop(X_train_index)\n",
    "        self.Y_test = self.Y_test.sample(frac=1).reset_index(drop=True)\n",
    "        # tokenize x, y\n",
    "        self.X_train = self.tokenizer.texts_to_sequences(self.X_train.values)\n",
    "        #self.X = self.tokenizer.texts_to_sequences(df_text_ori)\n",
    "        self.X_train = pad_sequences(self.X_train, maxlen=MAX_SEQUENCE_LENGTH)\n",
    "\n",
    "        self.X_test = self.tokenizer.texts_to_sequences(self.X_test.values)\n",
    "        #self.X = self.tokenizer.texts_to_sequences(df_text_ori)\n",
    "        self.X_test = pad_sequences(self.X_test, maxlen=MAX_SEQUENCE_LENGTH)\n",
    "        print('X Shape of data tensor:', self.X_train.shape, self.X_test.shape)\n",
    "\n",
    "        # tokenize x, y ori \n",
    "        self.X_ori = self.tokenizer.texts_to_sequences(self.X_ori.values)\n",
    "        #self.X = self.tokenizer.texts_to_sequences(df_text_ori)\n",
    "        self.X_ori = pad_sequences(self.X_ori, maxlen=MAX_SEQUENCE_LENGTH)\n",
    "        print('X_ori Shape of data tensor:', self.X_train.shape, self.X_ori.shape)\n",
    "        self.Y_ori = pd.get_dummies(self.Y_ori).values\n",
    "        print('Shape of label tensor:', self.Y_ori.shape)\n",
    "\n",
    "        '''print('xori, yori: ', self.X_ori.shape, self.Y_ori.shape)\n",
    "        self.X_train_ori, self.X_test_ori, self.Y_train_ori, self.Y_test_ori = train_test_split(self.X_ori, self.Y_ori, test_size=0.2, random_state=42)'''\n",
    "        \n",
    "        '''self.Y_train = pd.get_dummies(self.Y_train).values\n",
    "        self.Y_test = pd.get_dummies(self.Y_test).values'''\n",
    "        print('Y Shape of label tensor:', self.Y_train.shape, self.Y_test.shape)\n",
    "\n",
    "        print('X train Shape of data tensor:', self.X_train.shape,'X test: ', self.X_test.shape)\n",
    "        print('Y Shape of label tensor:', self.Y_train.shape,'X test: ', self.Y_test.shape)\n",
    "        \n",
    "     \n",
    "    def set_model(self, topk_num = 5):\n",
    "        self.model = Sequential()\n",
    "        self.model.add(Embedding(MAX_NB_WORDS, EMBEDDING_DIM, input_length=self.X_train.shape[1]))\n",
    "        self.model.add(SpatialDropout1D(0.2))\n",
    "        self.model.add(LSTM(100, dropout=0.2, recurrent_dropout=0.2))\n",
    "        self.model.add(Dense(37, activation='sigmoid'))\n",
    "        self.model.compile(loss='categorical_crossentropy', optimizer='adam', metrics=[tf.keras.metrics.Recall(top_k = topk_num), 'accuracy'])\n",
    "    \n",
    "    def set_model_cnn(self, topk_num = 5):\n",
    "        model = Sequential()\n",
    "        model.add(Dense(20, input_dim=n_inputs, kernel_initializer='he_uniform', activation='relu'))\n",
    "        model.add(Dense(n_outputs, activation='sigmoid'))\n",
    "        model.compile(loss='binary_crossentropy', optimizer='adam')\n",
    "        return model\n",
    "\n",
    "    def run_model(self):\n",
    "        epochs = 20\n",
    "        batch_size = 64\n",
    "\n",
    "        self.history = self.model.fit(self.X_train, self.Y_train, epochs=epochs, batch_size=batch_size,validation_split=0.1,callbacks=[EarlyStopping(monitor='val_loss', patience=3, min_delta=0.0001)])\n",
    "    \n",
    "    def run_model_ori(self):\n",
    "        epochs = 5\n",
    "        batch_size = 64\n",
    "\n",
    "        self.history = self.model.fit(self.X_train_ori, self.Y_train_ori, epochs=epochs, batch_size=batch_size,validation_split=0.1,callbacks=[EarlyStopping(monitor='val_loss', patience=3, min_delta=0.0001)])\n",
    "    \n",
    "    def test_model(self):\n",
    "        self.accr = self.model.evaluate(self.X_test, self.Y_test)\n",
    "        print('Test set\\n Loss: {:0.3f}\\n Accuracy: {0.3f}'.format(self.accr[0], self.accr[1]))\n",
    "\n",
    "    def test_model_ori(self):\n",
    "        self.accr = self.model.evaluate(self.X_test_ori, self.Y_test_ori)\n",
    "        print('Test set\\n Loss: {:0.3f}\\n Accuracy: {0.3f}'.format(self.accr[0], self.accr[1]))\n"
   ]
  },
  {
   "cell_type": "code",
   "execution_count": 4,
   "metadata": {},
   "outputs": [
    {
     "name": "stdout",
     "output_type": "stream",
     "text": [
      "<class 'pandas.core.frame.DataFrame'>\n",
      "RangeIndex: 43064 entries, 0 to 43063\n",
      "Data columns (total 40 columns):\n",
      " #   Column                  Non-Null Count  Dtype \n",
      "---  ------                  --------------  ----- \n",
      " 0   text                    43064 non-null  object\n",
      " 1   labels                  43064 non-null  object\n",
      " 2   component               43064 non-null  object\n",
      " 3   auto-failover           43064 non-null  int64 \n",
      " 4   azure                   43064 non-null  int64 \n",
      " 5   benchmarks              43064 non-null  int64 \n",
      " 6   bin                     43064 non-null  int64 \n",
      " 7   build                   43064 non-null  int64 \n",
      " 8   conf                    43064 non-null  int64 \n",
      " 9   contrib/cloud           43064 non-null  int64 \n",
      " 10  contrib/eclipse-plugin  43064 non-null  int64 \n",
      " 11  contrib/hod             43064 non-null  int64 \n",
      " 12  contrib/serialization   43064 non-null  int64 \n",
      " 13  documentation           43064 non-null  int64 \n",
      " 14  filecache               43064 non-null  int64 \n",
      " 15  fs                      43064 non-null  int64 \n",
      " 16  fs/azure                43064 non-null  int64 \n",
      " 17  fs/s3                   43064 non-null  int64 \n",
      " 18  fs/swift                43064 non-null  int64 \n",
      " 19  ha                      43064 non-null  int64 \n",
      " 20  io                      43064 non-null  int64 \n",
      " 21  ipc                     43064 non-null  int64 \n",
      " 22  kms                     43064 non-null  int64 \n",
      " 23  metrics                 43064 non-null  int64 \n",
      " 24  native                  43064 non-null  int64 \n",
      " 25  net                     43064 non-null  int64 \n",
      " 26  nfs                     43064 non-null  int64 \n",
      " 27  performance             43064 non-null  int64 \n",
      " 28  record                  43064 non-null  int64 \n",
      " 29  scripts                 43064 non-null  int64 \n",
      " 30  security                43064 non-null  int64 \n",
      " 31  site                    43064 non-null  int64 \n",
      " 32  test                    43064 non-null  int64 \n",
      " 33  tools                   43064 non-null  int64 \n",
      " 34  tools/distcp            43064 non-null  int64 \n",
      " 35  tracing                 43064 non-null  int64 \n",
      " 36  trash                   43064 non-null  int64 \n",
      " 37  util                    43064 non-null  int64 \n",
      " 38  viewfs                  43064 non-null  int64 \n",
      " 39  yetus                   43064 non-null  int64 \n",
      "dtypes: int64(37), object(3)\n",
      "memory usage: 13.1+ MB\n",
      "None\n",
      "fs                      5712\n",
      "build                   4851\n",
      "security                4200\n",
      "test                    3318\n",
      "documentation           2996\n",
      "                        ... \n",
      "filecache,io,ipc           7\n",
      "filecache,fs               7\n",
      "ha,tools                   7\n",
      "conf,tools                 7\n",
      "fs,fs/swift,security       7\n",
      "Name: component, Length: 183, dtype: int64\n",
      "fs                        6300\n",
      "build                     5488\n",
      "security                  4417\n",
      "test                      3395\n",
      "documentation             3339\n",
      "ipc                       2625\n",
      "io                        2485\n",
      "conf                      2156\n",
      "scripts                   1862\n",
      "util                      1855\n",
      "fs/s3                     1624\n",
      "metrics                   1190\n",
      "native                     952\n",
      "contrib/hod                798\n",
      "yetus                      539\n",
      "tools                      497\n",
      "ha                         476\n",
      "kms                        336\n",
      "net                        301\n",
      "record                     301\n",
      "bin                        231\n",
      "contrib/cloud              224\n",
      "tools/distcp               196\n",
      "nfs                        182\n",
      "viewfs                     168\n",
      "fs/swift                   168\n",
      "auto-failover              161\n",
      "benchmarks                 147\n",
      "performance                119\n",
      "azure                      105\n",
      "contrib/eclipse-plugin      91\n",
      "filecache                   77\n",
      "site                        77\n",
      "tracing                     70\n",
      "fs/azure                    56\n",
      "trash                       42\n",
      "contrib/serialization       14\n",
      "Name: component, dtype: int64\n",
      "<class 'pandas.core.frame.DataFrame'>\n",
      "RangeIndex: 43064 entries, 0 to 43063\n",
      "Data columns (total 40 columns):\n",
      " #   Column                  Non-Null Count  Dtype \n",
      "---  ------                  --------------  ----- \n",
      " 0   text                    43064 non-null  object\n",
      " 1   labels                  43064 non-null  object\n",
      " 2   component               43064 non-null  object\n",
      " 3   auto-failover           43064 non-null  int64 \n",
      " 4   azure                   43064 non-null  int64 \n",
      " 5   benchmarks              43064 non-null  int64 \n",
      " 6   bin                     43064 non-null  int64 \n",
      " 7   build                   43064 non-null  int64 \n",
      " 8   conf                    43064 non-null  int64 \n",
      " 9   contrib/cloud           43064 non-null  int64 \n",
      " 10  contrib/eclipse-plugin  43064 non-null  int64 \n",
      " 11  contrib/hod             43064 non-null  int64 \n",
      " 12  contrib/serialization   43064 non-null  int64 \n",
      " 13  documentation           43064 non-null  int64 \n",
      " 14  filecache               43064 non-null  int64 \n",
      " 15  fs                      43064 non-null  int64 \n",
      " 16  fs/azure                43064 non-null  int64 \n",
      " 17  fs/s3                   43064 non-null  int64 \n",
      " 18  fs/swift                43064 non-null  int64 \n",
      " 19  ha                      43064 non-null  int64 \n",
      " 20  io                      43064 non-null  int64 \n",
      " 21  ipc                     43064 non-null  int64 \n",
      " 22  kms                     43064 non-null  int64 \n",
      " 23  metrics                 43064 non-null  int64 \n",
      " 24  native                  43064 non-null  int64 \n",
      " 25  net                     43064 non-null  int64 \n",
      " 26  nfs                     43064 non-null  int64 \n",
      " 27  performance             43064 non-null  int64 \n",
      " 28  record                  43064 non-null  int64 \n",
      " 29  scripts                 43064 non-null  int64 \n",
      " 30  security                43064 non-null  int64 \n",
      " 31  site                    43064 non-null  int64 \n",
      " 32  test                    43064 non-null  int64 \n",
      " 33  tools                   43064 non-null  int64 \n",
      " 34  tools/distcp            43064 non-null  int64 \n",
      " 35  tracing                 43064 non-null  int64 \n",
      " 36  trash                   43064 non-null  int64 \n",
      " 37  util                    43064 non-null  int64 \n",
      " 38  viewfs                  43064 non-null  int64 \n",
      " 39  yetus                   43064 non-null  int64 \n",
      "dtypes: int64(37), object(3)\n",
      "memory usage: 13.1+ MB\n",
      "None\n",
      "fs                      5712\n",
      "build                   4851\n",
      "security                4200\n",
      "test                    3318\n",
      "documentation           2996\n",
      "                        ... \n",
      "filecache,io,ipc           7\n",
      "filecache,fs               7\n",
      "ha,tools                   7\n",
      "conf,tools                 7\n",
      "fs,fs/swift,security       7\n",
      "Name: component, Length: 183, dtype: int64\n",
      "fs                        6300\n",
      "build                     5488\n",
      "security                  4417\n",
      "test                      3395\n",
      "documentation             3339\n",
      "ipc                       2625\n",
      "io                        2485\n",
      "conf                      2156\n",
      "scripts                   1862\n",
      "util                      1855\n",
      "fs/s3                     1624\n",
      "metrics                   1190\n",
      "native                     952\n",
      "contrib/hod                798\n",
      "yetus                      539\n",
      "tools                      497\n",
      "ha                         476\n",
      "kms                        336\n",
      "net                        301\n",
      "record                     301\n",
      "bin                        231\n",
      "contrib/cloud              224\n",
      "tools/distcp               196\n",
      "nfs                        182\n",
      "viewfs                     168\n",
      "fs/swift                   168\n",
      "auto-failover              161\n",
      "benchmarks                 147\n",
      "performance                119\n",
      "azure                      105\n",
      "contrib/eclipse-plugin      91\n",
      "filecache                   77\n",
      "site                        77\n",
      "tracing                     70\n",
      "fs/azure                    56\n",
      "trash                       42\n",
      "contrib/serialization       14\n",
      "Name: component, dtype: int64\n",
      "<class 'pandas.core.frame.DataFrame'>\n",
      "RangeIndex: 43064 entries, 0 to 43063\n",
      "Data columns (total 40 columns):\n",
      " #   Column                  Non-Null Count  Dtype \n",
      "---  ------                  --------------  ----- \n",
      " 0   text                    43064 non-null  object\n",
      " 1   labels                  43064 non-null  object\n",
      " 2   component               43064 non-null  object\n",
      " 3   auto-failover           43064 non-null  int64 \n",
      " 4   azure                   43064 non-null  int64 \n",
      " 5   benchmarks              43064 non-null  int64 \n",
      " 6   bin                     43064 non-null  int64 \n",
      " 7   build                   43064 non-null  int64 \n",
      " 8   conf                    43064 non-null  int64 \n",
      " 9   contrib/cloud           43064 non-null  int64 \n",
      " 10  contrib/eclipse-plugin  43064 non-null  int64 \n",
      " 11  contrib/hod             43064 non-null  int64 \n",
      " 12  contrib/serialization   43064 non-null  int64 \n",
      " 13  documentation           43064 non-null  int64 \n",
      " 14  filecache               43064 non-null  int64 \n",
      " 15  fs                      43064 non-null  int64 \n",
      " 16  fs/azure                43064 non-null  int64 \n",
      " 17  fs/s3                   43064 non-null  int64 \n",
      " 18  fs/swift                43064 non-null  int64 \n",
      " 19  ha                      43064 non-null  int64 \n",
      " 20  io                      43064 non-null  int64 \n",
      " 21  ipc                     43064 non-null  int64 \n",
      " 22  kms                     43064 non-null  int64 \n",
      " 23  metrics                 43064 non-null  int64 \n",
      " 24  native                  43064 non-null  int64 \n",
      " 25  net                     43064 non-null  int64 \n",
      " 26  nfs                     43064 non-null  int64 \n",
      " 27  performance             43064 non-null  int64 \n",
      " 28  record                  43064 non-null  int64 \n",
      " 29  scripts                 43064 non-null  int64 \n",
      " 30  security                43064 non-null  int64 \n",
      " 31  site                    43064 non-null  int64 \n",
      " 32  test                    43064 non-null  int64 \n",
      " 33  tools                   43064 non-null  int64 \n",
      " 34  tools/distcp            43064 non-null  int64 \n",
      " 35  tracing                 43064 non-null  int64 \n",
      " 36  trash                   43064 non-null  int64 \n",
      " 37  util                    43064 non-null  int64 \n",
      " 38  viewfs                  43064 non-null  int64 \n",
      " 39  yetus                   43064 non-null  int64 \n",
      "dtypes: int64(37), object(3)\n",
      "memory usage: 13.1+ MB\n",
      "None\n",
      "fs                      5712\n",
      "build                   4851\n",
      "security                4200\n",
      "test                    3318\n",
      "documentation           2996\n",
      "                        ... \n",
      "filecache,io,ipc           7\n",
      "filecache,fs               7\n",
      "ha,tools                   7\n",
      "conf,tools                 7\n",
      "fs,fs/swift,security       7\n",
      "Name: component, Length: 183, dtype: int64\n",
      "fs                        6300\n",
      "build                     5488\n",
      "security                  4417\n",
      "test                      3395\n",
      "documentation             3339\n",
      "ipc                       2625\n",
      "io                        2485\n",
      "conf                      2156\n",
      "scripts                   1862\n",
      "util                      1855\n",
      "fs/s3                     1624\n",
      "metrics                   1190\n",
      "native                     952\n",
      "contrib/hod                798\n",
      "yetus                      539\n",
      "tools                      497\n",
      "ha                         476\n",
      "kms                        336\n",
      "net                        301\n",
      "record                     301\n",
      "bin                        231\n",
      "contrib/cloud              224\n",
      "tools/distcp               196\n",
      "nfs                        182\n",
      "viewfs                     168\n",
      "fs/swift                   168\n",
      "auto-failover              161\n",
      "benchmarks                 147\n",
      "performance                119\n",
      "azure                      105\n",
      "contrib/eclipse-plugin      91\n",
      "filecache                   77\n",
      "site                        77\n",
      "tracing                     70\n",
      "fs/azure                    56\n",
      "trash                       42\n",
      "contrib/serialization       14\n",
      "Name: component, dtype: int64\n",
      "<class 'pandas.core.frame.DataFrame'>\n",
      "RangeIndex: 43064 entries, 0 to 43063\n",
      "Data columns (total 40 columns):\n",
      " #   Column                  Non-Null Count  Dtype \n",
      "---  ------                  --------------  ----- \n",
      " 0   text                    43064 non-null  object\n",
      " 1   labels                  43064 non-null  object\n",
      " 2   component               43064 non-null  object\n",
      " 3   auto-failover           43064 non-null  int64 \n",
      " 4   azure                   43064 non-null  int64 \n",
      " 5   benchmarks              43064 non-null  int64 \n",
      " 6   bin                     43064 non-null  int64 \n",
      " 7   build                   43064 non-null  int64 \n",
      " 8   conf                    43064 non-null  int64 \n",
      " 9   contrib/cloud           43064 non-null  int64 \n",
      " 10  contrib/eclipse-plugin  43064 non-null  int64 \n",
      " 11  contrib/hod             43064 non-null  int64 \n",
      " 12  contrib/serialization   43064 non-null  int64 \n",
      " 13  documentation           43064 non-null  int64 \n",
      " 14  filecache               43064 non-null  int64 \n",
      " 15  fs                      43064 non-null  int64 \n",
      " 16  fs/azure                43064 non-null  int64 \n",
      " 17  fs/s3                   43064 non-null  int64 \n",
      " 18  fs/swift                43064 non-null  int64 \n",
      " 19  ha                      43064 non-null  int64 \n",
      " 20  io                      43064 non-null  int64 \n",
      " 21  ipc                     43064 non-null  int64 \n",
      " 22  kms                     43064 non-null  int64 \n",
      " 23  metrics                 43064 non-null  int64 \n",
      " 24  native                  43064 non-null  int64 \n",
      " 25  net                     43064 non-null  int64 \n",
      " 26  nfs                     43064 non-null  int64 \n",
      " 27  performance             43064 non-null  int64 \n",
      " 28  record                  43064 non-null  int64 \n",
      " 29  scripts                 43064 non-null  int64 \n",
      " 30  security                43064 non-null  int64 \n",
      " 31  site                    43064 non-null  int64 \n",
      " 32  test                    43064 non-null  int64 \n",
      " 33  tools                   43064 non-null  int64 \n",
      " 34  tools/distcp            43064 non-null  int64 \n",
      " 35  tracing                 43064 non-null  int64 \n",
      " 36  trash                   43064 non-null  int64 \n",
      " 37  util                    43064 non-null  int64 \n",
      " 38  viewfs                  43064 non-null  int64 \n",
      " 39  yetus                   43064 non-null  int64 \n",
      "dtypes: int64(37), object(3)\n",
      "memory usage: 13.1+ MB\n",
      "None\n",
      "fs                      5712\n",
      "build                   4851\n",
      "security                4200\n",
      "test                    3318\n",
      "documentation           2996\n",
      "                        ... \n",
      "filecache,io,ipc           7\n",
      "filecache,fs               7\n",
      "ha,tools                   7\n",
      "conf,tools                 7\n",
      "fs,fs/swift,security       7\n",
      "Name: component, Length: 183, dtype: int64\n",
      "fs                        6300\n",
      "build                     5488\n",
      "security                  4417\n",
      "test                      3395\n",
      "documentation             3339\n",
      "ipc                       2625\n",
      "io                        2485\n",
      "conf                      2156\n",
      "scripts                   1862\n",
      "util                      1855\n",
      "fs/s3                     1624\n",
      "metrics                   1190\n",
      "native                     952\n",
      "contrib/hod                798\n",
      "yetus                      539\n",
      "tools                      497\n",
      "ha                         476\n",
      "kms                        336\n",
      "net                        301\n",
      "record                     301\n",
      "bin                        231\n",
      "contrib/cloud              224\n",
      "tools/distcp               196\n",
      "nfs                        182\n",
      "viewfs                     168\n",
      "fs/swift                   168\n",
      "auto-failover              161\n",
      "benchmarks                 147\n",
      "performance                119\n",
      "azure                      105\n",
      "contrib/eclipse-plugin      91\n",
      "filecache                   77\n",
      "site                        77\n",
      "tracing                     70\n",
      "fs/azure                    56\n",
      "trash                       42\n",
      "contrib/serialization       14\n",
      "Name: component, dtype: int64\n",
      "<class 'pandas.core.frame.DataFrame'>\n",
      "RangeIndex: 43064 entries, 0 to 43063\n",
      "Data columns (total 40 columns):\n",
      " #   Column                  Non-Null Count  Dtype \n",
      "---  ------                  --------------  ----- \n",
      " 0   text                    43064 non-null  object\n",
      " 1   labels                  43064 non-null  object\n",
      " 2   component               43064 non-null  object\n",
      " 3   auto-failover           43064 non-null  int64 \n",
      " 4   azure                   43064 non-null  int64 \n",
      " 5   benchmarks              43064 non-null  int64 \n",
      " 6   bin                     43064 non-null  int64 \n",
      " 7   build                   43064 non-null  int64 \n",
      " 8   conf                    43064 non-null  int64 \n",
      " 9   contrib/cloud           43064 non-null  int64 \n",
      " 10  contrib/eclipse-plugin  43064 non-null  int64 \n",
      " 11  contrib/hod             43064 non-null  int64 \n",
      " 12  contrib/serialization   43064 non-null  int64 \n",
      " 13  documentation           43064 non-null  int64 \n",
      " 14  filecache               43064 non-null  int64 \n",
      " 15  fs                      43064 non-null  int64 \n",
      " 16  fs/azure                43064 non-null  int64 \n",
      " 17  fs/s3                   43064 non-null  int64 \n",
      " 18  fs/swift                43064 non-null  int64 \n",
      " 19  ha                      43064 non-null  int64 \n",
      " 20  io                      43064 non-null  int64 \n",
      " 21  ipc                     43064 non-null  int64 \n",
      " 22  kms                     43064 non-null  int64 \n",
      " 23  metrics                 43064 non-null  int64 \n",
      " 24  native                  43064 non-null  int64 \n",
      " 25  net                     43064 non-null  int64 \n",
      " 26  nfs                     43064 non-null  int64 \n",
      " 27  performance             43064 non-null  int64 \n",
      " 28  record                  43064 non-null  int64 \n",
      " 29  scripts                 43064 non-null  int64 \n",
      " 30  security                43064 non-null  int64 \n",
      " 31  site                    43064 non-null  int64 \n",
      " 32  test                    43064 non-null  int64 \n",
      " 33  tools                   43064 non-null  int64 \n",
      " 34  tools/distcp            43064 non-null  int64 \n",
      " 35  tracing                 43064 non-null  int64 \n",
      " 36  trash                   43064 non-null  int64 \n",
      " 37  util                    43064 non-null  int64 \n",
      " 38  viewfs                  43064 non-null  int64 \n",
      " 39  yetus                   43064 non-null  int64 \n",
      "dtypes: int64(37), object(3)\n",
      "memory usage: 13.1+ MB\n",
      "None\n",
      "fs                      5712\n",
      "build                   4851\n",
      "security                4200\n",
      "test                    3318\n",
      "documentation           2996\n",
      "                        ... \n",
      "filecache,io,ipc           7\n",
      "filecache,fs               7\n",
      "ha,tools                   7\n",
      "conf,tools                 7\n",
      "fs,fs/swift,security       7\n",
      "Name: component, Length: 183, dtype: int64\n",
      "fs                        6300\n",
      "build                     5488\n",
      "security                  4417\n",
      "test                      3395\n",
      "documentation             3339\n",
      "ipc                       2625\n",
      "io                        2485\n",
      "conf                      2156\n",
      "scripts                   1862\n",
      "util                      1855\n",
      "fs/s3                     1624\n",
      "metrics                   1190\n",
      "native                     952\n",
      "contrib/hod                798\n",
      "yetus                      539\n",
      "tools                      497\n",
      "ha                         476\n",
      "kms                        336\n",
      "net                        301\n",
      "record                     301\n",
      "bin                        231\n",
      "contrib/cloud              224\n",
      "tools/distcp               196\n",
      "nfs                        182\n",
      "viewfs                     168\n",
      "fs/swift                   168\n",
      "auto-failover              161\n",
      "benchmarks                 147\n",
      "performance                119\n",
      "azure                      105\n",
      "contrib/eclipse-plugin      91\n",
      "filecache                   77\n",
      "site                        77\n",
      "tracing                     70\n",
      "fs/azure                    56\n",
      "trash                       42\n",
      "contrib/serialization       14\n",
      "Name: component, dtype: int64\n",
      "<class 'pandas.core.frame.DataFrame'>\n",
      "RangeIndex: 43064 entries, 0 to 43063\n",
      "Data columns (total 40 columns):\n",
      " #   Column                  Non-Null Count  Dtype \n",
      "---  ------                  --------------  ----- \n",
      " 0   text                    43064 non-null  object\n",
      " 1   labels                  43064 non-null  object\n",
      " 2   component               43064 non-null  object\n",
      " 3   auto-failover           43064 non-null  int64 \n",
      " 4   azure                   43064 non-null  int64 \n",
      " 5   benchmarks              43064 non-null  int64 \n",
      " 6   bin                     43064 non-null  int64 \n",
      " 7   build                   43064 non-null  int64 \n",
      " 8   conf                    43064 non-null  int64 \n",
      " 9   contrib/cloud           43064 non-null  int64 \n",
      " 10  contrib/eclipse-plugin  43064 non-null  int64 \n",
      " 11  contrib/hod             43064 non-null  int64 \n",
      " 12  contrib/serialization   43064 non-null  int64 \n",
      " 13  documentation           43064 non-null  int64 \n",
      " 14  filecache               43064 non-null  int64 \n",
      " 15  fs                      43064 non-null  int64 \n",
      " 16  fs/azure                43064 non-null  int64 \n",
      " 17  fs/s3                   43064 non-null  int64 \n",
      " 18  fs/swift                43064 non-null  int64 \n",
      " 19  ha                      43064 non-null  int64 \n",
      " 20  io                      43064 non-null  int64 \n",
      " 21  ipc                     43064 non-null  int64 \n",
      " 22  kms                     43064 non-null  int64 \n",
      " 23  metrics                 43064 non-null  int64 \n",
      " 24  native                  43064 non-null  int64 \n",
      " 25  net                     43064 non-null  int64 \n",
      " 26  nfs                     43064 non-null  int64 \n",
      " 27  performance             43064 non-null  int64 \n",
      " 28  record                  43064 non-null  int64 \n",
      " 29  scripts                 43064 non-null  int64 \n",
      " 30  security                43064 non-null  int64 \n",
      " 31  site                    43064 non-null  int64 \n",
      " 32  test                    43064 non-null  int64 \n",
      " 33  tools                   43064 non-null  int64 \n",
      " 34  tools/distcp            43064 non-null  int64 \n",
      " 35  tracing                 43064 non-null  int64 \n",
      " 36  trash                   43064 non-null  int64 \n",
      " 37  util                    43064 non-null  int64 \n",
      " 38  viewfs                  43064 non-null  int64 \n",
      " 39  yetus                   43064 non-null  int64 \n",
      "dtypes: int64(37), object(3)\n",
      "memory usage: 13.1+ MB\n",
      "None\n",
      "fs                      5712\n",
      "build                   4851\n",
      "security                4200\n",
      "test                    3318\n",
      "documentation           2996\n",
      "                        ... \n",
      "filecache,io,ipc           7\n",
      "filecache,fs               7\n",
      "ha,tools                   7\n",
      "conf,tools                 7\n",
      "fs,fs/swift,security       7\n",
      "Name: component, Length: 183, dtype: int64\n",
      "fs                        6300\n",
      "build                     5488\n",
      "security                  4417\n",
      "test                      3395\n",
      "documentation             3339\n",
      "ipc                       2625\n",
      "io                        2485\n",
      "conf                      2156\n",
      "scripts                   1862\n",
      "util                      1855\n",
      "fs/s3                     1624\n",
      "metrics                   1190\n",
      "native                     952\n",
      "contrib/hod                798\n",
      "yetus                      539\n",
      "tools                      497\n",
      "ha                         476\n",
      "kms                        336\n",
      "net                        301\n",
      "record                     301\n",
      "bin                        231\n",
      "contrib/cloud              224\n",
      "tools/distcp               196\n",
      "nfs                        182\n",
      "viewfs                     168\n",
      "fs/swift                   168\n",
      "auto-failover              161\n",
      "benchmarks                 147\n",
      "performance                119\n",
      "azure                      105\n",
      "contrib/eclipse-plugin      91\n",
      "filecache                   77\n",
      "site                        77\n",
      "tracing                     70\n",
      "fs/azure                    56\n",
      "trash                       42\n",
      "contrib/serialization       14\n",
      "Name: component, dtype: int64\n",
      "<class 'pandas.core.frame.DataFrame'>\n",
      "RangeIndex: 43064 entries, 0 to 43063\n",
      "Data columns (total 40 columns):\n",
      " #   Column                  Non-Null Count  Dtype \n",
      "---  ------                  --------------  ----- \n",
      " 0   text                    43064 non-null  object\n",
      " 1   labels                  43064 non-null  object\n",
      " 2   component               43064 non-null  object\n",
      " 3   auto-failover           43064 non-null  int64 \n",
      " 4   azure                   43064 non-null  int64 \n",
      " 5   benchmarks              43064 non-null  int64 \n",
      " 6   bin                     43064 non-null  int64 \n",
      " 7   build                   43064 non-null  int64 \n",
      " 8   conf                    43064 non-null  int64 \n",
      " 9   contrib/cloud           43064 non-null  int64 \n",
      " 10  contrib/eclipse-plugin  43064 non-null  int64 \n",
      " 11  contrib/hod             43064 non-null  int64 \n",
      " 12  contrib/serialization   43064 non-null  int64 \n",
      " 13  documentation           43064 non-null  int64 \n",
      " 14  filecache               43064 non-null  int64 \n",
      " 15  fs                      43064 non-null  int64 \n",
      " 16  fs/azure                43064 non-null  int64 \n",
      " 17  fs/s3                   43064 non-null  int64 \n",
      " 18  fs/swift                43064 non-null  int64 \n",
      " 19  ha                      43064 non-null  int64 \n",
      " 20  io                      43064 non-null  int64 \n",
      " 21  ipc                     43064 non-null  int64 \n",
      " 22  kms                     43064 non-null  int64 \n",
      " 23  metrics                 43064 non-null  int64 \n",
      " 24  native                  43064 non-null  int64 \n",
      " 25  net                     43064 non-null  int64 \n",
      " 26  nfs                     43064 non-null  int64 \n",
      " 27  performance             43064 non-null  int64 \n",
      " 28  record                  43064 non-null  int64 \n",
      " 29  scripts                 43064 non-null  int64 \n",
      " 30  security                43064 non-null  int64 \n",
      " 31  site                    43064 non-null  int64 \n",
      " 32  test                    43064 non-null  int64 \n",
      " 33  tools                   43064 non-null  int64 \n",
      " 34  tools/distcp            43064 non-null  int64 \n",
      " 35  tracing                 43064 non-null  int64 \n",
      " 36  trash                   43064 non-null  int64 \n",
      " 37  util                    43064 non-null  int64 \n",
      " 38  viewfs                  43064 non-null  int64 \n",
      " 39  yetus                   43064 non-null  int64 \n",
      "dtypes: int64(37), object(3)\n",
      "memory usage: 13.1+ MB\n",
      "None\n",
      "fs                      5712\n",
      "build                   4851\n",
      "security                4200\n",
      "test                    3318\n",
      "documentation           2996\n",
      "                        ... \n",
      "filecache,io,ipc           7\n",
      "filecache,fs               7\n",
      "ha,tools                   7\n",
      "conf,tools                 7\n",
      "fs,fs/swift,security       7\n",
      "Name: component, Length: 183, dtype: int64\n",
      "fs                        6300\n",
      "build                     5488\n",
      "security                  4417\n",
      "test                      3395\n",
      "documentation             3339\n",
      "ipc                       2625\n",
      "io                        2485\n",
      "conf                      2156\n",
      "scripts                   1862\n",
      "util                      1855\n",
      "fs/s3                     1624\n",
      "metrics                   1190\n",
      "native                     952\n",
      "contrib/hod                798\n",
      "yetus                      539\n",
      "tools                      497\n",
      "ha                         476\n",
      "kms                        336\n",
      "net                        301\n",
      "record                     301\n",
      "bin                        231\n",
      "contrib/cloud              224\n",
      "tools/distcp               196\n",
      "nfs                        182\n",
      "viewfs                     168\n",
      "fs/swift                   168\n",
      "auto-failover              161\n",
      "benchmarks                 147\n",
      "performance                119\n",
      "azure                      105\n",
      "contrib/eclipse-plugin      91\n",
      "filecache                   77\n",
      "site                        77\n",
      "tracing                     70\n",
      "fs/azure                    56\n",
      "trash                       42\n",
      "contrib/serialization       14\n",
      "Name: component, dtype: int64\n",
      "<class 'pandas.core.frame.DataFrame'>\n",
      "RangeIndex: 43064 entries, 0 to 43063\n",
      "Data columns (total 40 columns):\n",
      " #   Column                  Non-Null Count  Dtype \n",
      "---  ------                  --------------  ----- \n",
      " 0   text                    43064 non-null  object\n",
      " 1   labels                  43064 non-null  object\n",
      " 2   component               43064 non-null  object\n",
      " 3   auto-failover           43064 non-null  int64 \n",
      " 4   azure                   43064 non-null  int64 \n",
      " 5   benchmarks              43064 non-null  int64 \n",
      " 6   bin                     43064 non-null  int64 \n",
      " 7   build                   43064 non-null  int64 \n",
      " 8   conf                    43064 non-null  int64 \n",
      " 9   contrib/cloud           43064 non-null  int64 \n",
      " 10  contrib/eclipse-plugin  43064 non-null  int64 \n",
      " 11  contrib/hod             43064 non-null  int64 \n",
      " 12  contrib/serialization   43064 non-null  int64 \n",
      " 13  documentation           43064 non-null  int64 \n",
      " 14  filecache               43064 non-null  int64 \n",
      " 15  fs                      43064 non-null  int64 \n",
      " 16  fs/azure                43064 non-null  int64 \n",
      " 17  fs/s3                   43064 non-null  int64 \n",
      " 18  fs/swift                43064 non-null  int64 \n",
      " 19  ha                      43064 non-null  int64 \n",
      " 20  io                      43064 non-null  int64 \n",
      " 21  ipc                     43064 non-null  int64 \n",
      " 22  kms                     43064 non-null  int64 \n",
      " 23  metrics                 43064 non-null  int64 \n",
      " 24  native                  43064 non-null  int64 \n",
      " 25  net                     43064 non-null  int64 \n",
      " 26  nfs                     43064 non-null  int64 \n",
      " 27  performance             43064 non-null  int64 \n",
      " 28  record                  43064 non-null  int64 \n",
      " 29  scripts                 43064 non-null  int64 \n",
      " 30  security                43064 non-null  int64 \n",
      " 31  site                    43064 non-null  int64 \n",
      " 32  test                    43064 non-null  int64 \n",
      " 33  tools                   43064 non-null  int64 \n",
      " 34  tools/distcp            43064 non-null  int64 \n",
      " 35  tracing                 43064 non-null  int64 \n",
      " 36  trash                   43064 non-null  int64 \n",
      " 37  util                    43064 non-null  int64 \n",
      " 38  viewfs                  43064 non-null  int64 \n",
      " 39  yetus                   43064 non-null  int64 \n",
      "dtypes: int64(37), object(3)\n",
      "memory usage: 13.1+ MB\n",
      "None\n",
      "fs                      5712\n",
      "build                   4851\n",
      "security                4200\n",
      "test                    3318\n",
      "documentation           2996\n",
      "                        ... \n",
      "filecache,io,ipc           7\n",
      "filecache,fs               7\n",
      "ha,tools                   7\n",
      "conf,tools                 7\n",
      "fs,fs/swift,security       7\n",
      "Name: component, Length: 183, dtype: int64\n",
      "fs                        6300\n",
      "build                     5488\n",
      "security                  4417\n",
      "test                      3395\n",
      "documentation             3339\n",
      "ipc                       2625\n",
      "io                        2485\n",
      "conf                      2156\n",
      "scripts                   1862\n",
      "util                      1855\n",
      "fs/s3                     1624\n",
      "metrics                   1190\n",
      "native                     952\n",
      "contrib/hod                798\n",
      "yetus                      539\n",
      "tools                      497\n",
      "ha                         476\n",
      "kms                        336\n",
      "net                        301\n",
      "record                     301\n",
      "bin                        231\n",
      "contrib/cloud              224\n",
      "tools/distcp               196\n",
      "nfs                        182\n",
      "viewfs                     168\n",
      "fs/swift                   168\n",
      "auto-failover              161\n",
      "benchmarks                 147\n",
      "performance                119\n",
      "azure                      105\n",
      "contrib/eclipse-plugin      91\n",
      "filecache                   77\n",
      "site                        77\n",
      "tracing                     70\n",
      "fs/azure                    56\n",
      "trash                       42\n",
      "contrib/serialization       14\n",
      "Name: component, dtype: int64\n"
     ]
    }
   ],
   "source": [
    "dataloc1 = \"data/hadoop/HADOOP_char_Keyboard_ori.csv\"\n",
    "dataloc2 = \"data/hadoop/HADOOP_char_OCR_ori.csv\"\n",
    "dataloc3 = \"data/hadoop/HADOOP_word_Antonym_ori.csv\"\n",
    "dataloc4 = \"data/hadoop/HADOOP_word_Spelling_ori.csv\"\n",
    "dataloc5 = \"data/hadoop/HADOOP_word_Split_ori.csv\"\n",
    "dataloc6 = \"data/hadoop/HADOOP_word_Synonym_ori.csv\"\n",
    "dataloc7 = \"data/hadoop/HADOOP_word_TfidfAug_ori.csv\"\n",
    "dataloc8 = \"data/hadoop/HADOOP_word_ContextualWordEmbs_ori.csv\"\n",
    "\n",
    "pius_word1 = Lstm_issue(dataloc1)\n",
    "pius_word2 = Lstm_issue(dataloc2)\n",
    "pius_word3 = Lstm_issue(dataloc3)\n",
    "pius_word4 = Lstm_issue(dataloc4)\n",
    "pius_word5 = Lstm_issue(dataloc5)\n",
    "pius_word6 = Lstm_issue(dataloc6)\n",
    "pius_word7 = Lstm_issue(dataloc7)\n",
    "pius_word8 = Lstm_issue(dataloc8)"
   ]
  },
  {
   "cell_type": "code",
   "execution_count": 5,
   "metadata": {},
   "outputs": [
    {
     "name": "stdout",
     "output_type": "stream",
     "text": [
      "<class 'pandas.core.frame.DataFrame'>\n",
      "RangeIndex: 43064 entries, 0 to 43063\n",
      "Data columns (total 40 columns):\n",
      " #   Column                  Non-Null Count  Dtype \n",
      "---  ------                  --------------  ----- \n",
      " 0   text                    43064 non-null  object\n",
      " 1   labels                  43064 non-null  object\n",
      " 2   component               43064 non-null  object\n",
      " 3   auto-failover           43064 non-null  int64 \n",
      " 4   azure                   43064 non-null  int64 \n",
      " 5   benchmarks              43064 non-null  int64 \n",
      " 6   bin                     43064 non-null  int64 \n",
      " 7   build                   43064 non-null  int64 \n",
      " 8   conf                    43064 non-null  int64 \n",
      " 9   contrib/cloud           43064 non-null  int64 \n",
      " 10  contrib/eclipse-plugin  43064 non-null  int64 \n",
      " 11  contrib/hod             43064 non-null  int64 \n",
      " 12  contrib/serialization   43064 non-null  int64 \n",
      " 13  documentation           43064 non-null  int64 \n",
      " 14  filecache               43064 non-null  int64 \n",
      " 15  fs                      43064 non-null  int64 \n",
      " 16  fs/azure                43064 non-null  int64 \n",
      " 17  fs/s3                   43064 non-null  int64 \n",
      " 18  fs/swift                43064 non-null  int64 \n",
      " 19  ha                      43064 non-null  int64 \n",
      " 20  io                      43064 non-null  int64 \n",
      " 21  ipc                     43064 non-null  int64 \n",
      " 22  kms                     43064 non-null  int64 \n",
      " 23  metrics                 43064 non-null  int64 \n",
      " 24  native                  43064 non-null  int64 \n",
      " 25  net                     43064 non-null  int64 \n",
      " 26  nfs                     43064 non-null  int64 \n",
      " 27  performance             43064 non-null  int64 \n",
      " 28  record                  43064 non-null  int64 \n",
      " 29  scripts                 43064 non-null  int64 \n",
      " 30  security                43064 non-null  int64 \n",
      " 31  site                    43064 non-null  int64 \n",
      " 32  test                    43064 non-null  int64 \n",
      " 33  tools                   43064 non-null  int64 \n",
      " 34  tools/distcp            43064 non-null  int64 \n",
      " 35  tracing                 43064 non-null  int64 \n",
      " 36  trash                   43064 non-null  int64 \n",
      " 37  util                    43064 non-null  int64 \n",
      " 38  viewfs                  43064 non-null  int64 \n",
      " 39  yetus                   43064 non-null  int64 \n",
      "dtypes: int64(37), object(3)\n",
      "memory usage: 13.1+ MB\n",
      "None\n",
      "fs                      5712\n",
      "build                   4851\n",
      "security                4200\n",
      "test                    3318\n",
      "documentation           2996\n",
      "                        ... \n",
      "filecache,io,ipc           7\n",
      "filecache,fs               7\n",
      "ha,tools                   7\n",
      "conf,tools                 7\n",
      "fs,fs/swift,security       7\n",
      "Name: component, Length: 183, dtype: int64\n",
      "fs                        6300\n",
      "build                     5488\n",
      "security                  4417\n",
      "test                      3395\n",
      "documentation             3339\n",
      "ipc                       2625\n",
      "io                        2485\n",
      "conf                      2156\n",
      "scripts                   1862\n",
      "util                      1855\n",
      "fs/s3                     1624\n",
      "metrics                   1190\n",
      "native                     952\n",
      "contrib/hod                798\n",
      "yetus                      539\n",
      "tools                      497\n",
      "ha                         476\n",
      "kms                        336\n",
      "net                        301\n",
      "record                     301\n",
      "bin                        231\n",
      "contrib/cloud              224\n",
      "tools/distcp               196\n",
      "nfs                        182\n",
      "viewfs                     168\n",
      "fs/swift                   168\n",
      "auto-failover              161\n",
      "benchmarks                 147\n",
      "performance                119\n",
      "azure                      105\n",
      "contrib/eclipse-plugin      91\n",
      "filecache                   77\n",
      "site                        77\n",
      "tracing                     70\n",
      "fs/azure                    56\n",
      "trash                       42\n",
      "contrib/serialization       14\n",
      "Name: component, dtype: int64\n"
     ]
    },
    {
     "name": "stderr",
     "output_type": "stream",
     "text": [
      "D:\\Users\\PiusHwang\\anaconda3\\lib\\site-packages\\ipykernel_launcher.py:52: FutureWarning:\n",
      "\n",
      "The default value of regex will change from True to False in a future version.\n",
      "\n"
     ]
    },
    {
     "name": "stdout",
     "output_type": "stream",
     "text": [
      "Found 23181 unique tokens.\n",
      "X Shape of data tensor: (40602, 250) (2462, 250)\n",
      "X_ori Shape of data tensor: (40602, 250) (4921, 250)\n",
      "Shape of label tensor: (1231, 92)\n",
      "Y Shape of label tensor: (40602, 37) (2462, 37)\n",
      "X train Shape of data tensor: (40602, 250) X test:  (2462, 250)\n",
      "Y Shape of label tensor: (40602, 37) X test:  (2462, 37)\n",
      "WARNING:tensorflow:Layer lstm will not use cuDNN kernels since it doesn't meet the criteria. It will use a generic GPU kernel as fallback when running on GPU.\n",
      "Epoch 1/20\n",
      "  7/571 [..............................] - ETA: 18:33 - loss: 4.0491 - recall: 0.3274 - accuracy: 0.0692"
     ]
    },
    {
     "ename": "KeyboardInterrupt",
     "evalue": "",
     "output_type": "error",
     "traceback": [
      "\u001b[1;31m---------------------------------------------------------------------------\u001b[0m",
      "\u001b[1;31mKeyboardInterrupt\u001b[0m                         Traceback (most recent call last)",
      "\u001b[1;32m<ipython-input-5-142d6d0695bd>\u001b[0m in \u001b[0;36m<module>\u001b[1;34m\u001b[0m\n\u001b[0;32m     11\u001b[0m \u001b[1;32mfor\u001b[0m \u001b[0mtopk\u001b[0m \u001b[1;32min\u001b[0m \u001b[0mlist\u001b[0m\u001b[1;33m(\u001b[0m\u001b[0mrange\u001b[0m\u001b[1;33m(\u001b[0m\u001b[1;36m5\u001b[0m\u001b[1;33m,\u001b[0m \u001b[1;36m16\u001b[0m\u001b[1;33m,\u001b[0m \u001b[1;36m5\u001b[0m\u001b[1;33m)\u001b[0m\u001b[1;33m)\u001b[0m\u001b[1;33m:\u001b[0m\u001b[1;33m\u001b[0m\u001b[1;33m\u001b[0m\u001b[0m\n\u001b[0;32m     12\u001b[0m     \u001b[0mpius_word8\u001b[0m\u001b[1;33m.\u001b[0m\u001b[0mset_model\u001b[0m\u001b[1;33m(\u001b[0m\u001b[0mtopk_num\u001b[0m\u001b[1;33m=\u001b[0m\u001b[0mtopk\u001b[0m\u001b[1;33m)\u001b[0m\u001b[1;33m\u001b[0m\u001b[1;33m\u001b[0m\u001b[0m\n\u001b[1;32m---> 13\u001b[1;33m     \u001b[0mpius_word8\u001b[0m\u001b[1;33m.\u001b[0m\u001b[0mrun_model\u001b[0m\u001b[1;33m(\u001b[0m\u001b[1;33m)\u001b[0m\u001b[1;33m\u001b[0m\u001b[1;33m\u001b[0m\u001b[0m\n\u001b[0m\u001b[0;32m     14\u001b[0m \u001b[1;33m\u001b[0m\u001b[0m\n\u001b[0;32m     15\u001b[0m     \u001b[0maccr\u001b[0m \u001b[1;33m=\u001b[0m \u001b[0mpius_word8\u001b[0m\u001b[1;33m.\u001b[0m\u001b[0mmodel\u001b[0m\u001b[1;33m.\u001b[0m\u001b[0mevaluate\u001b[0m\u001b[1;33m(\u001b[0m\u001b[0mpius_word8\u001b[0m\u001b[1;33m.\u001b[0m\u001b[0mX_test\u001b[0m\u001b[1;33m,\u001b[0m \u001b[0mpius_word8\u001b[0m\u001b[1;33m.\u001b[0m\u001b[0mY_test\u001b[0m\u001b[1;33m)\u001b[0m\u001b[1;33m\u001b[0m\u001b[1;33m\u001b[0m\u001b[0m\n",
      "\u001b[1;32m<ipython-input-3-e72bbf55707e>\u001b[0m in \u001b[0;36mrun_model\u001b[1;34m(self)\u001b[0m\n\u001b[0;32m    144\u001b[0m         \u001b[0mbatch_size\u001b[0m \u001b[1;33m=\u001b[0m \u001b[1;36m64\u001b[0m\u001b[1;33m\u001b[0m\u001b[1;33m\u001b[0m\u001b[0m\n\u001b[0;32m    145\u001b[0m \u001b[1;33m\u001b[0m\u001b[0m\n\u001b[1;32m--> 146\u001b[1;33m         \u001b[0mself\u001b[0m\u001b[1;33m.\u001b[0m\u001b[0mhistory\u001b[0m \u001b[1;33m=\u001b[0m \u001b[0mself\u001b[0m\u001b[1;33m.\u001b[0m\u001b[0mmodel\u001b[0m\u001b[1;33m.\u001b[0m\u001b[0mfit\u001b[0m\u001b[1;33m(\u001b[0m\u001b[0mself\u001b[0m\u001b[1;33m.\u001b[0m\u001b[0mX_train\u001b[0m\u001b[1;33m,\u001b[0m \u001b[0mself\u001b[0m\u001b[1;33m.\u001b[0m\u001b[0mY_train\u001b[0m\u001b[1;33m,\u001b[0m \u001b[0mepochs\u001b[0m\u001b[1;33m=\u001b[0m\u001b[0mepochs\u001b[0m\u001b[1;33m,\u001b[0m \u001b[0mbatch_size\u001b[0m\u001b[1;33m=\u001b[0m\u001b[0mbatch_size\u001b[0m\u001b[1;33m,\u001b[0m\u001b[0mvalidation_split\u001b[0m\u001b[1;33m=\u001b[0m\u001b[1;36m0.1\u001b[0m\u001b[1;33m,\u001b[0m\u001b[0mcallbacks\u001b[0m\u001b[1;33m=\u001b[0m\u001b[1;33m[\u001b[0m\u001b[0mEarlyStopping\u001b[0m\u001b[1;33m(\u001b[0m\u001b[0mmonitor\u001b[0m\u001b[1;33m=\u001b[0m\u001b[1;34m'val_loss'\u001b[0m\u001b[1;33m,\u001b[0m \u001b[0mpatience\u001b[0m\u001b[1;33m=\u001b[0m\u001b[1;36m3\u001b[0m\u001b[1;33m,\u001b[0m \u001b[0mmin_delta\u001b[0m\u001b[1;33m=\u001b[0m\u001b[1;36m0.0001\u001b[0m\u001b[1;33m)\u001b[0m\u001b[1;33m]\u001b[0m\u001b[1;33m)\u001b[0m\u001b[1;33m\u001b[0m\u001b[1;33m\u001b[0m\u001b[0m\n\u001b[0m\u001b[0;32m    147\u001b[0m \u001b[1;33m\u001b[0m\u001b[0m\n\u001b[0;32m    148\u001b[0m     \u001b[1;32mdef\u001b[0m \u001b[0mrun_model_ori\u001b[0m\u001b[1;33m(\u001b[0m\u001b[0mself\u001b[0m\u001b[1;33m)\u001b[0m\u001b[1;33m:\u001b[0m\u001b[1;33m\u001b[0m\u001b[1;33m\u001b[0m\u001b[0m\n",
      "\u001b[1;32mD:\\Users\\PiusHwang\\anaconda3\\lib\\site-packages\\keras\\utils\\traceback_utils.py\u001b[0m in \u001b[0;36merror_handler\u001b[1;34m(*args, **kwargs)\u001b[0m\n\u001b[0;32m     62\u001b[0m     \u001b[0mfiltered_tb\u001b[0m \u001b[1;33m=\u001b[0m \u001b[1;32mNone\u001b[0m\u001b[1;33m\u001b[0m\u001b[1;33m\u001b[0m\u001b[0m\n\u001b[0;32m     63\u001b[0m     \u001b[1;32mtry\u001b[0m\u001b[1;33m:\u001b[0m\u001b[1;33m\u001b[0m\u001b[1;33m\u001b[0m\u001b[0m\n\u001b[1;32m---> 64\u001b[1;33m       \u001b[1;32mreturn\u001b[0m \u001b[0mfn\u001b[0m\u001b[1;33m(\u001b[0m\u001b[1;33m*\u001b[0m\u001b[0margs\u001b[0m\u001b[1;33m,\u001b[0m \u001b[1;33m**\u001b[0m\u001b[0mkwargs\u001b[0m\u001b[1;33m)\u001b[0m\u001b[1;33m\u001b[0m\u001b[1;33m\u001b[0m\u001b[0m\n\u001b[0m\u001b[0;32m     65\u001b[0m     \u001b[1;32mexcept\u001b[0m \u001b[0mException\u001b[0m \u001b[1;32mas\u001b[0m \u001b[0me\u001b[0m\u001b[1;33m:\u001b[0m  \u001b[1;31m# pylint: disable=broad-except\u001b[0m\u001b[1;33m\u001b[0m\u001b[1;33m\u001b[0m\u001b[0m\n\u001b[0;32m     66\u001b[0m       \u001b[0mfiltered_tb\u001b[0m \u001b[1;33m=\u001b[0m \u001b[0m_process_traceback_frames\u001b[0m\u001b[1;33m(\u001b[0m\u001b[0me\u001b[0m\u001b[1;33m.\u001b[0m\u001b[0m__traceback__\u001b[0m\u001b[1;33m)\u001b[0m\u001b[1;33m\u001b[0m\u001b[1;33m\u001b[0m\u001b[0m\n",
      "\u001b[1;32mD:\\Users\\PiusHwang\\anaconda3\\lib\\site-packages\\keras\\engine\\training.py\u001b[0m in \u001b[0;36mfit\u001b[1;34m(self, x, y, batch_size, epochs, verbose, callbacks, validation_split, validation_data, shuffle, class_weight, sample_weight, initial_epoch, steps_per_epoch, validation_steps, validation_batch_size, validation_freq, max_queue_size, workers, use_multiprocessing)\u001b[0m\n\u001b[0;32m   1214\u001b[0m                 _r=1):\n\u001b[0;32m   1215\u001b[0m               \u001b[0mcallbacks\u001b[0m\u001b[1;33m.\u001b[0m\u001b[0mon_train_batch_begin\u001b[0m\u001b[1;33m(\u001b[0m\u001b[0mstep\u001b[0m\u001b[1;33m)\u001b[0m\u001b[1;33m\u001b[0m\u001b[1;33m\u001b[0m\u001b[0m\n\u001b[1;32m-> 1216\u001b[1;33m               \u001b[0mtmp_logs\u001b[0m \u001b[1;33m=\u001b[0m \u001b[0mself\u001b[0m\u001b[1;33m.\u001b[0m\u001b[0mtrain_function\u001b[0m\u001b[1;33m(\u001b[0m\u001b[0miterator\u001b[0m\u001b[1;33m)\u001b[0m\u001b[1;33m\u001b[0m\u001b[1;33m\u001b[0m\u001b[0m\n\u001b[0m\u001b[0;32m   1217\u001b[0m               \u001b[1;32mif\u001b[0m \u001b[0mdata_handler\u001b[0m\u001b[1;33m.\u001b[0m\u001b[0mshould_sync\u001b[0m\u001b[1;33m:\u001b[0m\u001b[1;33m\u001b[0m\u001b[1;33m\u001b[0m\u001b[0m\n\u001b[0;32m   1218\u001b[0m                 \u001b[0mcontext\u001b[0m\u001b[1;33m.\u001b[0m\u001b[0masync_wait\u001b[0m\u001b[1;33m(\u001b[0m\u001b[1;33m)\u001b[0m\u001b[1;33m\u001b[0m\u001b[1;33m\u001b[0m\u001b[0m\n",
      "\u001b[1;32m~\\AppData\\Roaming\\Python\\Python37\\site-packages\\tensorflow\\python\\util\\traceback_utils.py\u001b[0m in \u001b[0;36merror_handler\u001b[1;34m(*args, **kwargs)\u001b[0m\n\u001b[0;32m    148\u001b[0m     \u001b[0mfiltered_tb\u001b[0m \u001b[1;33m=\u001b[0m \u001b[1;32mNone\u001b[0m\u001b[1;33m\u001b[0m\u001b[1;33m\u001b[0m\u001b[0m\n\u001b[0;32m    149\u001b[0m     \u001b[1;32mtry\u001b[0m\u001b[1;33m:\u001b[0m\u001b[1;33m\u001b[0m\u001b[1;33m\u001b[0m\u001b[0m\n\u001b[1;32m--> 150\u001b[1;33m       \u001b[1;32mreturn\u001b[0m \u001b[0mfn\u001b[0m\u001b[1;33m(\u001b[0m\u001b[1;33m*\u001b[0m\u001b[0margs\u001b[0m\u001b[1;33m,\u001b[0m \u001b[1;33m**\u001b[0m\u001b[0mkwargs\u001b[0m\u001b[1;33m)\u001b[0m\u001b[1;33m\u001b[0m\u001b[1;33m\u001b[0m\u001b[0m\n\u001b[0m\u001b[0;32m    151\u001b[0m     \u001b[1;32mexcept\u001b[0m \u001b[0mException\u001b[0m \u001b[1;32mas\u001b[0m \u001b[0me\u001b[0m\u001b[1;33m:\u001b[0m\u001b[1;33m\u001b[0m\u001b[1;33m\u001b[0m\u001b[0m\n\u001b[0;32m    152\u001b[0m       \u001b[0mfiltered_tb\u001b[0m \u001b[1;33m=\u001b[0m \u001b[0m_process_traceback_frames\u001b[0m\u001b[1;33m(\u001b[0m\u001b[0me\u001b[0m\u001b[1;33m.\u001b[0m\u001b[0m__traceback__\u001b[0m\u001b[1;33m)\u001b[0m\u001b[1;33m\u001b[0m\u001b[1;33m\u001b[0m\u001b[0m\n",
      "\u001b[1;32m~\\AppData\\Roaming\\Python\\Python37\\site-packages\\tensorflow\\python\\eager\\def_function.py\u001b[0m in \u001b[0;36m__call__\u001b[1;34m(self, *args, **kwds)\u001b[0m\n\u001b[0;32m    908\u001b[0m \u001b[1;33m\u001b[0m\u001b[0m\n\u001b[0;32m    909\u001b[0m       \u001b[1;32mwith\u001b[0m \u001b[0mOptionalXlaContext\u001b[0m\u001b[1;33m(\u001b[0m\u001b[0mself\u001b[0m\u001b[1;33m.\u001b[0m\u001b[0m_jit_compile\u001b[0m\u001b[1;33m)\u001b[0m\u001b[1;33m:\u001b[0m\u001b[1;33m\u001b[0m\u001b[1;33m\u001b[0m\u001b[0m\n\u001b[1;32m--> 910\u001b[1;33m         \u001b[0mresult\u001b[0m \u001b[1;33m=\u001b[0m \u001b[0mself\u001b[0m\u001b[1;33m.\u001b[0m\u001b[0m_call\u001b[0m\u001b[1;33m(\u001b[0m\u001b[1;33m*\u001b[0m\u001b[0margs\u001b[0m\u001b[1;33m,\u001b[0m \u001b[1;33m**\u001b[0m\u001b[0mkwds\u001b[0m\u001b[1;33m)\u001b[0m\u001b[1;33m\u001b[0m\u001b[1;33m\u001b[0m\u001b[0m\n\u001b[0m\u001b[0;32m    911\u001b[0m \u001b[1;33m\u001b[0m\u001b[0m\n\u001b[0;32m    912\u001b[0m       \u001b[0mnew_tracing_count\u001b[0m \u001b[1;33m=\u001b[0m \u001b[0mself\u001b[0m\u001b[1;33m.\u001b[0m\u001b[0mexperimental_get_tracing_count\u001b[0m\u001b[1;33m(\u001b[0m\u001b[1;33m)\u001b[0m\u001b[1;33m\u001b[0m\u001b[1;33m\u001b[0m\u001b[0m\n",
      "\u001b[1;32m~\\AppData\\Roaming\\Python\\Python37\\site-packages\\tensorflow\\python\\eager\\def_function.py\u001b[0m in \u001b[0;36m_call\u001b[1;34m(self, *args, **kwds)\u001b[0m\n\u001b[0;32m    940\u001b[0m       \u001b[1;31m# In this case we have created variables on the first call, so we run the\u001b[0m\u001b[1;33m\u001b[0m\u001b[1;33m\u001b[0m\u001b[1;33m\u001b[0m\u001b[0m\n\u001b[0;32m    941\u001b[0m       \u001b[1;31m# defunned version which is guaranteed to never create variables.\u001b[0m\u001b[1;33m\u001b[0m\u001b[1;33m\u001b[0m\u001b[1;33m\u001b[0m\u001b[0m\n\u001b[1;32m--> 942\u001b[1;33m       \u001b[1;32mreturn\u001b[0m \u001b[0mself\u001b[0m\u001b[1;33m.\u001b[0m\u001b[0m_stateless_fn\u001b[0m\u001b[1;33m(\u001b[0m\u001b[1;33m*\u001b[0m\u001b[0margs\u001b[0m\u001b[1;33m,\u001b[0m \u001b[1;33m**\u001b[0m\u001b[0mkwds\u001b[0m\u001b[1;33m)\u001b[0m  \u001b[1;31m# pylint: disable=not-callable\u001b[0m\u001b[1;33m\u001b[0m\u001b[1;33m\u001b[0m\u001b[0m\n\u001b[0m\u001b[0;32m    943\u001b[0m     \u001b[1;32melif\u001b[0m \u001b[0mself\u001b[0m\u001b[1;33m.\u001b[0m\u001b[0m_stateful_fn\u001b[0m \u001b[1;32mis\u001b[0m \u001b[1;32mnot\u001b[0m \u001b[1;32mNone\u001b[0m\u001b[1;33m:\u001b[0m\u001b[1;33m\u001b[0m\u001b[1;33m\u001b[0m\u001b[0m\n\u001b[0;32m    944\u001b[0m       \u001b[1;31m# Release the lock early so that multiple threads can perform the call\u001b[0m\u001b[1;33m\u001b[0m\u001b[1;33m\u001b[0m\u001b[1;33m\u001b[0m\u001b[0m\n",
      "\u001b[1;32m~\\AppData\\Roaming\\Python\\Python37\\site-packages\\tensorflow\\python\\eager\\function.py\u001b[0m in \u001b[0;36m__call__\u001b[1;34m(self, *args, **kwargs)\u001b[0m\n\u001b[0;32m   3129\u001b[0m        filtered_flat_args) = self._maybe_define_function(args, kwargs)\n\u001b[0;32m   3130\u001b[0m     return graph_function._call_flat(\n\u001b[1;32m-> 3131\u001b[1;33m         filtered_flat_args, captured_inputs=graph_function.captured_inputs)  # pylint: disable=protected-access\n\u001b[0m\u001b[0;32m   3132\u001b[0m \u001b[1;33m\u001b[0m\u001b[0m\n\u001b[0;32m   3133\u001b[0m   \u001b[1;33m@\u001b[0m\u001b[0mproperty\u001b[0m\u001b[1;33m\u001b[0m\u001b[1;33m\u001b[0m\u001b[0m\n",
      "\u001b[1;32m~\\AppData\\Roaming\\Python\\Python37\\site-packages\\tensorflow\\python\\eager\\function.py\u001b[0m in \u001b[0;36m_call_flat\u001b[1;34m(self, args, captured_inputs, cancellation_manager)\u001b[0m\n\u001b[0;32m   1958\u001b[0m       \u001b[1;31m# No tape is watching; skip to running the function.\u001b[0m\u001b[1;33m\u001b[0m\u001b[1;33m\u001b[0m\u001b[1;33m\u001b[0m\u001b[0m\n\u001b[0;32m   1959\u001b[0m       return self._build_call_outputs(self._inference_function.call(\n\u001b[1;32m-> 1960\u001b[1;33m           ctx, args, cancellation_manager=cancellation_manager))\n\u001b[0m\u001b[0;32m   1961\u001b[0m     forward_backward = self._select_forward_and_backward_functions(\n\u001b[0;32m   1962\u001b[0m         \u001b[0margs\u001b[0m\u001b[1;33m,\u001b[0m\u001b[1;33m\u001b[0m\u001b[1;33m\u001b[0m\u001b[0m\n",
      "\u001b[1;32m~\\AppData\\Roaming\\Python\\Python37\\site-packages\\tensorflow\\python\\eager\\function.py\u001b[0m in \u001b[0;36mcall\u001b[1;34m(self, ctx, args, cancellation_manager)\u001b[0m\n\u001b[0;32m    601\u001b[0m               \u001b[0minputs\u001b[0m\u001b[1;33m=\u001b[0m\u001b[0margs\u001b[0m\u001b[1;33m,\u001b[0m\u001b[1;33m\u001b[0m\u001b[1;33m\u001b[0m\u001b[0m\n\u001b[0;32m    602\u001b[0m               \u001b[0mattrs\u001b[0m\u001b[1;33m=\u001b[0m\u001b[0mattrs\u001b[0m\u001b[1;33m,\u001b[0m\u001b[1;33m\u001b[0m\u001b[1;33m\u001b[0m\u001b[0m\n\u001b[1;32m--> 603\u001b[1;33m               ctx=ctx)\n\u001b[0m\u001b[0;32m    604\u001b[0m         \u001b[1;32melse\u001b[0m\u001b[1;33m:\u001b[0m\u001b[1;33m\u001b[0m\u001b[1;33m\u001b[0m\u001b[0m\n\u001b[0;32m    605\u001b[0m           outputs = execute.execute_with_cancellation(\n",
      "\u001b[1;32m~\\AppData\\Roaming\\Python\\Python37\\site-packages\\tensorflow\\python\\eager\\execute.py\u001b[0m in \u001b[0;36mquick_execute\u001b[1;34m(op_name, num_outputs, inputs, attrs, ctx, name)\u001b[0m\n\u001b[0;32m     57\u001b[0m     \u001b[0mctx\u001b[0m\u001b[1;33m.\u001b[0m\u001b[0mensure_initialized\u001b[0m\u001b[1;33m(\u001b[0m\u001b[1;33m)\u001b[0m\u001b[1;33m\u001b[0m\u001b[1;33m\u001b[0m\u001b[0m\n\u001b[0;32m     58\u001b[0m     tensors = pywrap_tfe.TFE_Py_Execute(ctx._handle, device_name, op_name,\n\u001b[1;32m---> 59\u001b[1;33m                                         inputs, attrs, num_outputs)\n\u001b[0m\u001b[0;32m     60\u001b[0m   \u001b[1;32mexcept\u001b[0m \u001b[0mcore\u001b[0m\u001b[1;33m.\u001b[0m\u001b[0m_NotOkStatusException\u001b[0m \u001b[1;32mas\u001b[0m \u001b[0me\u001b[0m\u001b[1;33m:\u001b[0m\u001b[1;33m\u001b[0m\u001b[1;33m\u001b[0m\u001b[0m\n\u001b[0;32m     61\u001b[0m     \u001b[1;32mif\u001b[0m \u001b[0mname\u001b[0m \u001b[1;32mis\u001b[0m \u001b[1;32mnot\u001b[0m \u001b[1;32mNone\u001b[0m\u001b[1;33m:\u001b[0m\u001b[1;33m\u001b[0m\u001b[1;33m\u001b[0m\u001b[0m\n",
      "\u001b[1;31mKeyboardInterrupt\u001b[0m: "
     ]
    }
   ],
   "source": [
    "dataloc8 = \"data/hadoop/HADOOP_word_ContextualWordEmbs_ori.csv\"\n",
    "pius_word8 = Lstm_issue(dataloc8)\n",
    "\n",
    "#pius_word1.print_plot(2)\n",
    "pius_word8.preprocessing()\n",
    "pius_word8.clean_text()\n",
    "pius_word8.tokenize_df()\n",
    "pius_word8.labels_to_int()\n",
    "\n",
    "word_hist8 = []\n",
    "for topk in list(range(5, 16, 5)):\n",
    "    pius_word8.set_model(topk_num=topk)\n",
    "    pius_word8.run_model()\n",
    "\n",
    "    accr = pius_word8.model.evaluate(pius_word8.X_test, pius_word8.Y_test)\n",
    "    print('Test set\\n Loss: {:0.3f}\\n Accuracy: {:0.3f}'.format(accr[0], accr[1]))\n",
    "\n",
    "    word_hist8.append(pius_word8.history)"
   ]
  },
  {
   "cell_type": "code",
   "execution_count": 1,
   "metadata": {},
   "outputs": [
    {
     "ename": "NameError",
     "evalue": "name 'word_hist8' is not defined",
     "output_type": "error",
     "traceback": [
      "\u001b[1;31m---------------------------------------------------------------------------\u001b[0m",
      "\u001b[1;31mNameError\u001b[0m                                 Traceback (most recent call last)",
      "\u001b[1;32mC:\\Users\\PIUSHW~1\\AppData\\Local\\Temp/ipykernel_21204/2756017303.py\u001b[0m in \u001b[0;36m<module>\u001b[1;34m\u001b[0m\n\u001b[0;32m      1\u001b[0m \u001b[0mword_hist_all\u001b[0m \u001b[1;33m=\u001b[0m \u001b[1;33m[\u001b[0m\u001b[1;33m]\u001b[0m\u001b[1;33m\u001b[0m\u001b[1;33m\u001b[0m\u001b[0m\n\u001b[0;32m      2\u001b[0m \u001b[1;32mfor\u001b[0m \u001b[0mi\u001b[0m \u001b[1;32min\u001b[0m \u001b[0mrange\u001b[0m\u001b[1;33m(\u001b[0m\u001b[1;36m3\u001b[0m\u001b[1;33m)\u001b[0m\u001b[1;33m:\u001b[0m\u001b[1;33m\u001b[0m\u001b[1;33m\u001b[0m\u001b[0m\n\u001b[1;32m----> 3\u001b[1;33m     \u001b[0mword_hist_all\u001b[0m\u001b[1;33m.\u001b[0m\u001b[0mappend\u001b[0m\u001b[1;33m(\u001b[0m\u001b[0mword_hist8\u001b[0m\u001b[1;33m[\u001b[0m\u001b[0mi\u001b[0m\u001b[1;33m]\u001b[0m\u001b[1;33m.\u001b[0m\u001b[0mhistory\u001b[0m\u001b[1;33m)\u001b[0m\u001b[1;33m\u001b[0m\u001b[1;33m\u001b[0m\u001b[0m\n\u001b[0m\u001b[0;32m      4\u001b[0m \u001b[1;33m\u001b[0m\u001b[0m\n\u001b[0;32m      5\u001b[0m \u001b[1;32mfor\u001b[0m \u001b[0mx\u001b[0m \u001b[1;32min\u001b[0m \u001b[0mrange\u001b[0m\u001b[1;33m(\u001b[0m\u001b[1;36m3\u001b[0m\u001b[1;33m)\u001b[0m\u001b[1;33m:\u001b[0m\u001b[1;33m\u001b[0m\u001b[1;33m\u001b[0m\u001b[0m\n",
      "\u001b[1;31mNameError\u001b[0m: name 'word_hist8' is not defined"
     ]
    }
   ],
   "source": [
    "word_hist_all = []\n",
    "for i in range(3):\n",
    "    word_hist_all.append(word_hist8[i].history)\n",
    "    \n",
    "for x in range(3):\n",
    "    # convert the history dict to a pandas DataFrame\n",
    "    hist_df = pd.DataFrame(word_hist_all[x])\n",
    "\n",
    "    # save to csv\n",
    "    hist_csv_file = 'history/nn/trainhistoryRecallat{}_data{}.csv'.format(int((x%3)*5+5), int(x/3+1))\n",
    "    with open(hist_csv_file, mode = 'w') as f:\n",
    "        hist_df.to_csv(f)"
   ]
  },
  {
   "cell_type": "code",
   "execution_count": 13,
   "metadata": {},
   "outputs": [
    {
     "name": "stderr",
     "output_type": "stream",
     "text": [
      "D:\\Users\\PiusHwang\\anaconda3\\lib\\site-packages\\ipykernel_launcher.py:56: FutureWarning:\n",
      "\n",
      "The default value of regex will change from True to False in a future version.\n",
      "\n"
     ]
    },
    {
     "name": "stdout",
     "output_type": "stream",
     "text": [
      "Found 175288 unique tokens.\n",
      "X Shape of data tensor: (40602, 250) (2462, 250)\n",
      "X_ori Shape of data tensor: (40602, 250) (4921, 250)\n",
      "Shape of label tensor: (1231, 92)\n",
      "Y Shape of label tensor: (40602, 37) (2462, 37)\n",
      "X train Shape of data tensor: (40602, 250) X test:  (2462, 250)\n",
      "Y Shape of label tensor: (40602, 37) X test:  (2462, 37)\n"
     ]
    },
    {
     "ename": "NotImplementedError",
     "evalue": "Cannot convert a symbolic Tensor (lstm_2/strided_slice:0) to a numpy array. This error may indicate that you're trying to pass a Tensor to a NumPy call, which is not supported",
     "output_type": "error",
     "traceback": [
      "\u001b[1;31m---------------------------------------------------------------------------\u001b[0m",
      "\u001b[1;31mNotImplementedError\u001b[0m                       Traceback (most recent call last)",
      "\u001b[1;32m<ipython-input-13-722104c50a01>\u001b[0m in \u001b[0;36m<module>\u001b[1;34m\u001b[0m\n\u001b[0;32m      7\u001b[0m \u001b[0mword_hist1\u001b[0m \u001b[1;33m=\u001b[0m \u001b[1;33m[\u001b[0m\u001b[1;33m]\u001b[0m\u001b[1;33m\u001b[0m\u001b[1;33m\u001b[0m\u001b[0m\n\u001b[0;32m      8\u001b[0m \u001b[1;32mfor\u001b[0m \u001b[0mtopk\u001b[0m \u001b[1;32min\u001b[0m \u001b[0mlist\u001b[0m\u001b[1;33m(\u001b[0m\u001b[0mrange\u001b[0m\u001b[1;33m(\u001b[0m\u001b[1;36m5\u001b[0m\u001b[1;33m,\u001b[0m \u001b[1;36m16\u001b[0m\u001b[1;33m,\u001b[0m \u001b[1;36m5\u001b[0m\u001b[1;33m)\u001b[0m\u001b[1;33m)\u001b[0m\u001b[1;33m:\u001b[0m\u001b[1;33m\u001b[0m\u001b[1;33m\u001b[0m\u001b[0m\n\u001b[1;32m----> 9\u001b[1;33m     \u001b[0mpius_word1\u001b[0m\u001b[1;33m.\u001b[0m\u001b[0mset_model\u001b[0m\u001b[1;33m(\u001b[0m\u001b[0mtopk_num\u001b[0m\u001b[1;33m=\u001b[0m\u001b[0mtopk\u001b[0m\u001b[1;33m)\u001b[0m\u001b[1;33m\u001b[0m\u001b[1;33m\u001b[0m\u001b[0m\n\u001b[0m\u001b[0;32m     10\u001b[0m     \u001b[0mpius_word1\u001b[0m\u001b[1;33m.\u001b[0m\u001b[0mrun_model\u001b[0m\u001b[1;33m(\u001b[0m\u001b[1;33m)\u001b[0m\u001b[1;33m\u001b[0m\u001b[1;33m\u001b[0m\u001b[0m\n\u001b[0;32m     11\u001b[0m \u001b[1;33m\u001b[0m\u001b[0m\n",
      "\u001b[1;32m<ipython-input-4-a51cc5a486f7>\u001b[0m in \u001b[0;36mset_model\u001b[1;34m(self, topk_num)\u001b[0m\n\u001b[0;32m    133\u001b[0m         \u001b[0mself\u001b[0m\u001b[1;33m.\u001b[0m\u001b[0mmodel\u001b[0m\u001b[1;33m.\u001b[0m\u001b[0madd\u001b[0m\u001b[1;33m(\u001b[0m\u001b[0mEmbedding\u001b[0m\u001b[1;33m(\u001b[0m\u001b[0mMAX_NB_WORDS\u001b[0m\u001b[1;33m,\u001b[0m \u001b[0mEMBEDDING_DIM\u001b[0m\u001b[1;33m,\u001b[0m \u001b[0minput_length\u001b[0m\u001b[1;33m=\u001b[0m\u001b[0mself\u001b[0m\u001b[1;33m.\u001b[0m\u001b[0mX_train\u001b[0m\u001b[1;33m.\u001b[0m\u001b[0mshape\u001b[0m\u001b[1;33m[\u001b[0m\u001b[1;36m1\u001b[0m\u001b[1;33m]\u001b[0m\u001b[1;33m)\u001b[0m\u001b[1;33m)\u001b[0m\u001b[1;33m\u001b[0m\u001b[1;33m\u001b[0m\u001b[0m\n\u001b[0;32m    134\u001b[0m         \u001b[0mself\u001b[0m\u001b[1;33m.\u001b[0m\u001b[0mmodel\u001b[0m\u001b[1;33m.\u001b[0m\u001b[0madd\u001b[0m\u001b[1;33m(\u001b[0m\u001b[0mSpatialDropout1D\u001b[0m\u001b[1;33m(\u001b[0m\u001b[1;36m0.2\u001b[0m\u001b[1;33m)\u001b[0m\u001b[1;33m)\u001b[0m\u001b[1;33m\u001b[0m\u001b[1;33m\u001b[0m\u001b[0m\n\u001b[1;32m--> 135\u001b[1;33m         \u001b[0mself\u001b[0m\u001b[1;33m.\u001b[0m\u001b[0mmodel\u001b[0m\u001b[1;33m.\u001b[0m\u001b[0madd\u001b[0m\u001b[1;33m(\u001b[0m\u001b[0mLSTM\u001b[0m\u001b[1;33m(\u001b[0m\u001b[1;36m100\u001b[0m\u001b[1;33m,\u001b[0m \u001b[0mdropout\u001b[0m\u001b[1;33m=\u001b[0m\u001b[1;36m0.2\u001b[0m\u001b[1;33m,\u001b[0m \u001b[0mrecurrent_dropout\u001b[0m\u001b[1;33m=\u001b[0m\u001b[1;36m0.2\u001b[0m\u001b[1;33m)\u001b[0m\u001b[1;33m)\u001b[0m\u001b[1;33m\u001b[0m\u001b[1;33m\u001b[0m\u001b[0m\n\u001b[0m\u001b[0;32m    136\u001b[0m         \u001b[0mself\u001b[0m\u001b[1;33m.\u001b[0m\u001b[0mmodel\u001b[0m\u001b[1;33m.\u001b[0m\u001b[0madd\u001b[0m\u001b[1;33m(\u001b[0m\u001b[0mDense\u001b[0m\u001b[1;33m(\u001b[0m\u001b[1;36m37\u001b[0m\u001b[1;33m,\u001b[0m \u001b[0mactivation\u001b[0m\u001b[1;33m=\u001b[0m\u001b[1;34m'sigmoid'\u001b[0m\u001b[1;33m)\u001b[0m\u001b[1;33m)\u001b[0m\u001b[1;33m\u001b[0m\u001b[1;33m\u001b[0m\u001b[0m\n\u001b[0;32m    137\u001b[0m         \u001b[0mself\u001b[0m\u001b[1;33m.\u001b[0m\u001b[0mmodel\u001b[0m\u001b[1;33m.\u001b[0m\u001b[0mcompile\u001b[0m\u001b[1;33m(\u001b[0m\u001b[0mloss\u001b[0m\u001b[1;33m=\u001b[0m\u001b[1;34m'categorical_crossentropy'\u001b[0m\u001b[1;33m,\u001b[0m \u001b[0moptimizer\u001b[0m\u001b[1;33m=\u001b[0m\u001b[1;34m'adam'\u001b[0m\u001b[1;33m,\u001b[0m \u001b[0mmetrics\u001b[0m\u001b[1;33m=\u001b[0m\u001b[1;33m[\u001b[0m\u001b[0mtf\u001b[0m\u001b[1;33m.\u001b[0m\u001b[0mkeras\u001b[0m\u001b[1;33m.\u001b[0m\u001b[0mmetrics\u001b[0m\u001b[1;33m.\u001b[0m\u001b[0mRecall\u001b[0m\u001b[1;33m(\u001b[0m\u001b[0mtop_k\u001b[0m \u001b[1;33m=\u001b[0m \u001b[0mtopk_num\u001b[0m\u001b[1;33m)\u001b[0m\u001b[1;33m,\u001b[0m \u001b[1;34m'accuracy'\u001b[0m\u001b[1;33m]\u001b[0m\u001b[1;33m)\u001b[0m\u001b[1;33m\u001b[0m\u001b[1;33m\u001b[0m\u001b[0m\n",
      "\u001b[1;32mD:\\Users\\PiusHwang\\anaconda3\\lib\\site-packages\\tensorflow\\python\\training\\tracking\\base.py\u001b[0m in \u001b[0;36m_method_wrapper\u001b[1;34m(self, *args, **kwargs)\u001b[0m\n\u001b[0;32m    455\u001b[0m     \u001b[0mself\u001b[0m\u001b[1;33m.\u001b[0m\u001b[0m_self_setattr_tracking\u001b[0m \u001b[1;33m=\u001b[0m \u001b[1;32mFalse\u001b[0m  \u001b[1;31m# pylint: disable=protected-access\u001b[0m\u001b[1;33m\u001b[0m\u001b[1;33m\u001b[0m\u001b[0m\n\u001b[0;32m    456\u001b[0m     \u001b[1;32mtry\u001b[0m\u001b[1;33m:\u001b[0m\u001b[1;33m\u001b[0m\u001b[1;33m\u001b[0m\u001b[0m\n\u001b[1;32m--> 457\u001b[1;33m       \u001b[0mresult\u001b[0m \u001b[1;33m=\u001b[0m \u001b[0mmethod\u001b[0m\u001b[1;33m(\u001b[0m\u001b[0mself\u001b[0m\u001b[1;33m,\u001b[0m \u001b[1;33m*\u001b[0m\u001b[0margs\u001b[0m\u001b[1;33m,\u001b[0m \u001b[1;33m**\u001b[0m\u001b[0mkwargs\u001b[0m\u001b[1;33m)\u001b[0m\u001b[1;33m\u001b[0m\u001b[1;33m\u001b[0m\u001b[0m\n\u001b[0m\u001b[0;32m    458\u001b[0m     \u001b[1;32mfinally\u001b[0m\u001b[1;33m:\u001b[0m\u001b[1;33m\u001b[0m\u001b[1;33m\u001b[0m\u001b[0m\n\u001b[0;32m    459\u001b[0m       \u001b[0mself\u001b[0m\u001b[1;33m.\u001b[0m\u001b[0m_self_setattr_tracking\u001b[0m \u001b[1;33m=\u001b[0m \u001b[0mprevious_value\u001b[0m  \u001b[1;31m# pylint: disable=protected-access\u001b[0m\u001b[1;33m\u001b[0m\u001b[1;33m\u001b[0m\u001b[0m\n",
      "\u001b[1;32mD:\\Users\\PiusHwang\\anaconda3\\lib\\site-packages\\tensorflow\\python\\keras\\engine\\sequential.py\u001b[0m in \u001b[0;36madd\u001b[1;34m(self, layer)\u001b[0m\n\u001b[0;32m    219\u001b[0m       \u001b[1;31m# If the model is being built continuously on top of an input layer:\u001b[0m\u001b[1;33m\u001b[0m\u001b[1;33m\u001b[0m\u001b[1;33m\u001b[0m\u001b[0m\n\u001b[0;32m    220\u001b[0m       \u001b[1;31m# refresh its output.\u001b[0m\u001b[1;33m\u001b[0m\u001b[1;33m\u001b[0m\u001b[1;33m\u001b[0m\u001b[0m\n\u001b[1;32m--> 221\u001b[1;33m       \u001b[0moutput_tensor\u001b[0m \u001b[1;33m=\u001b[0m \u001b[0mlayer\u001b[0m\u001b[1;33m(\u001b[0m\u001b[0mself\u001b[0m\u001b[1;33m.\u001b[0m\u001b[0moutputs\u001b[0m\u001b[1;33m[\u001b[0m\u001b[1;36m0\u001b[0m\u001b[1;33m]\u001b[0m\u001b[1;33m)\u001b[0m\u001b[1;33m\u001b[0m\u001b[1;33m\u001b[0m\u001b[0m\n\u001b[0m\u001b[0;32m    222\u001b[0m       \u001b[1;32mif\u001b[0m \u001b[0mlen\u001b[0m\u001b[1;33m(\u001b[0m\u001b[0mnest\u001b[0m\u001b[1;33m.\u001b[0m\u001b[0mflatten\u001b[0m\u001b[1;33m(\u001b[0m\u001b[0moutput_tensor\u001b[0m\u001b[1;33m)\u001b[0m\u001b[1;33m)\u001b[0m \u001b[1;33m!=\u001b[0m \u001b[1;36m1\u001b[0m\u001b[1;33m:\u001b[0m\u001b[1;33m\u001b[0m\u001b[1;33m\u001b[0m\u001b[0m\n\u001b[0;32m    223\u001b[0m         \u001b[1;32mraise\u001b[0m \u001b[0mValueError\u001b[0m\u001b[1;33m(\u001b[0m\u001b[0mSINGLE_LAYER_OUTPUT_ERROR_MSG\u001b[0m\u001b[1;33m)\u001b[0m\u001b[1;33m\u001b[0m\u001b[1;33m\u001b[0m\u001b[0m\n",
      "\u001b[1;32mD:\\Users\\PiusHwang\\anaconda3\\lib\\site-packages\\tensorflow\\python\\keras\\layers\\recurrent.py\u001b[0m in \u001b[0;36m__call__\u001b[1;34m(self, inputs, initial_state, constants, **kwargs)\u001b[0m\n\u001b[0;32m    661\u001b[0m \u001b[1;33m\u001b[0m\u001b[0m\n\u001b[0;32m    662\u001b[0m     \u001b[1;32mif\u001b[0m \u001b[0minitial_state\u001b[0m \u001b[1;32mis\u001b[0m \u001b[1;32mNone\u001b[0m \u001b[1;32mand\u001b[0m \u001b[0mconstants\u001b[0m \u001b[1;32mis\u001b[0m \u001b[1;32mNone\u001b[0m\u001b[1;33m:\u001b[0m\u001b[1;33m\u001b[0m\u001b[1;33m\u001b[0m\u001b[0m\n\u001b[1;32m--> 663\u001b[1;33m       \u001b[1;32mreturn\u001b[0m \u001b[0msuper\u001b[0m\u001b[1;33m(\u001b[0m\u001b[0mRNN\u001b[0m\u001b[1;33m,\u001b[0m \u001b[0mself\u001b[0m\u001b[1;33m)\u001b[0m\u001b[1;33m.\u001b[0m\u001b[0m__call__\u001b[0m\u001b[1;33m(\u001b[0m\u001b[0minputs\u001b[0m\u001b[1;33m,\u001b[0m \u001b[1;33m**\u001b[0m\u001b[0mkwargs\u001b[0m\u001b[1;33m)\u001b[0m\u001b[1;33m\u001b[0m\u001b[1;33m\u001b[0m\u001b[0m\n\u001b[0m\u001b[0;32m    664\u001b[0m \u001b[1;33m\u001b[0m\u001b[0m\n\u001b[0;32m    665\u001b[0m     \u001b[1;31m# If any of `initial_state` or `constants` are specified and are Keras\u001b[0m\u001b[1;33m\u001b[0m\u001b[1;33m\u001b[0m\u001b[1;33m\u001b[0m\u001b[0m\n",
      "\u001b[1;32mD:\\Users\\PiusHwang\\anaconda3\\lib\\site-packages\\tensorflow\\python\\keras\\engine\\base_layer.py\u001b[0m in \u001b[0;36m__call__\u001b[1;34m(self, *args, **kwargs)\u001b[0m\n\u001b[0;32m    924\u001b[0m     \u001b[1;32mif\u001b[0m \u001b[0m_in_functional_construction_mode\u001b[0m\u001b[1;33m(\u001b[0m\u001b[0mself\u001b[0m\u001b[1;33m,\u001b[0m \u001b[0minputs\u001b[0m\u001b[1;33m,\u001b[0m \u001b[0margs\u001b[0m\u001b[1;33m,\u001b[0m \u001b[0mkwargs\u001b[0m\u001b[1;33m,\u001b[0m \u001b[0minput_list\u001b[0m\u001b[1;33m)\u001b[0m\u001b[1;33m:\u001b[0m\u001b[1;33m\u001b[0m\u001b[1;33m\u001b[0m\u001b[0m\n\u001b[0;32m    925\u001b[0m       return self._functional_construction_call(inputs, args, kwargs,\n\u001b[1;32m--> 926\u001b[1;33m                                                 input_list)\n\u001b[0m\u001b[0;32m    927\u001b[0m \u001b[1;33m\u001b[0m\u001b[0m\n\u001b[0;32m    928\u001b[0m     \u001b[1;31m# Maintains info about the `Layer.call` stack.\u001b[0m\u001b[1;33m\u001b[0m\u001b[1;33m\u001b[0m\u001b[1;33m\u001b[0m\u001b[0m\n",
      "\u001b[1;32mD:\\Users\\PiusHwang\\anaconda3\\lib\\site-packages\\tensorflow\\python\\keras\\engine\\base_layer.py\u001b[0m in \u001b[0;36m_functional_construction_call\u001b[1;34m(self, inputs, args, kwargs, input_list)\u001b[0m\n\u001b[0;32m   1115\u001b[0m           \u001b[1;32mtry\u001b[0m\u001b[1;33m:\u001b[0m\u001b[1;33m\u001b[0m\u001b[1;33m\u001b[0m\u001b[0m\n\u001b[0;32m   1116\u001b[0m             \u001b[1;32mwith\u001b[0m \u001b[0mops\u001b[0m\u001b[1;33m.\u001b[0m\u001b[0menable_auto_cast_variables\u001b[0m\u001b[1;33m(\u001b[0m\u001b[0mself\u001b[0m\u001b[1;33m.\u001b[0m\u001b[0m_compute_dtype_object\u001b[0m\u001b[1;33m)\u001b[0m\u001b[1;33m:\u001b[0m\u001b[1;33m\u001b[0m\u001b[1;33m\u001b[0m\u001b[0m\n\u001b[1;32m-> 1117\u001b[1;33m               \u001b[0moutputs\u001b[0m \u001b[1;33m=\u001b[0m \u001b[0mcall_fn\u001b[0m\u001b[1;33m(\u001b[0m\u001b[0mcast_inputs\u001b[0m\u001b[1;33m,\u001b[0m \u001b[1;33m*\u001b[0m\u001b[0margs\u001b[0m\u001b[1;33m,\u001b[0m \u001b[1;33m**\u001b[0m\u001b[0mkwargs\u001b[0m\u001b[1;33m)\u001b[0m\u001b[1;33m\u001b[0m\u001b[1;33m\u001b[0m\u001b[0m\n\u001b[0m\u001b[0;32m   1118\u001b[0m \u001b[1;33m\u001b[0m\u001b[0m\n\u001b[0;32m   1119\u001b[0m           \u001b[1;32mexcept\u001b[0m \u001b[0merrors\u001b[0m\u001b[1;33m.\u001b[0m\u001b[0mOperatorNotAllowedInGraphError\u001b[0m \u001b[1;32mas\u001b[0m \u001b[0me\u001b[0m\u001b[1;33m:\u001b[0m\u001b[1;33m\u001b[0m\u001b[1;33m\u001b[0m\u001b[0m\n",
      "\u001b[1;32mD:\\Users\\PiusHwang\\anaconda3\\lib\\site-packages\\tensorflow\\python\\keras\\layers\\recurrent_v2.py\u001b[0m in \u001b[0;36mcall\u001b[1;34m(self, inputs, mask, training, initial_state)\u001b[0m\n\u001b[0;32m   1106\u001b[0m \u001b[1;33m\u001b[0m\u001b[0m\n\u001b[0;32m   1107\u001b[0m     \u001b[1;31m# LSTM does not support constants. Ignore it during process.\u001b[0m\u001b[1;33m\u001b[0m\u001b[1;33m\u001b[0m\u001b[1;33m\u001b[0m\u001b[0m\n\u001b[1;32m-> 1108\u001b[1;33m     \u001b[0minputs\u001b[0m\u001b[1;33m,\u001b[0m \u001b[0minitial_state\u001b[0m\u001b[1;33m,\u001b[0m \u001b[0m_\u001b[0m \u001b[1;33m=\u001b[0m \u001b[0mself\u001b[0m\u001b[1;33m.\u001b[0m\u001b[0m_process_inputs\u001b[0m\u001b[1;33m(\u001b[0m\u001b[0minputs\u001b[0m\u001b[1;33m,\u001b[0m \u001b[0minitial_state\u001b[0m\u001b[1;33m,\u001b[0m \u001b[1;32mNone\u001b[0m\u001b[1;33m)\u001b[0m\u001b[1;33m\u001b[0m\u001b[1;33m\u001b[0m\u001b[0m\n\u001b[0m\u001b[0;32m   1109\u001b[0m \u001b[1;33m\u001b[0m\u001b[0m\n\u001b[0;32m   1110\u001b[0m     \u001b[1;32mif\u001b[0m \u001b[0misinstance\u001b[0m\u001b[1;33m(\u001b[0m\u001b[0mmask\u001b[0m\u001b[1;33m,\u001b[0m \u001b[0mlist\u001b[0m\u001b[1;33m)\u001b[0m\u001b[1;33m:\u001b[0m\u001b[1;33m\u001b[0m\u001b[1;33m\u001b[0m\u001b[0m\n",
      "\u001b[1;32mD:\\Users\\PiusHwang\\anaconda3\\lib\\site-packages\\tensorflow\\python\\keras\\layers\\recurrent.py\u001b[0m in \u001b[0;36m_process_inputs\u001b[1;34m(self, inputs, initial_state, constants)\u001b[0m\n\u001b[0;32m    860\u001b[0m         \u001b[0minitial_state\u001b[0m \u001b[1;33m=\u001b[0m \u001b[0mself\u001b[0m\u001b[1;33m.\u001b[0m\u001b[0mstates\u001b[0m\u001b[1;33m\u001b[0m\u001b[1;33m\u001b[0m\u001b[0m\n\u001b[0;32m    861\u001b[0m     \u001b[1;32melif\u001b[0m \u001b[0minitial_state\u001b[0m \u001b[1;32mis\u001b[0m \u001b[1;32mNone\u001b[0m\u001b[1;33m:\u001b[0m\u001b[1;33m\u001b[0m\u001b[1;33m\u001b[0m\u001b[0m\n\u001b[1;32m--> 862\u001b[1;33m       \u001b[0minitial_state\u001b[0m \u001b[1;33m=\u001b[0m \u001b[0mself\u001b[0m\u001b[1;33m.\u001b[0m\u001b[0mget_initial_state\u001b[0m\u001b[1;33m(\u001b[0m\u001b[0minputs\u001b[0m\u001b[1;33m)\u001b[0m\u001b[1;33m\u001b[0m\u001b[1;33m\u001b[0m\u001b[0m\n\u001b[0m\u001b[0;32m    863\u001b[0m \u001b[1;33m\u001b[0m\u001b[0m\n\u001b[0;32m    864\u001b[0m     \u001b[1;32mif\u001b[0m \u001b[0mlen\u001b[0m\u001b[1;33m(\u001b[0m\u001b[0minitial_state\u001b[0m\u001b[1;33m)\u001b[0m \u001b[1;33m!=\u001b[0m \u001b[0mlen\u001b[0m\u001b[1;33m(\u001b[0m\u001b[0mself\u001b[0m\u001b[1;33m.\u001b[0m\u001b[0mstates\u001b[0m\u001b[1;33m)\u001b[0m\u001b[1;33m:\u001b[0m\u001b[1;33m\u001b[0m\u001b[1;33m\u001b[0m\u001b[0m\n",
      "\u001b[1;32mD:\\Users\\PiusHwang\\anaconda3\\lib\\site-packages\\tensorflow\\python\\keras\\layers\\recurrent.py\u001b[0m in \u001b[0;36mget_initial_state\u001b[1;34m(self, inputs)\u001b[0m\n\u001b[0;32m    644\u001b[0m     \u001b[1;32mif\u001b[0m \u001b[0mget_initial_state_fn\u001b[0m\u001b[1;33m:\u001b[0m\u001b[1;33m\u001b[0m\u001b[1;33m\u001b[0m\u001b[0m\n\u001b[0;32m    645\u001b[0m       init_state = get_initial_state_fn(\n\u001b[1;32m--> 646\u001b[1;33m           inputs=None, batch_size=batch_size, dtype=dtype)\n\u001b[0m\u001b[0;32m    647\u001b[0m     \u001b[1;32melse\u001b[0m\u001b[1;33m:\u001b[0m\u001b[1;33m\u001b[0m\u001b[1;33m\u001b[0m\u001b[0m\n\u001b[0;32m    648\u001b[0m       init_state = _generate_zero_filled_state(batch_size, self.cell.state_size,\n",
      "\u001b[1;32mD:\\Users\\PiusHwang\\anaconda3\\lib\\site-packages\\tensorflow\\python\\keras\\layers\\recurrent.py\u001b[0m in \u001b[0;36mget_initial_state\u001b[1;34m(self, inputs, batch_size, dtype)\u001b[0m\n\u001b[0;32m   2522\u001b[0m   \u001b[1;32mdef\u001b[0m \u001b[0mget_initial_state\u001b[0m\u001b[1;33m(\u001b[0m\u001b[0mself\u001b[0m\u001b[1;33m,\u001b[0m \u001b[0minputs\u001b[0m\u001b[1;33m=\u001b[0m\u001b[1;32mNone\u001b[0m\u001b[1;33m,\u001b[0m \u001b[0mbatch_size\u001b[0m\u001b[1;33m=\u001b[0m\u001b[1;32mNone\u001b[0m\u001b[1;33m,\u001b[0m \u001b[0mdtype\u001b[0m\u001b[1;33m=\u001b[0m\u001b[1;32mNone\u001b[0m\u001b[1;33m)\u001b[0m\u001b[1;33m:\u001b[0m\u001b[1;33m\u001b[0m\u001b[1;33m\u001b[0m\u001b[0m\n\u001b[0;32m   2523\u001b[0m     return list(_generate_zero_filled_state_for_cell(\n\u001b[1;32m-> 2524\u001b[1;33m         self, inputs, batch_size, dtype))\n\u001b[0m\u001b[0;32m   2525\u001b[0m \u001b[1;33m\u001b[0m\u001b[0m\n\u001b[0;32m   2526\u001b[0m \u001b[1;33m\u001b[0m\u001b[0m\n",
      "\u001b[1;32mD:\\Users\\PiusHwang\\anaconda3\\lib\\site-packages\\tensorflow\\python\\keras\\layers\\recurrent.py\u001b[0m in \u001b[0;36m_generate_zero_filled_state_for_cell\u001b[1;34m(cell, inputs, batch_size, dtype)\u001b[0m\n\u001b[0;32m   2966\u001b[0m     \u001b[0mbatch_size\u001b[0m \u001b[1;33m=\u001b[0m \u001b[0marray_ops\u001b[0m\u001b[1;33m.\u001b[0m\u001b[0mshape\u001b[0m\u001b[1;33m(\u001b[0m\u001b[0minputs\u001b[0m\u001b[1;33m)\u001b[0m\u001b[1;33m[\u001b[0m\u001b[1;36m0\u001b[0m\u001b[1;33m]\u001b[0m\u001b[1;33m\u001b[0m\u001b[1;33m\u001b[0m\u001b[0m\n\u001b[0;32m   2967\u001b[0m     \u001b[0mdtype\u001b[0m \u001b[1;33m=\u001b[0m \u001b[0minputs\u001b[0m\u001b[1;33m.\u001b[0m\u001b[0mdtype\u001b[0m\u001b[1;33m\u001b[0m\u001b[1;33m\u001b[0m\u001b[0m\n\u001b[1;32m-> 2968\u001b[1;33m   \u001b[1;32mreturn\u001b[0m \u001b[0m_generate_zero_filled_state\u001b[0m\u001b[1;33m(\u001b[0m\u001b[0mbatch_size\u001b[0m\u001b[1;33m,\u001b[0m \u001b[0mcell\u001b[0m\u001b[1;33m.\u001b[0m\u001b[0mstate_size\u001b[0m\u001b[1;33m,\u001b[0m \u001b[0mdtype\u001b[0m\u001b[1;33m)\u001b[0m\u001b[1;33m\u001b[0m\u001b[1;33m\u001b[0m\u001b[0m\n\u001b[0m\u001b[0;32m   2969\u001b[0m \u001b[1;33m\u001b[0m\u001b[0m\n\u001b[0;32m   2970\u001b[0m \u001b[1;33m\u001b[0m\u001b[0m\n",
      "\u001b[1;32mD:\\Users\\PiusHwang\\anaconda3\\lib\\site-packages\\tensorflow\\python\\keras\\layers\\recurrent.py\u001b[0m in \u001b[0;36m_generate_zero_filled_state\u001b[1;34m(batch_size_tensor, state_size, dtype)\u001b[0m\n\u001b[0;32m   2982\u001b[0m \u001b[1;33m\u001b[0m\u001b[0m\n\u001b[0;32m   2983\u001b[0m   \u001b[1;32mif\u001b[0m \u001b[0mnest\u001b[0m\u001b[1;33m.\u001b[0m\u001b[0mis_sequence\u001b[0m\u001b[1;33m(\u001b[0m\u001b[0mstate_size\u001b[0m\u001b[1;33m)\u001b[0m\u001b[1;33m:\u001b[0m\u001b[1;33m\u001b[0m\u001b[1;33m\u001b[0m\u001b[0m\n\u001b[1;32m-> 2984\u001b[1;33m     \u001b[1;32mreturn\u001b[0m \u001b[0mnest\u001b[0m\u001b[1;33m.\u001b[0m\u001b[0mmap_structure\u001b[0m\u001b[1;33m(\u001b[0m\u001b[0mcreate_zeros\u001b[0m\u001b[1;33m,\u001b[0m \u001b[0mstate_size\u001b[0m\u001b[1;33m)\u001b[0m\u001b[1;33m\u001b[0m\u001b[1;33m\u001b[0m\u001b[0m\n\u001b[0m\u001b[0;32m   2985\u001b[0m   \u001b[1;32melse\u001b[0m\u001b[1;33m:\u001b[0m\u001b[1;33m\u001b[0m\u001b[1;33m\u001b[0m\u001b[0m\n\u001b[0;32m   2986\u001b[0m     \u001b[1;32mreturn\u001b[0m \u001b[0mcreate_zeros\u001b[0m\u001b[1;33m(\u001b[0m\u001b[0mstate_size\u001b[0m\u001b[1;33m)\u001b[0m\u001b[1;33m\u001b[0m\u001b[1;33m\u001b[0m\u001b[0m\n",
      "\u001b[1;32mD:\\Users\\PiusHwang\\anaconda3\\lib\\site-packages\\tensorflow\\python\\util\\nest.py\u001b[0m in \u001b[0;36mmap_structure\u001b[1;34m(func, *structure, **kwargs)\u001b[0m\n\u001b[0;32m    633\u001b[0m \u001b[1;33m\u001b[0m\u001b[0m\n\u001b[0;32m    634\u001b[0m   return pack_sequence_as(\n\u001b[1;32m--> 635\u001b[1;33m       \u001b[0mstructure\u001b[0m\u001b[1;33m[\u001b[0m\u001b[1;36m0\u001b[0m\u001b[1;33m]\u001b[0m\u001b[1;33m,\u001b[0m \u001b[1;33m[\u001b[0m\u001b[0mfunc\u001b[0m\u001b[1;33m(\u001b[0m\u001b[1;33m*\u001b[0m\u001b[0mx\u001b[0m\u001b[1;33m)\u001b[0m \u001b[1;32mfor\u001b[0m \u001b[0mx\u001b[0m \u001b[1;32min\u001b[0m \u001b[0mentries\u001b[0m\u001b[1;33m]\u001b[0m\u001b[1;33m,\u001b[0m\u001b[1;33m\u001b[0m\u001b[1;33m\u001b[0m\u001b[0m\n\u001b[0m\u001b[0;32m    636\u001b[0m       expand_composites=expand_composites)\n\u001b[0;32m    637\u001b[0m \u001b[1;33m\u001b[0m\u001b[0m\n",
      "\u001b[1;32mD:\\Users\\PiusHwang\\anaconda3\\lib\\site-packages\\tensorflow\\python\\util\\nest.py\u001b[0m in \u001b[0;36m<listcomp>\u001b[1;34m(.0)\u001b[0m\n\u001b[0;32m    633\u001b[0m \u001b[1;33m\u001b[0m\u001b[0m\n\u001b[0;32m    634\u001b[0m   return pack_sequence_as(\n\u001b[1;32m--> 635\u001b[1;33m       \u001b[0mstructure\u001b[0m\u001b[1;33m[\u001b[0m\u001b[1;36m0\u001b[0m\u001b[1;33m]\u001b[0m\u001b[1;33m,\u001b[0m \u001b[1;33m[\u001b[0m\u001b[0mfunc\u001b[0m\u001b[1;33m(\u001b[0m\u001b[1;33m*\u001b[0m\u001b[0mx\u001b[0m\u001b[1;33m)\u001b[0m \u001b[1;32mfor\u001b[0m \u001b[0mx\u001b[0m \u001b[1;32min\u001b[0m \u001b[0mentries\u001b[0m\u001b[1;33m]\u001b[0m\u001b[1;33m,\u001b[0m\u001b[1;33m\u001b[0m\u001b[1;33m\u001b[0m\u001b[0m\n\u001b[0m\u001b[0;32m    636\u001b[0m       expand_composites=expand_composites)\n\u001b[0;32m    637\u001b[0m \u001b[1;33m\u001b[0m\u001b[0m\n",
      "\u001b[1;32mD:\\Users\\PiusHwang\\anaconda3\\lib\\site-packages\\tensorflow\\python\\keras\\layers\\recurrent.py\u001b[0m in \u001b[0;36mcreate_zeros\u001b[1;34m(unnested_state_size)\u001b[0m\n\u001b[0;32m   2979\u001b[0m     \u001b[0mflat_dims\u001b[0m \u001b[1;33m=\u001b[0m \u001b[0mtensor_shape\u001b[0m\u001b[1;33m.\u001b[0m\u001b[0mas_shape\u001b[0m\u001b[1;33m(\u001b[0m\u001b[0munnested_state_size\u001b[0m\u001b[1;33m)\u001b[0m\u001b[1;33m.\u001b[0m\u001b[0mas_list\u001b[0m\u001b[1;33m(\u001b[0m\u001b[1;33m)\u001b[0m\u001b[1;33m\u001b[0m\u001b[1;33m\u001b[0m\u001b[0m\n\u001b[0;32m   2980\u001b[0m     \u001b[0minit_state_size\u001b[0m \u001b[1;33m=\u001b[0m \u001b[1;33m[\u001b[0m\u001b[0mbatch_size_tensor\u001b[0m\u001b[1;33m]\u001b[0m \u001b[1;33m+\u001b[0m \u001b[0mflat_dims\u001b[0m\u001b[1;33m\u001b[0m\u001b[1;33m\u001b[0m\u001b[0m\n\u001b[1;32m-> 2981\u001b[1;33m     \u001b[1;32mreturn\u001b[0m \u001b[0marray_ops\u001b[0m\u001b[1;33m.\u001b[0m\u001b[0mzeros\u001b[0m\u001b[1;33m(\u001b[0m\u001b[0minit_state_size\u001b[0m\u001b[1;33m,\u001b[0m \u001b[0mdtype\u001b[0m\u001b[1;33m=\u001b[0m\u001b[0mdtype\u001b[0m\u001b[1;33m)\u001b[0m\u001b[1;33m\u001b[0m\u001b[1;33m\u001b[0m\u001b[0m\n\u001b[0m\u001b[0;32m   2982\u001b[0m \u001b[1;33m\u001b[0m\u001b[0m\n\u001b[0;32m   2983\u001b[0m   \u001b[1;32mif\u001b[0m \u001b[0mnest\u001b[0m\u001b[1;33m.\u001b[0m\u001b[0mis_sequence\u001b[0m\u001b[1;33m(\u001b[0m\u001b[0mstate_size\u001b[0m\u001b[1;33m)\u001b[0m\u001b[1;33m:\u001b[0m\u001b[1;33m\u001b[0m\u001b[1;33m\u001b[0m\u001b[0m\n",
      "\u001b[1;32mD:\\Users\\PiusHwang\\anaconda3\\lib\\site-packages\\tensorflow\\python\\util\\dispatch.py\u001b[0m in \u001b[0;36mwrapper\u001b[1;34m(*args, **kwargs)\u001b[0m\n\u001b[0;32m    199\u001b[0m     \u001b[1;34m\"\"\"Call target, and fall back on dispatchers if there is a TypeError.\"\"\"\u001b[0m\u001b[1;33m\u001b[0m\u001b[1;33m\u001b[0m\u001b[0m\n\u001b[0;32m    200\u001b[0m     \u001b[1;32mtry\u001b[0m\u001b[1;33m:\u001b[0m\u001b[1;33m\u001b[0m\u001b[1;33m\u001b[0m\u001b[0m\n\u001b[1;32m--> 201\u001b[1;33m       \u001b[1;32mreturn\u001b[0m \u001b[0mtarget\u001b[0m\u001b[1;33m(\u001b[0m\u001b[1;33m*\u001b[0m\u001b[0margs\u001b[0m\u001b[1;33m,\u001b[0m \u001b[1;33m**\u001b[0m\u001b[0mkwargs\u001b[0m\u001b[1;33m)\u001b[0m\u001b[1;33m\u001b[0m\u001b[1;33m\u001b[0m\u001b[0m\n\u001b[0m\u001b[0;32m    202\u001b[0m     \u001b[1;32mexcept\u001b[0m \u001b[1;33m(\u001b[0m\u001b[0mTypeError\u001b[0m\u001b[1;33m,\u001b[0m \u001b[0mValueError\u001b[0m\u001b[1;33m)\u001b[0m\u001b[1;33m:\u001b[0m\u001b[1;33m\u001b[0m\u001b[1;33m\u001b[0m\u001b[0m\n\u001b[0;32m    203\u001b[0m       \u001b[1;31m# Note: convert_to_eager_tensor currently raises a ValueError, not a\u001b[0m\u001b[1;33m\u001b[0m\u001b[1;33m\u001b[0m\u001b[1;33m\u001b[0m\u001b[0m\n",
      "\u001b[1;32mD:\\Users\\PiusHwang\\anaconda3\\lib\\site-packages\\tensorflow\\python\\ops\\array_ops.py\u001b[0m in \u001b[0;36mwrapped\u001b[1;34m(*args, **kwargs)\u001b[0m\n\u001b[0;32m   2745\u001b[0m \u001b[1;33m\u001b[0m\u001b[0m\n\u001b[0;32m   2746\u001b[0m   \u001b[1;32mdef\u001b[0m \u001b[0mwrapped\u001b[0m\u001b[1;33m(\u001b[0m\u001b[1;33m*\u001b[0m\u001b[0margs\u001b[0m\u001b[1;33m,\u001b[0m \u001b[1;33m**\u001b[0m\u001b[0mkwargs\u001b[0m\u001b[1;33m)\u001b[0m\u001b[1;33m:\u001b[0m\u001b[1;33m\u001b[0m\u001b[1;33m\u001b[0m\u001b[0m\n\u001b[1;32m-> 2747\u001b[1;33m     \u001b[0mtensor\u001b[0m \u001b[1;33m=\u001b[0m \u001b[0mfun\u001b[0m\u001b[1;33m(\u001b[0m\u001b[1;33m*\u001b[0m\u001b[0margs\u001b[0m\u001b[1;33m,\u001b[0m \u001b[1;33m**\u001b[0m\u001b[0mkwargs\u001b[0m\u001b[1;33m)\u001b[0m\u001b[1;33m\u001b[0m\u001b[1;33m\u001b[0m\u001b[0m\n\u001b[0m\u001b[0;32m   2748\u001b[0m     \u001b[0mtensor\u001b[0m\u001b[1;33m.\u001b[0m\u001b[0m_is_zeros_tensor\u001b[0m \u001b[1;33m=\u001b[0m \u001b[1;32mTrue\u001b[0m\u001b[1;33m\u001b[0m\u001b[1;33m\u001b[0m\u001b[0m\n\u001b[0;32m   2749\u001b[0m     \u001b[1;32mreturn\u001b[0m \u001b[0mtensor\u001b[0m\u001b[1;33m\u001b[0m\u001b[1;33m\u001b[0m\u001b[0m\n",
      "\u001b[1;32mD:\\Users\\PiusHwang\\anaconda3\\lib\\site-packages\\tensorflow\\python\\ops\\array_ops.py\u001b[0m in \u001b[0;36mzeros\u001b[1;34m(shape, dtype, name)\u001b[0m\n\u001b[0;32m   2792\u001b[0m           \u001b[1;31m# Create a constant if it won't be very big. Otherwise create a fill\u001b[0m\u001b[1;33m\u001b[0m\u001b[1;33m\u001b[0m\u001b[1;33m\u001b[0m\u001b[0m\n\u001b[0;32m   2793\u001b[0m           \u001b[1;31m# op to prevent serialized GraphDefs from becoming too large.\u001b[0m\u001b[1;33m\u001b[0m\u001b[1;33m\u001b[0m\u001b[1;33m\u001b[0m\u001b[0m\n\u001b[1;32m-> 2794\u001b[1;33m           \u001b[0moutput\u001b[0m \u001b[1;33m=\u001b[0m \u001b[0m_constant_if_small\u001b[0m\u001b[1;33m(\u001b[0m\u001b[0mzero\u001b[0m\u001b[1;33m,\u001b[0m \u001b[0mshape\u001b[0m\u001b[1;33m,\u001b[0m \u001b[0mdtype\u001b[0m\u001b[1;33m,\u001b[0m \u001b[0mname\u001b[0m\u001b[1;33m)\u001b[0m\u001b[1;33m\u001b[0m\u001b[1;33m\u001b[0m\u001b[0m\n\u001b[0m\u001b[0;32m   2795\u001b[0m           \u001b[1;32mif\u001b[0m \u001b[0moutput\u001b[0m \u001b[1;32mis\u001b[0m \u001b[1;32mnot\u001b[0m \u001b[1;32mNone\u001b[0m\u001b[1;33m:\u001b[0m\u001b[1;33m\u001b[0m\u001b[1;33m\u001b[0m\u001b[0m\n\u001b[0;32m   2796\u001b[0m             \u001b[1;32mreturn\u001b[0m \u001b[0moutput\u001b[0m\u001b[1;33m\u001b[0m\u001b[1;33m\u001b[0m\u001b[0m\n",
      "\u001b[1;32mD:\\Users\\PiusHwang\\anaconda3\\lib\\site-packages\\tensorflow\\python\\ops\\array_ops.py\u001b[0m in \u001b[0;36m_constant_if_small\u001b[1;34m(value, shape, dtype, name)\u001b[0m\n\u001b[0;32m   2730\u001b[0m \u001b[1;32mdef\u001b[0m \u001b[0m_constant_if_small\u001b[0m\u001b[1;33m(\u001b[0m\u001b[0mvalue\u001b[0m\u001b[1;33m,\u001b[0m \u001b[0mshape\u001b[0m\u001b[1;33m,\u001b[0m \u001b[0mdtype\u001b[0m\u001b[1;33m,\u001b[0m \u001b[0mname\u001b[0m\u001b[1;33m)\u001b[0m\u001b[1;33m:\u001b[0m\u001b[1;33m\u001b[0m\u001b[1;33m\u001b[0m\u001b[0m\n\u001b[0;32m   2731\u001b[0m   \u001b[1;32mtry\u001b[0m\u001b[1;33m:\u001b[0m\u001b[1;33m\u001b[0m\u001b[1;33m\u001b[0m\u001b[0m\n\u001b[1;32m-> 2732\u001b[1;33m     \u001b[1;32mif\u001b[0m \u001b[0mnp\u001b[0m\u001b[1;33m.\u001b[0m\u001b[0mprod\u001b[0m\u001b[1;33m(\u001b[0m\u001b[0mshape\u001b[0m\u001b[1;33m)\u001b[0m \u001b[1;33m<\u001b[0m \u001b[1;36m1000\u001b[0m\u001b[1;33m:\u001b[0m\u001b[1;33m\u001b[0m\u001b[1;33m\u001b[0m\u001b[0m\n\u001b[0m\u001b[0;32m   2733\u001b[0m       \u001b[1;32mreturn\u001b[0m \u001b[0mconstant\u001b[0m\u001b[1;33m(\u001b[0m\u001b[0mvalue\u001b[0m\u001b[1;33m,\u001b[0m \u001b[0mshape\u001b[0m\u001b[1;33m=\u001b[0m\u001b[0mshape\u001b[0m\u001b[1;33m,\u001b[0m \u001b[0mdtype\u001b[0m\u001b[1;33m=\u001b[0m\u001b[0mdtype\u001b[0m\u001b[1;33m,\u001b[0m \u001b[0mname\u001b[0m\u001b[1;33m=\u001b[0m\u001b[0mname\u001b[0m\u001b[1;33m)\u001b[0m\u001b[1;33m\u001b[0m\u001b[1;33m\u001b[0m\u001b[0m\n\u001b[0;32m   2734\u001b[0m   \u001b[1;32mexcept\u001b[0m \u001b[0mTypeError\u001b[0m\u001b[1;33m:\u001b[0m\u001b[1;33m\u001b[0m\u001b[1;33m\u001b[0m\u001b[0m\n",
      "\u001b[1;32m<__array_function__ internals>\u001b[0m in \u001b[0;36mprod\u001b[1;34m(*args, **kwargs)\u001b[0m\n",
      "\u001b[1;32mD:\\Users\\PiusHwang\\anaconda3\\lib\\site-packages\\numpy\\core\\fromnumeric.py\u001b[0m in \u001b[0;36mprod\u001b[1;34m(a, axis, dtype, out, keepdims, initial, where)\u001b[0m\n\u001b[0;32m   3050\u001b[0m     \"\"\"\n\u001b[0;32m   3051\u001b[0m     return _wrapreduction(a, np.multiply, 'prod', axis, dtype, out,\n\u001b[1;32m-> 3052\u001b[1;33m                           keepdims=keepdims, initial=initial, where=where)\n\u001b[0m\u001b[0;32m   3053\u001b[0m \u001b[1;33m\u001b[0m\u001b[0m\n\u001b[0;32m   3054\u001b[0m \u001b[1;33m\u001b[0m\u001b[0m\n",
      "\u001b[1;32mD:\\Users\\PiusHwang\\anaconda3\\lib\\site-packages\\numpy\\core\\fromnumeric.py\u001b[0m in \u001b[0;36m_wrapreduction\u001b[1;34m(obj, ufunc, method, axis, dtype, out, **kwargs)\u001b[0m\n\u001b[0;32m     84\u001b[0m                 \u001b[1;32mreturn\u001b[0m \u001b[0mreduction\u001b[0m\u001b[1;33m(\u001b[0m\u001b[0maxis\u001b[0m\u001b[1;33m=\u001b[0m\u001b[0maxis\u001b[0m\u001b[1;33m,\u001b[0m \u001b[0mout\u001b[0m\u001b[1;33m=\u001b[0m\u001b[0mout\u001b[0m\u001b[1;33m,\u001b[0m \u001b[1;33m**\u001b[0m\u001b[0mpasskwargs\u001b[0m\u001b[1;33m)\u001b[0m\u001b[1;33m\u001b[0m\u001b[1;33m\u001b[0m\u001b[0m\n\u001b[0;32m     85\u001b[0m \u001b[1;33m\u001b[0m\u001b[0m\n\u001b[1;32m---> 86\u001b[1;33m     \u001b[1;32mreturn\u001b[0m \u001b[0mufunc\u001b[0m\u001b[1;33m.\u001b[0m\u001b[0mreduce\u001b[0m\u001b[1;33m(\u001b[0m\u001b[0mobj\u001b[0m\u001b[1;33m,\u001b[0m \u001b[0maxis\u001b[0m\u001b[1;33m,\u001b[0m \u001b[0mdtype\u001b[0m\u001b[1;33m,\u001b[0m \u001b[0mout\u001b[0m\u001b[1;33m,\u001b[0m \u001b[1;33m**\u001b[0m\u001b[0mpasskwargs\u001b[0m\u001b[1;33m)\u001b[0m\u001b[1;33m\u001b[0m\u001b[1;33m\u001b[0m\u001b[0m\n\u001b[0m\u001b[0;32m     87\u001b[0m \u001b[1;33m\u001b[0m\u001b[0m\n\u001b[0;32m     88\u001b[0m \u001b[1;33m\u001b[0m\u001b[0m\n",
      "\u001b[1;32mD:\\Users\\PiusHwang\\anaconda3\\lib\\site-packages\\tensorflow\\python\\framework\\ops.py\u001b[0m in \u001b[0;36m__array__\u001b[1;34m(self)\u001b[0m\n\u001b[0;32m    846\u001b[0m         \u001b[1;34m\"Cannot convert a symbolic Tensor ({}) to a numpy array.\"\u001b[0m\u001b[1;33m\u001b[0m\u001b[1;33m\u001b[0m\u001b[0m\n\u001b[0;32m    847\u001b[0m         \u001b[1;34m\" This error may indicate that you're trying to pass a Tensor to\"\u001b[0m\u001b[1;33m\u001b[0m\u001b[1;33m\u001b[0m\u001b[0m\n\u001b[1;32m--> 848\u001b[1;33m         \" a NumPy call, which is not supported\".format(self.name))\n\u001b[0m\u001b[0;32m    849\u001b[0m \u001b[1;33m\u001b[0m\u001b[0m\n\u001b[0;32m    850\u001b[0m   \u001b[1;32mdef\u001b[0m \u001b[0m__len__\u001b[0m\u001b[1;33m(\u001b[0m\u001b[0mself\u001b[0m\u001b[1;33m)\u001b[0m\u001b[1;33m:\u001b[0m\u001b[1;33m\u001b[0m\u001b[1;33m\u001b[0m\u001b[0m\n",
      "\u001b[1;31mNotImplementedError\u001b[0m: Cannot convert a symbolic Tensor (lstm_2/strided_slice:0) to a numpy array. This error may indicate that you're trying to pass a Tensor to a NumPy call, which is not supported"
     ]
    }
   ],
   "source": [
    "#pius_word1.print_plot(2)\n",
    "pius_word1.preprocessing()\n",
    "pius_word1.clean_text()\n",
    "pius_word1.tokenize_df()\n",
    "pius_word1.labels_to_int()\n",
    "\n",
    "word_hist1 = []\n",
    "for topk in list(range(5, 16, 5)):\n",
    "    pius_word1.set_model(topk_num=topk)\n",
    "    pius_word1.run_model()\n",
    "\n",
    "    accr = pius_word1.model.evaluate(pius_word1.X_test, pius_word1.Y_test)\n",
    "    print('Test set\\n Loss: {:0.3f}\\n Accuracy: {:0.3f}'.format(accr[0], accr[1]))\n",
    "\n",
    "    word_hist1.append(pius_word1.history)"
   ]
  },
  {
   "cell_type": "code",
   "execution_count": 17,
   "metadata": {},
   "outputs": [
    {
     "data": {
      "text/plain": [
       "Text(0.5, 1.0, 'Loss')"
      ]
     },
     "execution_count": 17,
     "metadata": {},
     "output_type": "execute_result"
    },
    {
     "data": {
      "text/plain": [
       "[<matplotlib.lines.Line2D at 0x20b4e91a0a0>]"
      ]
     },
     "execution_count": 17,
     "metadata": {},
     "output_type": "execute_result"
    },
    {
     "data": {
      "text/plain": [
       "[<matplotlib.lines.Line2D at 0x20b4e92e460>]"
      ]
     },
     "execution_count": 17,
     "metadata": {},
     "output_type": "execute_result"
    },
    {
     "data": {
      "text/plain": [
       "<matplotlib.legend.Legend at 0x20b4e91a070>"
      ]
     },
     "execution_count": 17,
     "metadata": {},
     "output_type": "execute_result"
    },
    {
     "data": {
      "image/png": "[encoded data removed]",
      "text/plain": [
       "<Figure size 432x288 with 1 Axes>"
      ]
     },
     "metadata": {
      "needs_background": "light"
     },
     "output_type": "display_data"
    },
    {
     "data": {
      "text/plain": [
       "Text(0.5, 1.0, 'Recall@5')"
      ]
     },
     "execution_count": 17,
     "metadata": {},
     "output_type": "execute_result"
    },
    {
     "data": {
      "text/plain": [
       "[<matplotlib.lines.Line2D at 0x20b4e9f60d0>]"
      ]
     },
     "execution_count": 17,
     "metadata": {},
     "output_type": "execute_result"
    },
    {
     "data": {
      "text/plain": [
       "[<matplotlib.lines.Line2D at 0x20b4e9f6430>]"
      ]
     },
     "execution_count": 17,
     "metadata": {},
     "output_type": "execute_result"
    },
    {
     "data": {
      "text/plain": [
       "<matplotlib.legend.Legend at 0x20b4e9021c0>"
      ]
     },
     "execution_count": 17,
     "metadata": {},
     "output_type": "execute_result"
    },
    {
     "data": {
      "image/png": "[encoded data removed]",
      "text/plain": [
       "<Figure size 432x288 with 1 Axes>"
      ]
     },
     "metadata": {
      "needs_background": "light"
     },
     "output_type": "display_data"
    },
    {
     "data": {
      "text/plain": [
       "Text(0.5, 1.0, 'Loss')"
      ]
     },
     "execution_count": 17,
     "metadata": {},
     "output_type": "execute_result"
    },
    {
     "data": {
      "text/plain": [
       "[<matplotlib.lines.Line2D at 0x20b4ed30610>]"
      ]
     },
     "execution_count": 17,
     "metadata": {},
     "output_type": "execute_result"
    },
    {
     "data": {
      "text/plain": [
       "[<matplotlib.lines.Line2D at 0x20b4ed30700>]"
      ]
     },
     "execution_count": 17,
     "metadata": {},
     "output_type": "execute_result"
    },
    {
     "data": {
      "text/plain": [
       "<matplotlib.legend.Legend at 0x20b4ed309a0>"
      ]
     },
     "execution_count": 17,
     "metadata": {},
     "output_type": "execute_result"
    },
    {
     "data": {
      "image/png": "[encoded data removed]",
      "text/plain": [
       "<Figure size 432x288 with 1 Axes>"
      ]
     },
     "metadata": {
      "needs_background": "light"
     },
     "output_type": "display_data"
    },
    {
     "data": {
      "text/plain": [
       "Text(0.5, 1.0, 'Recall@10')"
      ]
     },
     "execution_count": 17,
     "metadata": {},
     "output_type": "execute_result"
    },
    {
     "data": {
      "text/plain": [
       "[<matplotlib.lines.Line2D at 0x20b4e692970>]"
      ]
     },
     "execution_count": 17,
     "metadata": {},
     "output_type": "execute_result"
    },
    {
     "data": {
      "text/plain": [
       "[<matplotlib.lines.Line2D at 0x20b4e692c10>]"
      ]
     },
     "execution_count": 17,
     "metadata": {},
     "output_type": "execute_result"
    },
    {
     "data": {
      "text/plain": [
       "<matplotlib.legend.Legend at 0x20b4e7aa790>"
      ]
     },
     "execution_count": 17,
     "metadata": {},
     "output_type": "execute_result"
    },
    {
     "data": {
      "image/png": "[encoded data removed]",
      "text/plain": [
       "<Figure size 432x288 with 1 Axes>"
      ]
     },
     "metadata": {
      "needs_background": "light"
     },
     "output_type": "display_data"
    },
    {
     "data": {
      "text/plain": [
       "Text(0.5, 1.0, 'Loss')"
      ]
     },
     "execution_count": 17,
     "metadata": {},
     "output_type": "execute_result"
    },
    {
     "data": {
      "text/plain": [
       "[<matplotlib.lines.Line2D at 0x20b4e898520>]"
      ]
     },
     "execution_count": 17,
     "metadata": {},
     "output_type": "execute_result"
    },
    {
     "data": {
      "text/plain": [
       "[<matplotlib.lines.Line2D at 0x20b4e898610>]"
      ]
     },
     "execution_count": 17,
     "metadata": {},
     "output_type": "execute_result"
    },
    {
     "data": {
      "text/plain": [
       "<matplotlib.legend.Legend at 0x20b4ed30a30>"
      ]
     },
     "execution_count": 17,
     "metadata": {},
     "output_type": "execute_result"
    },
    {
     "data": {
      "image/png": "[encoded data removed]",
      "text/plain": [
       "<Figure size 432x288 with 1 Axes>"
      ]
     },
     "metadata": {
      "needs_background": "light"
     },
     "output_type": "display_data"
    },
    {
     "data": {
      "text/plain": [
       "Text(0.5, 1.0, 'Recall@15')"
      ]
     },
     "execution_count": 17,
     "metadata": {},
     "output_type": "execute_result"
    },
    {
     "data": {
      "text/plain": [
       "[<matplotlib.lines.Line2D at 0x20b635fdb50>]"
      ]
     },
     "execution_count": 17,
     "metadata": {},
     "output_type": "execute_result"
    },
    {
     "data": {
      "text/plain": [
       "[<matplotlib.lines.Line2D at 0x20b635fdd60>]"
      ]
     },
     "execution_count": 17,
     "metadata": {},
     "output_type": "execute_result"
    },
    {
     "data": {
      "text/plain": [
       "<matplotlib.legend.Legend at 0x20b635fde20>"
      ]
     },
     "execution_count": 17,
     "metadata": {},
     "output_type": "execute_result"
    },
    {
     "data": {
      "image/png": "[encoded data removed]",
      "text/plain": [
       "<Figure size 432x288 with 1 Axes>"
      ]
     },
     "metadata": {
      "needs_background": "light"
     },
     "output_type": "display_data"
    }
   ],
   "source": [
    "plt.title('Loss')\n",
    "plt.plot(word_hist1[0].history['loss'], label='train')\n",
    "plt.plot(word_hist1[0].history['val_loss'], label='test')\n",
    "plt.legend()\n",
    "plt.show();\n",
    "\n",
    "plt.title('Recall@5')\n",
    "plt.plot(word_hist1[0].history['recall'], label='train')\n",
    "plt.plot(word_hist1[0].history['val_recall'], label='test')\n",
    "plt.legend()\n",
    "plt.show();\n",
    "\n",
    "plt.title('Loss')\n",
    "plt.plot(word_hist1[1].history['loss'], label='train')\n",
    "plt.plot(word_hist1[1].history['val_loss'], label='test')\n",
    "plt.legend()\n",
    "plt.show();\n",
    "\n",
    "plt.title('Recall@10')\n",
    "plt.plot(word_hist1[1].history['recall_1'], label='train')\n",
    "plt.plot(word_hist1[1].history['val_recall_1'], label='test')\n",
    "plt.legend()\n",
    "plt.show();\n",
    "\n",
    "plt.title('Loss')\n",
    "plt.plot(word_hist1[2].history['loss'], label='train')\n",
    "plt.plot(word_hist1[2].history['val_loss'], label='test')\n",
    "plt.legend()\n",
    "plt.show();\n",
    "\n",
    "plt.title('Recall@15')\n",
    "plt.plot(word_hist1[2].history['recall_2'], label='train')\n",
    "plt.plot(word_hist1[2].history['val_recall_2'], label='test')\n",
    "plt.legend()\n",
    "plt.show();\n"
   ]
  },
  {
   "cell_type": "code",
   "execution_count": 6,
   "metadata": {},
   "outputs": [
    {
     "name": "stderr",
     "output_type": "stream",
     "text": [
      "<ipython-input-3-0365f3784ca9>:92: FutureWarning:\n",
      "\n",
      "The default value of regex will change from True to False in a future version.\n",
      "\n"
     ]
    },
    {
     "name": "stdout",
     "output_type": "stream",
     "text": [
      "Found 40173 unique tokens.\n",
      "X Shape of data tensor: (40602, 250) (2462, 250)\n",
      "X_ori Shape of data tensor: (40602, 250) (4921, 250)\n",
      "Shape of label tensor: (1231, 92)\n",
      "Y Shape of label tensor: (40602, 37) (2462, 37)\n",
      "X train Shape of data tensor: (40602, 250) X test:  (2462, 250)\n",
      "Y Shape of label tensor: (40602, 37) X test:  (2462, 37)\n",
      "Epoch 1/20\n",
      "571/571 [==============================] - 256s 448ms/step - loss: 3.1991 - recall_3: 0.5185 - accuracy: 0.1249 - val_loss: 3.1729 - val_recall_3: 0.5131 - val_accuracy: 0.1367\n",
      "Epoch 2/20\n",
      "571/571 [==============================] - 256s 448ms/step - loss: 3.1736 - recall_3: 0.5231 - accuracy: 0.1282 - val_loss: 3.1711 - val_recall_3: 0.5246 - val_accuracy: 0.1367\n",
      "Epoch 3/20\n",
      "571/571 [==============================] - 257s 451ms/step - loss: 3.1737 - recall_3: 0.5212 - accuracy: 0.1296 - val_loss: 3.1583 - val_recall_3: 0.5246 - val_accuracy: 0.1367\n",
      "Epoch 4/20\n",
      "571/571 [==============================] - 258s 452ms/step - loss: 3.1750 - recall_3: 0.5225 - accuracy: 0.1300 - val_loss: 3.1639 - val_recall_3: 0.5246 - val_accuracy: 0.1367\n",
      "Epoch 5/20\n",
      "571/571 [==============================] - 258s 452ms/step - loss: 3.1742 - recall_3: 0.5219 - accuracy: 0.1287 - val_loss: 3.1600 - val_recall_3: 0.5246 - val_accuracy: 0.1367\n",
      "Epoch 6/20\n",
      "571/571 [==============================] - 258s 452ms/step - loss: 3.1738 - recall_3: 0.5221 - accuracy: 0.1291 - val_loss: 3.1568 - val_recall_3: 0.5246 - val_accuracy: 0.1367\n",
      "Epoch 7/20\n",
      "571/571 [==============================] - 258s 452ms/step - loss: 3.1727 - recall_3: 0.5235 - accuracy: 0.1274 - val_loss: 3.1644 - val_recall_3: 0.5126 - val_accuracy: 0.1367\n",
      "Epoch 8/20\n",
      "571/571 [==============================] - 258s 452ms/step - loss: 3.1697 - recall_3: 0.5226 - accuracy: 0.1324 - val_loss: 3.1658 - val_recall_3: 0.5243 - val_accuracy: 0.1177\n",
      "Epoch 9/20\n",
      "571/571 [==============================] - 258s 451ms/step - loss: 3.1618 - recall_3: 0.5250 - accuracy: 0.1318 - val_loss: 3.1755 - val_recall_3: 0.5122 - val_accuracy: 0.1367\n",
      "77/77 [==============================] - 2s 31ms/step - loss: 3.3900 - recall_3: 0.4764 - accuracy: 0.0995\n",
      "Test set\n",
      " Loss: 3.390\n",
      " Accuracy: 0.476\n",
      "Epoch 1/20\n",
      "571/571 [==============================] - 258s 452ms/step - loss: 3.1952 - recall_4: 0.7709 - accuracy: 0.1290 - val_loss: 3.1622 - val_recall_4: 0.7732 - val_accuracy: 0.1367\n",
      "Epoch 2/20\n",
      "571/571 [==============================] - 263s 461ms/step - loss: 3.1743 - recall_4: 0.7755 - accuracy: 0.1292 - val_loss: 3.1623 - val_recall_4: 0.7854 - val_accuracy: 0.1367\n",
      "Epoch 3/20\n",
      "571/571 [==============================] - 265s 463ms/step - loss: 3.1749 - recall_4: 0.7774 - accuracy: 0.1276 - val_loss: 3.1722 - val_recall_4: 0.7732 - val_accuracy: 0.1367\n",
      "Epoch 4/20\n",
      "571/571 [==============================] - 265s 465ms/step - loss: 3.1741 - recall_4: 0.7757 - accuracy: 0.1289 - val_loss: 3.1634 - val_recall_4: 0.7854 - val_accuracy: 0.1367\n",
      "77/77 [==============================] - 2s 30ms/step - loss: 3.3774 - recall_4: 0.6962 - accuracy: 0.0999\n",
      "Test set\n",
      " Loss: 3.377\n",
      " Accuracy: 0.696\n",
      "Epoch 1/20\n",
      "571/571 [==============================] - 273s 478ms/step - loss: 3.2014 - recall_5: 0.8938 - accuracy: 0.1244 - val_loss: 3.1699 - val_recall_5: 0.9006 - val_accuracy: 0.1367\n",
      "Epoch 2/20\n",
      "571/571 [==============================] - 269s 471ms/step - loss: 3.1751 - recall_5: 0.8990 - accuracy: 0.1275 - val_loss: 3.1638 - val_recall_5: 0.9006 - val_accuracy: 0.1022\n",
      "Epoch 3/20\n",
      "571/571 [==============================] - 271s 474ms/step - loss: 3.1742 - recall_5: 0.8996 - accuracy: 0.1302 - val_loss: 3.1604 - val_recall_5: 0.9044 - val_accuracy: 0.1367\n",
      "Epoch 4/20\n",
      "571/571 [==============================] - 269s 472ms/step - loss: 3.1733 - recall_5: 0.8992 - accuracy: 0.1282 - val_loss: 3.1669 - val_recall_5: 0.9010 - val_accuracy: 0.1367\n",
      "Epoch 5/20\n",
      "571/571 [==============================] - 271s 475ms/step - loss: 3.1726 - recall_5: 0.8988 - accuracy: 0.1254 - val_loss: 3.1649 - val_recall_5: 0.8981 - val_accuracy: 0.1367\n",
      "Epoch 6/20\n",
      "571/571 [==============================] - 271s 475ms/step - loss: 3.1731 - recall_5: 0.9004 - accuracy: 0.1285 - val_loss: 3.1569 - val_recall_5: 0.9006 - val_accuracy: 0.1367\n",
      "Epoch 7/20\n",
      "571/571 [==============================] - 271s 475ms/step - loss: 3.1741 - recall_5: 0.8996 - accuracy: 0.1286 - val_loss: 3.1598 - val_recall_5: 0.9044 - val_accuracy: 0.1367\n",
      "Epoch 8/20\n",
      "571/571 [==============================] - 271s 474ms/step - loss: 3.1736 - recall_5: 0.8987 - accuracy: 0.1280 - val_loss: 3.1667 - val_recall_5: 0.9044 - val_accuracy: 0.1367\n",
      "Epoch 9/20\n",
      "571/571 [==============================] - 269s 471ms/step - loss: 3.1749 - recall_5: 0.9003 - accuracy: 0.1285 - val_loss: 3.1645 - val_recall_5: 0.9015 - val_accuracy: 0.1367\n",
      "77/77 [==============================] - 3s 38ms/step - loss: 3.3561 - recall_5: 0.8531 - accuracy: 0.0999\n",
      "Test set\n",
      " Loss: 3.356\n",
      " Accuracy: 0.853\n"
     ]
    }
   ],
   "source": [
    "#pius_word1.print_plot(2)\n",
    "pius_word2.preprocessing()\n",
    "pius_word2.clean_text()\n",
    "pius_word2.tokenize_df()\n",
    "pius_word2.labels_to_int()\n",
    "\n",
    "word_hist2 = []\n",
    "for topk in list(range(5, 16, 5)):\n",
    "    pius_word2.set_model(topk_num=topk)\n",
    "    pius_word2.run_model()\n",
    "\n",
    "    accr = pius_word2.model.evaluate(pius_word2.X_test, pius_word2.Y_test)\n",
    "    print('Test set\\n Loss: {:0.3f}\\n Accuracy: {:0.3f}'.format(accr[0], accr[1]))\n",
    "\n",
    "    word_hist2.append(pius_word2.history)"
   ]
  },
  {
   "cell_type": "code",
   "execution_count": 18,
   "metadata": {},
   "outputs": [
    {
     "data": {
      "image/png": "[encoded data removed]",
      "text/plain": [
       "<Figure size 432x288 with 1 Axes>"
      ]
     },
     "metadata": {
      "needs_background": "light"
     },
     "output_type": "display_data"
    },
    {
     "data": {
      "image/png": "[encoded data removed]",
      "text/plain": [
       "<Figure size 432x288 with 1 Axes>"
      ]
     },
     "metadata": {
      "needs_background": "light"
     },
     "output_type": "display_data"
    },
    {
     "data": {
      "image/png": "[encoded data removed]",
      "text/plain": [
       "<Figure size 432x288 with 1 Axes>"
      ]
     },
     "metadata": {
      "needs_background": "light"
     },
     "output_type": "display_data"
    },
    {
     "data": {
      "image/png": "[encoded data removed]",
      "text/plain": [
       "<Figure size 432x288 with 1 Axes>"
      ]
     },
     "metadata": {
      "needs_background": "light"
     },
     "output_type": "display_data"
    },
    {
     "data": {
      "image/png": "[encoded data removed]",
      "text/plain": [
       "<Figure size 432x288 with 1 Axes>"
      ]
     },
     "metadata": {
      "needs_background": "light"
     },
     "output_type": "display_data"
    },
    {
     "data": {
      "image/png": "[encoded data removed]",
      "text/plain": [
       "<Figure size 432x288 with 1 Axes>"
      ]
     },
     "metadata": {
      "needs_background": "light"
     },
     "output_type": "display_data"
    }
   ],
   "source": [
    "plt.title('Loss')\n",
    "plt.plot(word_hist2[0].history['loss'], label='train')\n",
    "plt.plot(word_hist2[0].history['val_loss'], label='test')\n",
    "plt.legend()\n",
    "plt.show();\n",
    "\n",
    "plt.title('Recall@5')\n",
    "plt.plot(word_hist2[0].history['recall_3'], label='train')\n",
    "plt.plot(word_hist2[0].history['val_recall_3'], label='test')\n",
    "plt.legend()\n",
    "plt.show();\n",
    "\n",
    "plt.title('Loss')\n",
    "plt.plot(word_hist2[1].history['loss'], label='train')\n",
    "plt.plot(word_hist2[1].history['val_loss'], label='test')\n",
    "plt.legend()\n",
    "plt.show();\n",
    "\n",
    "plt.title('Recall@10')\n",
    "plt.plot(word_hist2[1].history['recall_4'], label='train')\n",
    "plt.plot(word_hist2[1].history['val_recall_4'], label='test')\n",
    "plt.legend()\n",
    "plt.show();\n",
    "\n",
    "plt.title('Loss')\n",
    "plt.plot(word_hist2[2].history['loss'], label='train')\n",
    "plt.plot(word_hist2[2].history['val_loss'], label='test')\n",
    "plt.legend()\n",
    "plt.show();\n",
    "\n",
    "plt.title('Recall@15')\n",
    "plt.plot(word_hist2[2].history['recall_5'], label='train')\n",
    "plt.plot(word_hist2[2].history['val_recall_5'], label='test')\n",
    "plt.legend()\n",
    "plt.show();"
   ]
  },
  {
   "cell_type": "code",
   "execution_count": 7,
   "metadata": {},
   "outputs": [
    {
     "name": "stderr",
     "output_type": "stream",
     "text": [
      "<ipython-input-3-0365f3784ca9>:92: FutureWarning:\n",
      "\n",
      "The default value of regex will change from True to False in a future version.\n",
      "\n"
     ]
    },
    {
     "name": "stdout",
     "output_type": "stream",
     "text": [
      "Found 19283 unique tokens.\n",
      "X Shape of data tensor: (40602, 250) (2462, 250)\n",
      "X_ori Shape of data tensor: (40602, 250) (4921, 250)\n",
      "Shape of label tensor: (1231, 92)\n",
      "Y Shape of label tensor: (40602, 37) (2462, 37)\n",
      "X train Shape of data tensor: (40602, 250) X test:  (2462, 250)\n",
      "Y Shape of label tensor: (40602, 37) X test:  (2462, 37)\n",
      "Epoch 1/20\n",
      "571/571 [==============================] - 277s 484ms/step - loss: 3.1989 - recall_6: 0.5165 - accuracy: 0.1260 - val_loss: 3.1796 - val_recall_6: 0.5233 - val_accuracy: 0.1320\n",
      "Epoch 2/20\n",
      "571/571 [==============================] - 275s 482ms/step - loss: 3.1713 - recall_6: 0.5233 - accuracy: 0.1313 - val_loss: 3.1760 - val_recall_6: 0.5233 - val_accuracy: 0.1320\n",
      "Epoch 3/20\n",
      "571/571 [==============================] - 275s 482ms/step - loss: 3.1743 - recall_6: 0.5230 - accuracy: 0.1290 - val_loss: 3.1784 - val_recall_6: 0.5233 - val_accuracy: 0.1320\n",
      "Epoch 4/20\n",
      "571/571 [==============================] - 275s 482ms/step - loss: 3.1708 - recall_6: 0.5201 - accuracy: 0.1288 - val_loss: 3.1858 - val_recall_6: 0.5017 - val_accuracy: 0.1106\n",
      "Epoch 5/20\n",
      "571/571 [==============================] - 276s 484ms/step - loss: 3.1736 - recall_6: 0.5238 - accuracy: 0.1302 - val_loss: 3.1857 - val_recall_6: 0.5017 - val_accuracy: 0.1320\n",
      "77/77 [==============================] - 2s 32ms/step - loss: 3.4150 - recall_6: 0.4602 - accuracy: 0.0999\n",
      "Test set\n",
      " Loss: 3.415\n",
      " Accuracy: 0.460\n",
      "Epoch 1/20\n",
      "571/571 [==============================] - 283s 495ms/step - loss: 3.1921 - recall_7: 0.7725 - accuracy: 0.1290 - val_loss: 3.1937 - val_recall_7: 0.7790 - val_accuracy: 0.1320\n",
      "Epoch 2/20\n",
      "571/571 [==============================] - 285s 500ms/step - loss: 3.1727 - recall_7: 0.7755 - accuracy: 0.1301 - val_loss: 3.1814 - val_recall_7: 0.7790 - val_accuracy: 0.1320\n",
      "Epoch 3/20\n",
      "571/571 [==============================] - 287s 502ms/step - loss: 3.1723 - recall_7: 0.7767 - accuracy: 0.1285 - val_loss: 3.1765 - val_recall_7: 0.7693 - val_accuracy: 0.1320\n",
      "Epoch 4/20\n",
      "571/571 [==============================] - 286s 501ms/step - loss: 3.1720 - recall_7: 0.7751 - accuracy: 0.1287 - val_loss: 3.1771 - val_recall_7: 0.7711 - val_accuracy: 0.1320\n",
      "Epoch 5/20\n",
      "571/571 [==============================] - 288s 504ms/step - loss: 3.1722 - recall_7: 0.7770 - accuracy: 0.1294 - val_loss: 3.1825 - val_recall_7: 0.7693 - val_accuracy: 0.1320\n",
      "Epoch 6/20\n",
      "571/571 [==============================] - 286s 500ms/step - loss: 3.1720 - recall_7: 0.7769 - accuracy: 0.1300 - val_loss: 3.1873 - val_recall_7: 0.7790 - val_accuracy: 0.1106\n",
      "77/77 [==============================] - 2s 31ms/step - loss: 3.3915 - recall_7: 0.6962 - accuracy: 0.0906\n",
      "Test set\n",
      " Loss: 3.392\n",
      " Accuracy: 0.696\n",
      "Epoch 1/20\n",
      "571/571 [==============================] - 290s 508ms/step - loss: 3.1954 - recall_8: 0.8954 - accuracy: 0.1291 - val_loss: 3.1813 - val_recall_8: 0.9022 - val_accuracy: 0.1320\n",
      "Epoch 2/20\n",
      "571/571 [==============================] - 287s 502ms/step - loss: 3.1740 - recall_8: 0.8994 - accuracy: 0.1282 - val_loss: 3.1827 - val_recall_8: 0.9022 - val_accuracy: 0.1320\n",
      "Epoch 3/20\n",
      "571/571 [==============================] - 289s 505ms/step - loss: 3.1712 - recall_8: 0.8987 - accuracy: 0.1295 - val_loss: 3.1843 - val_recall_8: 0.8984 - val_accuracy: 0.1106\n",
      "Epoch 4/20\n",
      "571/571 [==============================] - 289s 506ms/step - loss: 3.1718 - recall_8: 0.9005 - accuracy: 0.1290 - val_loss: 3.1814 - val_recall_8: 0.8894 - val_accuracy: 0.1320\n",
      "77/77 [==============================] - 3s 37ms/step - loss: 3.3913 - recall_8: 0.8527 - accuracy: 0.0999\n",
      "Test set\n",
      " Loss: 3.391\n",
      " Accuracy: 0.853\n"
     ]
    }
   ],
   "source": [
    "#pius_word1.print_plot(2)\n",
    "pius_word3.preprocessing()\n",
    "pius_word3.clean_text()\n",
    "pius_word3.tokenize_df()\n",
    "pius_word3.labels_to_int()\n",
    "word_hist3 = []\n",
    "for topk in list(range(5, 16, 5)):\n",
    "    pius_word3.set_model(topk_num=topk)\n",
    "    pius_word3.run_model()\n",
    "\n",
    "    accr = pius_word3.model.evaluate(pius_word3.X_test, pius_word3.Y_test)\n",
    "    print('Test set\\n Loss: {:0.3f}\\n Accuracy: {:0.3f}'.format(accr[0], accr[1]))\n",
    "\n",
    "    word_hist3.append(pius_word3.history)"
   ]
  },
  {
   "cell_type": "code",
   "execution_count": 8,
   "metadata": {},
   "outputs": [
    {
     "name": "stderr",
     "output_type": "stream",
     "text": [
      "<ipython-input-3-0365f3784ca9>:92: FutureWarning:\n",
      "\n",
      "The default value of regex will change from True to False in a future version.\n",
      "\n"
     ]
    },
    {
     "name": "stdout",
     "output_type": "stream",
     "text": [
      "Found 29359 unique tokens.\n",
      "X Shape of data tensor: (40602, 250) (2462, 250)\n",
      "X_ori Shape of data tensor: (40602, 250) (4921, 250)\n",
      "Shape of label tensor: (1231, 92)\n",
      "Y Shape of label tensor: (40602, 37) (2462, 37)\n",
      "X train Shape of data tensor: (40602, 250) X test:  (2462, 250)\n",
      "Y Shape of label tensor: (40602, 37) X test:  (2462, 37)\n",
      "Epoch 1/20\n",
      "571/571 [==============================] - 304s 532ms/step - loss: 3.1942 - recall_9: 0.5172 - accuracy: 0.1279 - val_loss: 3.2035 - val_recall_9: 0.5229 - val_accuracy: 0.1310\n",
      "Epoch 2/20\n",
      "571/571 [==============================] - 304s 533ms/step - loss: 3.1717 - recall_9: 0.5215 - accuracy: 0.1301 - val_loss: 3.2169 - val_recall_9: 0.5229 - val_accuracy: 0.1189\n",
      "Epoch 3/20\n",
      "571/571 [==============================] - 302s 529ms/step - loss: 3.1696 - recall_9: 0.5218 - accuracy: 0.1295 - val_loss: 3.2234 - val_recall_9: 0.5229 - val_accuracy: 0.1310\n",
      "Epoch 4/20\n",
      "571/571 [==============================] - 302s 529ms/step - loss: 3.1717 - recall_9: 0.5224 - accuracy: 0.1269 - val_loss: 3.1998 - val_recall_9: 0.5229 - val_accuracy: 0.1310\n",
      "Epoch 5/20\n",
      "571/571 [==============================] - 302s 529ms/step - loss: 3.1690 - recall_9: 0.5244 - accuracy: 0.1303 - val_loss: 3.2013 - val_recall_9: 0.5229 - val_accuracy: 0.1310\n",
      "Epoch 6/20\n",
      "571/571 [==============================] - 301s 528ms/step - loss: 3.1686 - recall_9: 0.5243 - accuracy: 0.1301 - val_loss: 3.2120 - val_recall_9: 0.5229 - val_accuracy: 0.1310\n",
      "Epoch 7/20\n",
      "571/571 [==============================] - 301s 527ms/step - loss: 3.1696 - recall_9: 0.5227 - accuracy: 0.1296 - val_loss: 3.1971 - val_recall_9: 0.5229 - val_accuracy: 0.1310\n",
      "Epoch 8/20\n",
      "571/571 [==============================] - 300s 526ms/step - loss: 3.1695 - recall_9: 0.5201 - accuracy: 0.1311 - val_loss: 3.2172 - val_recall_9: 0.5229 - val_accuracy: 0.1189\n",
      "Epoch 9/20\n",
      "571/571 [==============================] - 302s 528ms/step - loss: 3.1691 - recall_9: 0.5236 - accuracy: 0.1291 - val_loss: 3.2101 - val_recall_9: 0.4915 - val_accuracy: 0.1310\n",
      "Epoch 10/20\n",
      "571/571 [==============================] - 301s 527ms/step - loss: 3.1694 - recall_9: 0.5228 - accuracy: 0.1287 - val_loss: 3.2035 - val_recall_9: 0.5229 - val_accuracy: 0.1310\n",
      "77/77 [==============================] - 2s 31ms/step - loss: 3.3636 - recall_9: 0.5104 - accuracy: 0.0999\n",
      "Test set\n",
      " Loss: 3.364\n",
      " Accuracy: 0.510\n",
      "Epoch 1/20\n",
      "571/571 [==============================] - 289s 505ms/step - loss: 3.1934 - recall_10: 0.7712 - accuracy: 0.1269 - val_loss: 3.2021 - val_recall_10: 0.7757 - val_accuracy: 0.1310\n",
      "Epoch 2/20\n",
      "571/571 [==============================] - 284s 498ms/step - loss: 3.1699 - recall_10: 0.7767 - accuracy: 0.1274 - val_loss: 3.2125 - val_recall_10: 0.7685 - val_accuracy: 0.1310\n",
      "Epoch 3/20\n",
      "571/571 [==============================] - 285s 500ms/step - loss: 3.1690 - recall_10: 0.7762 - accuracy: 0.1280 - val_loss: 3.2011 - val_recall_10: 0.7757 - val_accuracy: 0.1076\n",
      "Epoch 4/20\n",
      "571/571 [==============================] - 287s 502ms/step - loss: 3.1688 - recall_10: 0.7773 - accuracy: 0.1314 - val_loss: 3.2149 - val_recall_10: 0.7757 - val_accuracy: 0.0813\n",
      "Epoch 5/20\n",
      "571/571 [==============================] - 287s 502ms/step - loss: 3.1676 - recall_10: 0.7766 - accuracy: 0.1308 - val_loss: 3.1993 - val_recall_10: 0.7723 - val_accuracy: 0.1189\n",
      "Epoch 6/20\n",
      "571/571 [==============================] - 286s 501ms/step - loss: 3.1692 - recall_10: 0.7767 - accuracy: 0.1283 - val_loss: 3.2046 - val_recall_10: 0.7757 - val_accuracy: 0.1189\n",
      "Epoch 7/20\n",
      "571/571 [==============================] - 286s 501ms/step - loss: 3.1703 - recall_10: 0.7755 - accuracy: 0.1296 - val_loss: 3.2008 - val_recall_10: 0.7757 - val_accuracy: 0.1310\n",
      "Epoch 8/20\n",
      "571/571 [==============================] - 285s 499ms/step - loss: 3.1681 - recall_10: 0.7776 - accuracy: 0.1296 - val_loss: 3.2187 - val_recall_10: 0.7757 - val_accuracy: 0.1310\n",
      "77/77 [==============================] - 3s 38ms/step - loss: 3.3774 - recall_10: 0.6962 - accuracy: 0.0999\n",
      "Test set\n",
      " Loss: 3.377\n",
      " Accuracy: 0.696\n",
      "Epoch 1/20\n",
      "571/571 [==============================] - 276s 483ms/step - loss: 3.1922 - recall_11: 0.8971 - accuracy: 0.1262 - val_loss: 3.2097 - val_recall_11: 0.8975 - val_accuracy: 0.1310\n",
      "Epoch 2/20\n",
      "571/571 [==============================] - 274s 480ms/step - loss: 3.1700 - recall_11: 0.9002 - accuracy: 0.1292 - val_loss: 3.2067 - val_recall_11: 0.8973 - val_accuracy: 0.1214\n",
      "Epoch 3/20\n",
      "571/571 [==============================] - 274s 480ms/step - loss: 3.1678 - recall_11: 0.9008 - accuracy: 0.1286 - val_loss: 3.2068 - val_recall_11: 0.8887 - val_accuracy: 0.1189\n",
      "Epoch 4/20\n",
      "571/571 [==============================] - 273s 479ms/step - loss: 3.1690 - recall_11: 0.8999 - accuracy: 0.1275 - val_loss: 3.2072 - val_recall_11: 0.8973 - val_accuracy: 0.1310\n",
      "Epoch 5/20\n",
      "571/571 [==============================] - 275s 482ms/step - loss: 3.1685 - recall_11: 0.9007 - accuracy: 0.1314 - val_loss: 3.2076 - val_recall_11: 0.8959 - val_accuracy: 0.1310\n",
      "77/77 [==============================] - 4s 47ms/step - loss: 3.3614 - recall_11: 0.8531 - accuracy: 0.0999\n",
      "Test set\n",
      " Loss: 3.361\n",
      " Accuracy: 0.853\n"
     ]
    }
   ],
   "source": [
    "#pius_word1.print_plot(2)\n",
    "pius_word4.preprocessing()\n",
    "pius_word4.clean_text()\n",
    "pius_word4.tokenize_df()\n",
    "pius_word4.labels_to_int()\n",
    "word_hist4 = []\n",
    "for topk in list(range(5, 16, 5)):\n",
    "    pius_word4.set_model(topk_num=topk)\n",
    "    pius_word4.run_model()\n",
    "\n",
    "    accr = pius_word4.model.evaluate(pius_word4.X_test, pius_word4.Y_test)\n",
    "    print('Test set\\n Loss: {:0.3f}\\n Accuracy: {:0.3f}'.format(accr[0], accr[1]))\n",
    "\n",
    "    word_hist4.append(pius_word4.history)"
   ]
  },
  {
   "cell_type": "code",
   "execution_count": null,
   "metadata": {},
   "outputs": [],
   "source": [
    "plt.title('Loss')\n",
    "plt.plot(word_hist[0].history['loss'], label='train')\n",
    "plt.plot(word_hist[0].history['val_loss'], label='test')\n",
    "plt.legend()\n",
    "plt.show();\n",
    "\n",
    "plt.title('Recall@5')\n",
    "plt.plot(word_hist[0].history['recall_3'], label='train')\n",
    "plt.plot(word_hist[0].history['val_recall_3'], label='test')\n",
    "plt.legend()\n",
    "plt.show();\n",
    "\n",
    "plt.title('Loss')\n",
    "plt.plot(word_hist[1].history['loss'], label='train')\n",
    "plt.plot(word_hist[1].history['val_loss'], label='test')\n",
    "plt.legend()\n",
    "plt.show();\n",
    "\n",
    "plt.title('Recall@10')\n",
    "plt.plot(word_hist[1].history['recall_4'], label='train')\n",
    "plt.plot(word_hist[1].history['val_recall_4'], label='test')\n",
    "plt.legend()\n",
    "plt.show();\n",
    "\n",
    "plt.title('Loss')\n",
    "plt.plot(word_hist[2].history['loss'], label='train')\n",
    "plt.plot(word_hist[2].history['val_loss'], label='test')\n",
    "plt.legend()\n",
    "plt.show();\n",
    "\n",
    "plt.title('Recall@15')\n",
    "plt.plot(word_hist[2].history['recall_5'], label='train')\n",
    "plt.plot(word_hist[2].history['val_recall_5'], label='test')\n",
    "plt.legend()\n",
    "plt.show();"
   ]
  },
  {
   "cell_type": "code",
   "execution_count": 9,
   "metadata": {},
   "outputs": [
    {
     "name": "stderr",
     "output_type": "stream",
     "text": [
      "<ipython-input-3-0365f3784ca9>:92: FutureWarning:\n",
      "\n",
      "The default value of regex will change from True to False in a future version.\n",
      "\n"
     ]
    },
    {
     "name": "stdout",
     "output_type": "stream",
     "text": [
      "Found 49911 unique tokens.\n",
      "X Shape of data tensor: (40602, 250) (2462, 250)\n",
      "X_ori Shape of data tensor: (40602, 250) (4921, 250)\n",
      "Shape of label tensor: (1231, 92)\n",
      "Y Shape of label tensor: (40602, 37) (2462, 37)\n",
      "X train Shape of data tensor: (40602, 250) X test:  (2462, 250)\n",
      "Y Shape of label tensor: (40602, 37) X test:  (2462, 37)\n",
      "Epoch 1/20\n",
      "571/571 [==============================] - 277s 485ms/step - loss: 3.2049 - recall_12: 0.5147 - accuracy: 0.1252 - val_loss: 3.1364 - val_recall_12: 0.5395 - val_accuracy: 0.1347\n",
      "Epoch 2/20\n",
      "571/571 [==============================] - 277s 485ms/step - loss: 3.1782 - recall_12: 0.5209 - accuracy: 0.1273 - val_loss: 3.1579 - val_recall_12: 0.5395 - val_accuracy: 0.1347\n",
      "Epoch 3/20\n",
      "571/571 [==============================] - 278s 486ms/step - loss: 3.1764 - recall_12: 0.5208 - accuracy: 0.1298 - val_loss: 3.1407 - val_recall_12: 0.5395 - val_accuracy: 0.1347\n",
      "Epoch 4/20\n",
      "571/571 [==============================] - 277s 485ms/step - loss: 3.1748 - recall_12: 0.5222 - accuracy: 0.1299 - val_loss: 3.1557 - val_recall_12: 0.5178 - val_accuracy: 0.1347\n",
      "77/77 [==============================] - 3s 37ms/step - loss: 3.3980 - recall_12: 0.4602 - accuracy: 0.0999\n",
      "Test set\n",
      " Loss: 3.398\n",
      " Accuracy: 0.460\n",
      "Epoch 1/20\n",
      "571/571 [==============================] - 276s 484ms/step - loss: 3.2012 - recall_13: 0.7708 - accuracy: 0.1276 - val_loss: 3.1433 - val_recall_13: 0.7675 - val_accuracy: 0.1347\n",
      "Epoch 2/20\n",
      "571/571 [==============================] - 273s 478ms/step - loss: 3.1781 - recall_13: 0.7734 - accuracy: 0.1274 - val_loss: 3.1379 - val_recall_13: 0.7910 - val_accuracy: 0.1347\n",
      "Epoch 3/20\n",
      "571/571 [==============================] - 274s 480ms/step - loss: 3.1763 - recall_13: 0.7753 - accuracy: 0.1288 - val_loss: 3.1442 - val_recall_13: 0.7910 - val_accuracy: 0.1347\n",
      "Epoch 4/20\n",
      "571/571 [==============================] - 274s 480ms/step - loss: 3.1763 - recall_13: 0.7753 - accuracy: 0.1290 - val_loss: 3.1410 - val_recall_13: 0.7650 - val_accuracy: 0.1347\n",
      "Epoch 5/20\n",
      "571/571 [==============================] - 274s 480ms/step - loss: 3.1765 - recall_13: 0.7745 - accuracy: 0.1271 - val_loss: 3.1451 - val_recall_13: 0.7910 - val_accuracy: 0.1347\n",
      "77/77 [==============================] - 3s 39ms/step - loss: 3.4327 - recall_13: 0.6962 - accuracy: 0.0999\n",
      "Test set\n",
      " Loss: 3.433\n",
      " Accuracy: 0.696\n",
      "Epoch 1/20\n",
      "571/571 [==============================] - 268s 469ms/step - loss: 3.1998 - recall_14: 0.8942 - accuracy: 0.1281 - val_loss: 3.1566 - val_recall_14: 0.9023 - val_accuracy: 0.1032\n",
      "Epoch 2/20\n",
      "571/571 [==============================] - 266s 466ms/step - loss: 3.1769 - recall_14: 0.8996 - accuracy: 0.1297 - val_loss: 3.1347 - val_recall_14: 0.9036 - val_accuracy: 0.1347\n",
      "Epoch 3/20\n",
      "571/571 [==============================] - 265s 464ms/step - loss: 3.1769 - recall_14: 0.8999 - accuracy: 0.1303 - val_loss: 3.1359 - val_recall_14: 0.9036 - val_accuracy: 0.1312\n",
      "Epoch 4/20\n",
      "571/571 [==============================] - 265s 464ms/step - loss: 3.1755 - recall_14: 0.8996 - accuracy: 0.1296 - val_loss: 3.1439 - val_recall_14: 0.9005 - val_accuracy: 0.1347\n",
      "Epoch 5/20\n",
      "571/571 [==============================] - 265s 464ms/step - loss: 3.1770 - recall_14: 0.9001 - accuracy: 0.1263 - val_loss: 3.1330 - val_recall_14: 0.9036 - val_accuracy: 0.1347\n",
      "Epoch 6/20\n",
      "571/571 [==============================] - 265s 463ms/step - loss: 3.1765 - recall_14: 0.8999 - accuracy: 0.1307 - val_loss: 3.1398 - val_recall_14: 0.9023 - val_accuracy: 0.1347\n",
      "Epoch 7/20\n",
      "571/571 [==============================] - 265s 464ms/step - loss: 3.1773 - recall_14: 0.8993 - accuracy: 0.1289 - val_loss: 3.1390 - val_recall_14: 0.9059 - val_accuracy: 0.1347\n",
      "Epoch 8/20\n",
      "571/571 [==============================] - 265s 465ms/step - loss: 3.1751 - recall_14: 0.8993 - accuracy: 0.1282 - val_loss: 3.1354 - val_recall_14: 0.9036 - val_accuracy: 0.1347\n",
      "77/77 [==============================] - 4s 48ms/step - loss: 3.3714 - recall_14: 0.8340 - accuracy: 0.0999\n",
      "Test set\n",
      " Loss: 3.371\n",
      " Accuracy: 0.834\n"
     ]
    }
   ],
   "source": [
    "#pius_word1.print_plot(2)\n",
    "pius_word5.preprocessing()\n",
    "pius_word5.clean_text()\n",
    "pius_word5.tokenize_df()\n",
    "pius_word5.labels_to_int()\n",
    "word_hist5 = []\n",
    "for topk in list(range(5, 16, 5)):\n",
    "    pius_word5.set_model(topk_num=topk)\n",
    "    pius_word5.run_model()\n",
    "\n",
    "    accr = pius_word5.model.evaluate(pius_word5.X_test, pius_word5.Y_test)\n",
    "    print('Test set\\n Loss: {:0.3f}\\n Accuracy: {:0.3f}'.format(accr[0], accr[1]))\n",
    "\n",
    "    word_hist5.append(pius_word5.history)"
   ]
  },
  {
   "cell_type": "code",
   "execution_count": 22,
   "metadata": {},
   "outputs": [
    {
     "data": {
      "image/png": "[encoded data removed]",
      "text/plain": [
       "<Figure size 432x288 with 1 Axes>"
      ]
     },
     "metadata": {
      "needs_background": "light"
     },
     "output_type": "display_data"
    },
    {
     "data": {
      "image/png": "[encoded data removed]",
      "text/plain": [
       "<Figure size 432x288 with 1 Axes>"
      ]
     },
     "metadata": {
      "needs_background": "light"
     },
     "output_type": "display_data"
    },
    {
     "data": {
      "image/png": "[encoded data removed]",
      "text/plain": [
       "<Figure size 432x288 with 1 Axes>"
      ]
     },
     "metadata": {
      "needs_background": "light"
     },
     "output_type": "display_data"
    },
    {
     "data": {
      "image/png": "[encoded data removed]",
      "text/plain": [
       "<Figure size 432x288 with 1 Axes>"
      ]
     },
     "metadata": {
      "needs_background": "light"
     },
     "output_type": "display_data"
    },
    {
     "data": {
      "image/png": "[encoded data removed]",
      "text/plain": [
       "<Figure size 432x288 with 1 Axes>"
      ]
     },
     "metadata": {
      "needs_background": "light"
     },
     "output_type": "display_data"
    },
    {
     "data": {
      "image/png": "[encoded data removed]",
      "text/plain": [
       "<Figure size 432x288 with 1 Axes>"
      ]
     },
     "metadata": {
      "needs_background": "light"
     },
     "output_type": "display_data"
    }
   ],
   "source": [
    "plt.title('Loss')\n",
    "plt.plot(word_hist5[0].history['loss'], label='train')\n",
    "plt.plot(word_hist5[0].history['val_loss'], label='test')\n",
    "plt.legend()\n",
    "plt.show();\n",
    "\n",
    "plt.title('Recall@5')\n",
    "plt.plot(word_hist5[0].history['recall_12'], label='train')\n",
    "plt.plot(word_hist5[0].history['val_recall_12'], label='test')\n",
    "plt.legend()\n",
    "plt.show();\n",
    "\n",
    "plt.title('Loss')\n",
    "plt.plot(word_hist5[1].history['loss'], label='train')\n",
    "plt.plot(word_hist5[1].history['val_loss'], label='test')\n",
    "plt.legend()\n",
    "plt.show();\n",
    "\n",
    "plt.title('Recall@10')\n",
    "plt.plot(word_hist5[1].history['recall_13'], label='train')\n",
    "plt.plot(word_hist5[1].history['val_recall_13'], label='test')\n",
    "plt.legend()\n",
    "plt.show();\n",
    "\n",
    "plt.title('Loss')\n",
    "plt.plot(word_hist5[2].history['loss'], label='train')\n",
    "plt.plot(word_hist5[2].history['val_loss'], label='test')\n",
    "plt.legend()\n",
    "plt.show();\n",
    "\n",
    "plt.title('Recall@15')\n",
    "plt.plot(word_hist5[2].history['recall_14'], label='train')\n",
    "plt.plot(word_hist5[2].history['val_recall_14'], label='test')\n",
    "plt.legend()\n",
    "plt.show();"
   ]
  },
  {
   "cell_type": "code",
   "execution_count": 10,
   "metadata": {},
   "outputs": [
    {
     "name": "stderr",
     "output_type": "stream",
     "text": [
      "<ipython-input-3-0365f3784ca9>:92: FutureWarning:\n",
      "\n",
      "The default value of regex will change from True to False in a future version.\n",
      "\n"
     ]
    },
    {
     "name": "stdout",
     "output_type": "stream",
     "text": [
      "Found 24450 unique tokens.\n",
      "X Shape of data tensor: (40602, 250) (2462, 250)\n",
      "X_ori Shape of data tensor: (40602, 250) (4921, 250)\n",
      "Shape of label tensor: (1231, 92)\n",
      "Y Shape of label tensor: (40602, 37) (2462, 37)\n",
      "X train Shape of data tensor: (40602, 250) X test:  (2462, 250)\n",
      "Y Shape of label tensor: (40602, 37) X test:  (2462, 37)\n",
      "Epoch 1/20\n",
      "571/571 [==============================] - 270s 473ms/step - loss: 3.1983 - recall_15: 0.5146 - accuracy: 0.1261 - val_loss: 3.1543 - val_recall_15: 0.5145 - val_accuracy: 0.1362\n",
      "Epoch 2/20\n",
      "571/571 [==============================] - 268s 469ms/step - loss: 3.1753 - recall_15: 0.5212 - accuracy: 0.1288 - val_loss: 3.1595 - val_recall_15: 0.5367 - val_accuracy: 0.1005\n",
      "Epoch 3/20\n",
      "571/571 [==============================] - 270s 472ms/step - loss: 3.1748 - recall_15: 0.5213 - accuracy: 0.1283 - val_loss: 3.1471 - val_recall_15: 0.5367 - val_accuracy: 0.1362\n",
      "Epoch 4/20\n",
      "571/571 [==============================] - 270s 473ms/step - loss: 3.1736 - recall_15: 0.5225 - accuracy: 0.1305 - val_loss: 3.1567 - val_recall_15: 0.5145 - val_accuracy: 0.1362\n",
      "Epoch 5/20\n",
      "571/571 [==============================] - 270s 473ms/step - loss: 3.1740 - recall_15: 0.5203 - accuracy: 0.1288 - val_loss: 3.1551 - val_recall_15: 0.5367 - val_accuracy: 0.1362\n",
      "Epoch 6/20\n",
      "571/571 [==============================] - 270s 472ms/step - loss: 3.1732 - recall_15: 0.5215 - accuracy: 0.1282 - val_loss: 3.1551 - val_recall_15: 0.5367 - val_accuracy: 0.1362\n",
      "77/77 [==============================] - 3s 45ms/step - loss: 3.3981 - recall_15: 0.5104 - accuracy: 0.0999\n",
      "Test set\n",
      " Loss: 3.398\n",
      " Accuracy: 0.510\n",
      "Epoch 1/20\n",
      "571/571 [==============================] - 266s 466ms/step - loss: 3.1973 - recall_16: 0.7704 - accuracy: 0.1265 - val_loss: 3.1580 - val_recall_16: 0.7919 - val_accuracy: 0.1362\n",
      "Epoch 2/20\n",
      "571/571 [==============================] - 266s 466ms/step - loss: 3.1754 - recall_16: 0.7754 - accuracy: 0.1276 - val_loss: 3.1556 - val_recall_16: 0.7919 - val_accuracy: 0.1231\n",
      "Epoch 3/20\n",
      "571/571 [==============================] - 265s 464ms/step - loss: 3.1745 - recall_16: 0.7746 - accuracy: 0.1262 - val_loss: 3.1556 - val_recall_16: 0.7724 - val_accuracy: 0.1362\n",
      "Epoch 4/20\n",
      "571/571 [==============================] - 265s 464ms/step - loss: 3.1765 - recall_16: 0.7743 - accuracy: 0.1312 - val_loss: 3.1478 - val_recall_16: 0.7919 - val_accuracy: 0.1362\n",
      "Epoch 5/20\n",
      "571/571 [==============================] - 264s 463ms/step - loss: 3.1743 - recall_16: 0.7749 - accuracy: 0.1298 - val_loss: 3.1461 - val_recall_16: 0.7796 - val_accuracy: 0.1362\n",
      "Epoch 6/20\n",
      "571/571 [==============================] - 266s 465ms/step - loss: 3.1722 - recall_16: 0.7753 - accuracy: 0.1315 - val_loss: 3.1571 - val_recall_16: 0.7796 - val_accuracy: 0.1362\n",
      "Epoch 7/20\n",
      "571/571 [==============================] - 264s 463ms/step - loss: 3.1740 - recall_16: 0.7751 - accuracy: 0.1292 - val_loss: 3.1448 - val_recall_16: 0.7919 - val_accuracy: 0.1362\n",
      "Epoch 8/20\n",
      "571/571 [==============================] - 265s 465ms/step - loss: 3.1720 - recall_16: 0.7757 - accuracy: 0.1288 - val_loss: 3.1575 - val_recall_16: 0.7865 - val_accuracy: 0.1362\n",
      "Epoch 9/20\n",
      "571/571 [==============================] - 265s 464ms/step - loss: 3.1731 - recall_16: 0.7749 - accuracy: 0.1297 - val_loss: 3.1552 - val_recall_16: 0.7865 - val_accuracy: 0.1362\n",
      "Epoch 10/20\n",
      "571/571 [==============================] - 265s 464ms/step - loss: 3.1745 - recall_16: 0.7740 - accuracy: 0.1295 - val_loss: 3.1562 - val_recall_16: 0.7919 - val_accuracy: 0.1231\n",
      "77/77 [==============================] - 4s 50ms/step - loss: 3.3478 - recall_16: 0.6962 - accuracy: 0.0906\n",
      "Test set\n",
      " Loss: 3.348\n",
      " Accuracy: 0.696\n",
      "Epoch 1/20\n",
      "571/571 [==============================] - 262s 458ms/step - loss: 3.1983 - recall_17: 0.8941 - accuracy: 0.1241 - val_loss: 3.1668 - val_recall_17: 0.9075 - val_accuracy: 0.1362\n",
      "Epoch 2/20\n",
      "571/571 [==============================] - 272s 476ms/step - loss: 3.1753 - recall_17: 0.8991 - accuracy: 0.1265 - val_loss: 3.1680 - val_recall_17: 0.9066 - val_accuracy: 0.1005\n",
      "Epoch 3/20\n",
      "571/571 [==============================] - 272s 476ms/step - loss: 3.1768 - recall_17: 0.8989 - accuracy: 0.1274 - val_loss: 3.1470 - val_recall_17: 0.9075 - val_accuracy: 0.1362\n",
      "Epoch 4/20\n",
      "571/571 [==============================] - 271s 475ms/step - loss: 3.1750 - recall_17: 0.8993 - accuracy: 0.1300 - val_loss: 3.1600 - val_recall_17: 0.9075 - val_accuracy: 0.1362\n",
      "Epoch 5/20\n",
      "571/571 [==============================] - 272s 476ms/step - loss: 3.1747 - recall_17: 0.8993 - accuracy: 0.1284 - val_loss: 3.1495 - val_recall_17: 0.9075 - val_accuracy: 0.1362\n",
      "Epoch 6/20\n",
      "571/571 [==============================] - 272s 476ms/step - loss: 3.1745 - recall_17: 0.8996 - accuracy: 0.1294 - val_loss: 3.1526 - val_recall_17: 0.9075 - val_accuracy: 0.1362\n",
      "77/77 [==============================] - 4s 46ms/step - loss: 3.3504 - recall_17: 0.8564 - accuracy: 0.0999\n",
      "Test set\n",
      " Loss: 3.350\n",
      " Accuracy: 0.856\n"
     ]
    }
   ],
   "source": [
    "#pius_word1.print_plot(2)\n",
    "pius_word6.preprocessing()\n",
    "pius_word6.clean_text()\n",
    "pius_word6.tokenize_df()\n",
    "pius_word6.labels_to_int()\n",
    "word_hist6 = []\n",
    "for topk in list(range(5, 16, 5)):\n",
    "    pius_word6.set_model(topk_num=topk)\n",
    "    pius_word6.run_model()\n",
    "\n",
    "    accr = pius_word6.model.evaluate(pius_word6.X_test, pius_word6.Y_test)\n",
    "    print('Test set\\n Loss: {:0.3f}\\n Accuracy: {:0.3f}'.format(accr[0], accr[1]))\n",
    "\n",
    "    word_hist6.append(pius_word6.history)"
   ]
  },
  {
   "cell_type": "code",
   "execution_count": 21,
   "metadata": {},
   "outputs": [
    {
     "data": {
      "image/png": "[encoded data removed]",
      "text/plain": [
       "<Figure size 432x288 with 1 Axes>"
      ]
     },
     "metadata": {
      "needs_background": "light"
     },
     "output_type": "display_data"
    },
    {
     "data": {
      "image/png": "[encoded data removed]",
      "text/plain": [
       "<Figure size 432x288 with 1 Axes>"
      ]
     },
     "metadata": {
      "needs_background": "light"
     },
     "output_type": "display_data"
    },
    {
     "data": {
      "image/png": "[encoded data removed]",
      "text/plain": [
       "<Figure size 432x288 with 1 Axes>"
      ]
     },
     "metadata": {
      "needs_background": "light"
     },
     "output_type": "display_data"
    },
    {
     "data": {
      "image/png": "[encoded data removed]",
      "text/plain": [
       "<Figure size 432x288 with 1 Axes>"
      ]
     },
     "metadata": {
      "needs_background": "light"
     },
     "output_type": "display_data"
    },
    {
     "data": {
      "image/png": "[encoded data removed]",
      "text/plain": [
       "<Figure size 432x288 with 1 Axes>"
      ]
     },
     "metadata": {
      "needs_background": "light"
     },
     "output_type": "display_data"
    },
    {
     "data": {
      "image/png": "[encoded data removed]",
      "text/plain": [
       "<Figure size 432x288 with 1 Axes>"
      ]
     },
     "metadata": {
      "needs_background": "light"
     },
     "output_type": "display_data"
    }
   ],
   "source": [
    "plt.title('Loss')\n",
    "plt.plot(word_hist6[0].history['loss'], label='train')\n",
    "plt.plot(word_hist6[0].history['val_loss'], label='test')\n",
    "plt.legend()\n",
    "plt.show();\n",
    "\n",
    "plt.title('Recall@5')\n",
    "plt.plot(word_hist6[0].history['recall_15'], label='train')\n",
    "plt.plot(word_hist6[0].history['val_recall_15'], label='test')\n",
    "plt.legend()\n",
    "plt.show();\n",
    "\n",
    "plt.title('Loss')\n",
    "plt.plot(word_hist6[1].history['loss'], label='train')\n",
    "plt.plot(word_hist6[1].history['val_loss'], label='test')\n",
    "plt.legend()\n",
    "plt.show();\n",
    "\n",
    "plt.title('Recall@10')\n",
    "plt.plot(word_hist6[1].history['recall_16'], label='train')\n",
    "plt.plot(word_hist6[1].history['val_recall_16'], label='test')\n",
    "plt.legend()\n",
    "plt.show();\n",
    "\n",
    "plt.title('Loss')\n",
    "plt.plot(word_hist6[2].history['loss'], label='train')\n",
    "plt.plot(word_hist6[2].history['val_loss'], label='test')\n",
    "plt.legend()\n",
    "plt.show();\n",
    "\n",
    "plt.title('Recall@15')\n",
    "plt.plot(word_hist6[2].history['recall_17'], label='train')\n",
    "plt.plot(word_hist6[2].history['val_recall_17'], label='test')\n",
    "plt.legend()\n",
    "plt.show();"
   ]
  },
  {
   "cell_type": "code",
   "execution_count": 11,
   "metadata": {},
   "outputs": [
    {
     "name": "stderr",
     "output_type": "stream",
     "text": [
      "<ipython-input-3-0365f3784ca9>:92: FutureWarning:\n",
      "\n",
      "The default value of regex will change from True to False in a future version.\n",
      "\n"
     ]
    },
    {
     "name": "stdout",
     "output_type": "stream",
     "text": [
      "Found 49852 unique tokens.\n",
      "X Shape of data tensor: (40602, 250) (2462, 250)\n",
      "X_ori Shape of data tensor: (40602, 250) (4921, 250)\n",
      "Shape of label tensor: (1231, 92)\n",
      "Y Shape of label tensor: (40602, 37) (2462, 37)\n",
      "X train Shape of data tensor: (40602, 250) X test:  (2462, 250)\n",
      "Y Shape of label tensor: (40602, 37) X test:  (2462, 37)\n",
      "Epoch 1/20\n",
      "571/571 [==============================] - 282s 494ms/step - loss: 3.1967 - recall_18: 0.5185 - accuracy: 0.1277 - val_loss: 3.1894 - val_recall_18: 0.5228 - val_accuracy: 0.1039\n",
      "Epoch 2/20\n",
      "571/571 [==============================] - 285s 500ms/step - loss: 3.1746 - recall_18: 0.5223 - accuracy: 0.1279 - val_loss: 3.1830 - val_recall_18: 0.5228 - val_accuracy: 0.1320\n",
      "Epoch 3/20\n",
      "571/571 [==============================] - 285s 499ms/step - loss: 3.1732 - recall_18: 0.5212 - accuracy: 0.1290 - val_loss: 3.1720 - val_recall_18: 0.5228 - val_accuracy: 0.1320\n",
      "Epoch 4/20\n",
      "571/571 [==============================] - 285s 499ms/step - loss: 3.1736 - recall_18: 0.5236 - accuracy: 0.1298 - val_loss: 3.1706 - val_recall_18: 0.5065 - val_accuracy: 0.1320\n",
      "Epoch 5/20\n",
      "571/571 [==============================] - 286s 501ms/step - loss: 3.1727 - recall_18: 0.5218 - accuracy: 0.1290 - val_loss: 3.1719 - val_recall_18: 0.5228 - val_accuracy: 0.1320\n",
      "Epoch 6/20\n",
      "571/571 [==============================] - 283s 496ms/step - loss: 3.1735 - recall_18: 0.5233 - accuracy: 0.1277 - val_loss: 3.1777 - val_recall_18: 0.5228 - val_accuracy: 0.1039\n",
      "Epoch 7/20\n",
      "571/571 [==============================] - 280s 491ms/step - loss: 3.1731 - recall_18: 0.5226 - accuracy: 0.1267 - val_loss: 3.1658 - val_recall_18: 0.5228 - val_accuracy: 0.1172\n",
      "Epoch 8/20\n",
      "571/571 [==============================] - 281s 491ms/step - loss: 3.1713 - recall_18: 0.5217 - accuracy: 0.1291 - val_loss: 3.1828 - val_recall_18: 0.5228 - val_accuracy: 0.1320\n",
      "Epoch 9/20\n",
      "571/571 [==============================] - 281s 492ms/step - loss: 3.1734 - recall_18: 0.5224 - accuracy: 0.1304 - val_loss: 3.1730 - val_recall_18: 0.5228 - val_accuracy: 0.1320\n",
      "Epoch 10/20\n",
      "571/571 [==============================] - 280s 491ms/step - loss: 3.1733 - recall_18: 0.5238 - accuracy: 0.1284 - val_loss: 3.1751 - val_recall_18: 0.5228 - val_accuracy: 0.1320\n",
      "77/77 [==============================] - 3s 43ms/step - loss: 3.3920 - recall_18: 0.5104 - accuracy: 0.0999\n",
      "Test set\n",
      " Loss: 3.392\n",
      " Accuracy: 0.510\n",
      "Epoch 1/20\n",
      "571/571 [==============================] - 280s 491ms/step - loss: 3.1971 - recall_19: 0.7723 - accuracy: 0.1270 - val_loss: 3.1787 - val_recall_19: 0.7779 - val_accuracy: 0.0850\n",
      "Epoch 2/20\n",
      "571/571 [==============================] - 281s 493ms/step - loss: 3.1746 - recall_19: 0.7750 - accuracy: 0.1297 - val_loss: 3.1857 - val_recall_19: 0.7659 - val_accuracy: 0.1172\n",
      "Epoch 3/20\n",
      "571/571 [==============================] - 279s 489ms/step - loss: 3.1740 - recall_19: 0.7757 - accuracy: 0.1277 - val_loss: 3.1824 - val_recall_19: 0.7682 - val_accuracy: 0.1320\n",
      "Epoch 4/20\n",
      "571/571 [==============================] - 280s 490ms/step - loss: 3.1720 - recall_19: 0.7771 - accuracy: 0.1297 - val_loss: 3.1980 - val_recall_19: 0.7779 - val_accuracy: 0.1320\n",
      "77/77 [==============================] - 4s 52ms/step - loss: 3.4406 - recall_19: 0.6962 - accuracy: 0.0999\n",
      "Test set\n",
      " Loss: 3.441\n",
      " Accuracy: 0.696\n",
      "Epoch 1/20\n",
      "571/571 [==============================] - 281s 493ms/step - loss: 3.1981 - recall_20: 0.8955 - accuracy: 0.1259 - val_loss: 3.1823 - val_recall_20: 0.8994 - val_accuracy: 0.1320\n",
      "Epoch 2/20\n",
      "571/571 [==============================] - 281s 491ms/step - loss: 3.1726 - recall_20: 0.9004 - accuracy: 0.1287 - val_loss: 3.1717 - val_recall_20: 0.9001 - val_accuracy: 0.1320\n",
      "Epoch 3/20\n",
      "571/571 [==============================] - 280s 491ms/step - loss: 3.1734 - recall_20: 0.8995 - accuracy: 0.1292 - val_loss: 3.1712 - val_recall_20: 0.9001 - val_accuracy: 0.1320\n",
      "Epoch 4/20\n",
      "571/571 [==============================] - 281s 492ms/step - loss: 3.1720 - recall_20: 0.9001 - accuracy: 0.1285 - val_loss: 3.1689 - val_recall_20: 0.8974 - val_accuracy: 0.1320\n",
      "Epoch 5/20\n",
      "571/571 [==============================] - 280s 490ms/step - loss: 3.1734 - recall_20: 0.9005 - accuracy: 0.1287 - val_loss: 3.1720 - val_recall_20: 0.9001 - val_accuracy: 0.1320\n",
      "Epoch 6/20\n",
      "571/571 [==============================] - 281s 491ms/step - loss: 3.1738 - recall_20: 0.8999 - accuracy: 0.1294 - val_loss: 3.1756 - val_recall_20: 0.8994 - val_accuracy: 0.1320\n",
      "Epoch 7/20\n",
      "571/571 [==============================] - 280s 491ms/step - loss: 3.1723 - recall_20: 0.9001 - accuracy: 0.1296 - val_loss: 3.1801 - val_recall_20: 0.9001 - val_accuracy: 0.1320\n",
      "77/77 [==============================] - 4s 57ms/step - loss: 3.4028 - recall_20: 0.8340 - accuracy: 0.0999\n",
      "Test set\n",
      " Loss: 3.403\n",
      " Accuracy: 0.834\n"
     ]
    }
   ],
   "source": [
    "#pius_word1.print_plot(2)\n",
    "pius_word7.preprocessing()\n",
    "pius_word7.clean_text()\n",
    "pius_word7.tokenize_df()\n",
    "pius_word7.labels_to_int()\n",
    "word_hist7 = []\n",
    "for topk in list(range(5, 16, 5)):\n",
    "    pius_word7.set_model(topk_num=topk)\n",
    "    pius_word7.run_model()\n",
    "\n",
    "    accr = pius_word7.model.evaluate(pius_word7.X_test, pius_word7.Y_test)\n",
    "    print('Test set\\n Loss: {:0.3f}\\n Accuracy: {:0.3f}'.format(accr[0], accr[1]))\n",
    "\n",
    "    word_hist7.append(pius_word7.history)\n"
   ]
  },
  {
   "cell_type": "code",
   "execution_count": 20,
   "metadata": {},
   "outputs": [
    {
     "data": {
      "image/png": "[encoded data removed]",
      "text/plain": [
       "<Figure size 432x288 with 1 Axes>"
      ]
     },
     "metadata": {
      "needs_background": "light"
     },
     "output_type": "display_data"
    },
    {
     "data": {
      "image/png": "[encoded data removed]",
      "text/plain": [
       "<Figure size 432x288 with 1 Axes>"
      ]
     },
     "metadata": {
      "needs_background": "light"
     },
     "output_type": "display_data"
    },
    {
     "data": {
      "image/png": "[encoded data removed]",
      "text/plain": [
       "<Figure size 432x288 with 1 Axes>"
      ]
     },
     "metadata": {
      "needs_background": "light"
     },
     "output_type": "display_data"
    },
    {
     "data": {
      "image/png": "[encoded data removed]",
      "text/plain": [
       "<Figure size 432x288 with 1 Axes>"
      ]
     },
     "metadata": {
      "needs_background": "light"
     },
     "output_type": "display_data"
    },
    {
     "data": {
      "image/png": "[encoded data removed]",
      "text/plain": [
       "<Figure size 432x288 with 1 Axes>"
      ]
     },
     "metadata": {
      "needs_background": "light"
     },
     "output_type": "display_data"
    },
    {
     "data": {
      "image/png": "[encoded data removed]",
      "text/plain": [
       "<Figure size 432x288 with 1 Axes>"
      ]
     },
     "metadata": {
      "needs_background": "light"
     },
     "output_type": "display_data"
    }
   ],
   "source": [
    "plt.title('Loss')\n",
    "plt.plot(word_hist7[0].history['loss'], label='train')\n",
    "plt.plot(word_hist7[0].history['val_loss'], label='test')\n",
    "plt.legend()\n",
    "plt.show();\n",
    "\n",
    "plt.title('Recall@5')\n",
    "plt.plot(word_hist7[0].history['recall_18'], label='train')\n",
    "plt.plot(word_hist7[0].history['val_recall_18'], label='test')\n",
    "plt.legend()\n",
    "plt.show();\n",
    "\n",
    "plt.title('Loss')\n",
    "plt.plot(word_hist7[1].history['loss'], label='train')\n",
    "plt.plot(word_hist7[1].history['val_loss'], label='test')\n",
    "plt.legend()\n",
    "plt.show();\n",
    "\n",
    "plt.title('Recall@10')\n",
    "plt.plot(word_hist7[1].history['recall_19'], label='train')\n",
    "plt.plot(word_hist7[1].history['val_recall_19'], label='test')\n",
    "plt.legend()\n",
    "plt.show();\n",
    "\n",
    "plt.title('Loss')\n",
    "plt.plot(word_hist7[2].history['loss'], label='train')\n",
    "plt.plot(word_hist7[2].history['val_loss'], label='test')\n",
    "plt.legend()\n",
    "plt.show();\n",
    "\n",
    "plt.title('Recall@15')\n",
    "plt.plot(word_hist7[2].history['recall_20'], label='train')\n",
    "plt.plot(word_hist7[2].history['val_recall_20'], label='test')\n",
    "plt.legend()\n",
    "plt.show();"
   ]
  },
  {
   "cell_type": "code",
   "execution_count": 12,
   "metadata": {},
   "outputs": [
    {
     "data": {
      "text/plain": [
       "\"plt.title('Loss')\\nplt.plot(pius_word7.history.history['loss'], label='train')\\nplt.plot(pius_word7.history.history['val_loss'], label='test')\\nplt.legend()\\nplt.show();\\n\\nplt.title('Accuracy')\\nplt.plot(pius_word7.history.history['recall'], label='train')\\nplt.plot(pius_word7.history.history['val_recall'], label='test')\\nplt.legend()\\nplt.show();\""
      ]
     },
     "execution_count": 12,
     "metadata": {},
     "output_type": "execute_result"
    }
   ],
   "source": [
    "'''plt.title('Loss')\n",
    "plt.plot(pius_word7.history.history['loss'], label='train')\n",
    "plt.plot(pius_word7.history.history['val_loss'], label='test')\n",
    "plt.legend()\n",
    "plt.show();\n",
    "\n",
    "plt.title('Accuracy')\n",
    "plt.plot(pius_word7.history.history['recall'], label='train')\n",
    "plt.plot(pius_word7.history.history['val_recall'], label='test')\n",
    "plt.legend()\n",
    "plt.show();'''"
   ]
  },
  {
   "cell_type": "code",
   "execution_count": 13,
   "metadata": {},
   "outputs": [
    {
     "name": "stdout",
     "output_type": "stream",
     "text": [
      "77/77 [==============================] - 4s 56ms/step - loss: 3.3561 - recall_2: 0.8340 - accuracy: 0.0999\n",
      "Test set\n",
      " Loss: 3.356\n",
      " Accuracy: 0.834\n"
     ]
    }
   ],
   "source": [
    "accr = pius_word1.model.evaluate(pius_word1.X_test, pius_word1.Y_test)\n",
    "print('Test set\\n Loss: {:0.3f}\\n Accuracy: {:0.3f}'.format(accr[0], accr[1]))"
   ]
  },
  {
   "cell_type": "code",
   "execution_count": 14,
   "metadata": {},
   "outputs": [
    {
     "data": {
      "image/png": "[encoded data removed]",
      "text/plain": [
       "<Figure size 432x288 with 1 Axes>"
      ]
     },
     "metadata": {
      "needs_background": "light"
     },
     "output_type": "display_data"
    },
    {
     "ename": "KeyError",
     "evalue": "'recall_7'",
     "output_type": "error",
     "traceback": [
      "\u001b[1;31m---------------------------------------------------------------------------\u001b[0m",
      "\u001b[1;31mKeyError\u001b[0m                                  Traceback (most recent call last)",
      "\u001b[1;32m<ipython-input-14-94b9de18d4ff>\u001b[0m in \u001b[0;36m<module>\u001b[1;34m\u001b[0m\n\u001b[0;32m      6\u001b[0m \u001b[1;33m\u001b[0m\u001b[0m\n\u001b[0;32m      7\u001b[0m \u001b[0mplt\u001b[0m\u001b[1;33m.\u001b[0m\u001b[0mtitle\u001b[0m\u001b[1;33m(\u001b[0m\u001b[1;34m'Accuracy'\u001b[0m\u001b[1;33m)\u001b[0m\u001b[1;33m\u001b[0m\u001b[1;33m\u001b[0m\u001b[0m\n\u001b[1;32m----> 8\u001b[1;33m \u001b[0mplt\u001b[0m\u001b[1;33m.\u001b[0m\u001b[0mplot\u001b[0m\u001b[1;33m(\u001b[0m\u001b[0mpius_word1\u001b[0m\u001b[1;33m.\u001b[0m\u001b[0mhistory\u001b[0m\u001b[1;33m.\u001b[0m\u001b[0mhistory\u001b[0m\u001b[1;33m[\u001b[0m\u001b[1;34m'recall_7'\u001b[0m\u001b[1;33m]\u001b[0m\u001b[1;33m,\u001b[0m \u001b[0mlabel\u001b[0m\u001b[1;33m=\u001b[0m\u001b[1;34m'train'\u001b[0m\u001b[1;33m)\u001b[0m\u001b[1;33m\u001b[0m\u001b[1;33m\u001b[0m\u001b[0m\n\u001b[0m\u001b[0;32m      9\u001b[0m \u001b[0mplt\u001b[0m\u001b[1;33m.\u001b[0m\u001b[0mplot\u001b[0m\u001b[1;33m(\u001b[0m\u001b[0mpius_word1\u001b[0m\u001b[1;33m.\u001b[0m\u001b[0mhistory\u001b[0m\u001b[1;33m.\u001b[0m\u001b[0mhistory\u001b[0m\u001b[1;33m[\u001b[0m\u001b[1;34m'val_recall_7'\u001b[0m\u001b[1;33m]\u001b[0m\u001b[1;33m,\u001b[0m \u001b[0mlabel\u001b[0m\u001b[1;33m=\u001b[0m\u001b[1;34m'test'\u001b[0m\u001b[1;33m)\u001b[0m\u001b[1;33m\u001b[0m\u001b[1;33m\u001b[0m\u001b[0m\n\u001b[0;32m     10\u001b[0m \u001b[0mplt\u001b[0m\u001b[1;33m.\u001b[0m\u001b[0mlegend\u001b[0m\u001b[1;33m(\u001b[0m\u001b[1;33m)\u001b[0m\u001b[1;33m\u001b[0m\u001b[1;33m\u001b[0m\u001b[0m\n",
      "\u001b[1;31mKeyError\u001b[0m: 'recall_7'"
     ]
    },
    {
     "data": {
      "image/png": "[encoded data removed]",
      "text/plain": [
       "<Figure size 432x288 with 1 Axes>"
      ]
     },
     "metadata": {
      "needs_background": "light"
     },
     "output_type": "display_data"
    }
   ],
   "source": [
    "plt.title('Loss')\n",
    "plt.plot(pius_word1.history.history['loss'], label='train')\n",
    "plt.plot(pius_word1.history.history['val_loss'], label='test')\n",
    "plt.legend()\n",
    "plt.show();\n",
    "\n",
    "plt.title('Accuracy')\n",
    "plt.plot(pius_word1.history.history['recall_7'], label='train')\n",
    "plt.plot(pius_word1.history.history['val_recall_7'], label='test')\n",
    "plt.legend()\n",
    "plt.show();"
   ]
  },
  {
   "cell_type": "code",
   "execution_count": null,
   "metadata": {},
   "outputs": [
    {
     "data": {
      "image/png": "[encoded data removed]",
      "text/plain": [
       "<Figure size 432x288 with 1 Axes>"
      ]
     },
     "metadata": {
      "needs_background": "light"
     },
     "output_type": "display_data"
    }
   ],
   "source": [
    "plt.title('Accuracy')\n",
    "plt.plot(pius_word1.history.history['recall_7'], label='train')\n",
    "plt.plot(pius_word1.history.history['val_recall_7'], label='test')\n",
    "plt.legend()\n",
    "plt.show();"
   ]
  },
  {
   "cell_type": "code",
   "execution_count": null,
   "metadata": {},
   "outputs": [
    {
     "name": "stdout",
     "output_type": "stream",
     "text": [
      "('Failed to import pydot. You must `pip install pydot` and install graphviz (https://graphviz.gitlab.io/download/), ', 'for `pydotprint` to work.')\n"
     ]
    }
   ],
   "source": [
    "from keras.utils import plot_model\n",
    "plot_model(pius_word1.model, show_shapes = True, show_layer_names = True)"
   ]
  },
  {
   "cell_type": "code",
   "execution_count": null,
   "metadata": {},
   "outputs": [
    {
     "data": {
      "application/vnd.plotly.v1+json": {
       "config": {
        "linkText": "Export to plot.ly",
        "plotlyServerURL": "https://plot.ly",
        "showLink": true
       },
       "data": [
        {
         "marker": {
          "color": "rgba(255, 153, 51, 0.6)",
          "line": {
           "color": "rgba(255, 153, 51, 1.0)",
           "width": 1
          }
         },
         "name": "component",
         "orientation": "v",
         "text": "",
         "type": "bar",
         "x": [
          "fs",
          "build",
          "security",
          "test",
          "documentation",
          "ipc",
          "io",
          "conf",
          "scripts",
          "util",
          "fs/s3",
          "metrics",
          "native",
          "contrib/hod",
          "yetus",
          "tools",
          "ha",
          "kms",
          "record",
          "net",
          "bin",
          "contrib/cloud",
          "tools/distcp",
          "nfs",
          "viewfs",
          "fs/swift",
          "auto-failover",
          "benchmarks",
          "performance",
          "azure",
          "contrib/eclipse-plugin",
          "site",
          "filecache",
          "tracing",
          "fs/azure",
          "trash",
          "contrib/serialization"
         ],
         "y": [
          6300,
          5488,
          4417,
          3395,
          3339,
          2625,
          2485,
          2156,
          1862,
          1855,
          1624,
          1190,
          952,
          798,
          539,
          497,
          476,
          336,
          301,
          301,
          231,
          224,
          196,
          182,
          168,
          168,
          161,
          147,
          119,
          105,
          91,
          77,
          77,
          70,
          56,
          42,
          14
         ]
        }
       ],
       "layout": {
        "legend": {
         "bgcolor": "#F5F6F9",
         "font": {
          "color": "#4D5663"
         }
        },
        "paper_bgcolor": "#F5F6F9",
        "plot_bgcolor": "#F5F6F9",
        "template": {
         "data": {
          "bar": [
           {
            "error_x": {
             "color": "#2a3f5f"
            },
            "error_y": {
             "color": "#2a3f5f"
            },
            "marker": {
             "line": {
              "color": "#E5ECF6",
              "width": 0.5
             }
            },
            "type": "bar"
           }
          ],
          "barpolar": [
           {
            "marker": {
             "line": {
              "color": "#E5ECF6",
              "width": 0.5
             }
            },
            "type": "barpolar"
           }
          ],
          "carpet": [
           {
            "aaxis": {
             "endlinecolor": "#2a3f5f",
             "gridcolor": "white",
             "linecolor": "white",
             "minorgridcolor": "white",
             "startlinecolor": "#2a3f5f"
            },
            "baxis": {
             "endlinecolor": "#2a3f5f",
             "gridcolor": "white",
             "linecolor": "white",
             "minorgridcolor": "white",
             "startlinecolor": "#2a3f5f"
            },
            "type": "carpet"
           }
          ],
          "choropleth": [
           {
            "colorbar": {
             "outlinewidth": 0,
             "ticks": ""
            },
            "type": "choropleth"
           }
          ],
          "contour": [
           {
            "colorbar": {
             "outlinewidth": 0,
             "ticks": ""
            },
            "colorscale": [
             [
              0,
              "#0d0887"
             ],
             [
              0.1111111111111111,
              "#46039f"
             ],
             [
              0.2222222222222222,
              "#7201a8"
             ],
             [
              0.3333333333333333,
              "#9c179e"
             ],
             [
              0.4444444444444444,
              "#bd3786"
             ],
             [
              0.5555555555555556,
              "#d8576b"
             ],
             [
              0.6666666666666666,
              "#ed7953"
             ],
             [
              0.7777777777777778,
              "#fb9f3a"
             ],
             [
              0.8888888888888888,
              "#fdca26"
             ],
             [
              1,
              "#f0f921"
             ]
            ],
            "type": "contour"
           }
          ],
          "contourcarpet": [
           {
            "colorbar": {
             "outlinewidth": 0,
             "ticks": ""
            },
            "type": "contourcarpet"
           }
          ],
          "heatmap": [
           {
            "colorbar": {
             "outlinewidth": 0,
             "ticks": ""
            },
            "colorscale": [
             [
              0,
              "#0d0887"
             ],
             [
              0.1111111111111111,
              "#46039f"
             ],
             [
              0.2222222222222222,
              "#7201a8"
             ],
             [
              0.3333333333333333,
              "#9c179e"
             ],
             [
              0.4444444444444444,
              "#bd3786"
             ],
             [
              0.5555555555555556,
              "#d8576b"
             ],
             [
              0.6666666666666666,
              "#ed7953"
             ],
             [
              0.7777777777777778,
              "#fb9f3a"
             ],
             [
              0.8888888888888888,
              "#fdca26"
             ],
             [
              1,
              "#f0f921"
             ]
            ],
            "type": "heatmap"
           }
          ],
          "heatmapgl": [
           {
            "colorbar": {
             "outlinewidth": 0,
             "ticks": ""
            },
            "colorscale": [
             [
              0,
              "#0d0887"
             ],
             [
              0.1111111111111111,
              "#46039f"
             ],
             [
              0.2222222222222222,
              "#7201a8"
             ],
             [
              0.3333333333333333,
              "#9c179e"
             ],
             [
              0.4444444444444444,
              "#bd3786"
             ],
             [
              0.5555555555555556,
              "#d8576b"
             ],
             [
              0.6666666666666666,
              "#ed7953"
             ],
             [
              0.7777777777777778,
              "#fb9f3a"
             ],
             [
              0.8888888888888888,
              "#fdca26"
             ],
             [
              1,
              "#f0f921"
             ]
            ],
            "type": "heatmapgl"
           }
          ],
          "histogram": [
           {
            "marker": {
             "colorbar": {
              "outlinewidth": 0,
              "ticks": ""
             }
            },
            "type": "histogram"
           }
          ],
          "histogram2d": [
           {
            "colorbar": {
             "outlinewidth": 0,
             "ticks": ""
            },
            "colorscale": [
             [
              0,
              "#0d0887"
             ],
             [
              0.1111111111111111,
              "#46039f"
             ],
             [
              0.2222222222222222,
              "#7201a8"
             ],
             [
              0.3333333333333333,
              "#9c179e"
             ],
             [
              0.4444444444444444,
              "#bd3786"
             ],
             [
              0.5555555555555556,
              "#d8576b"
             ],
             [
              0.6666666666666666,
              "#ed7953"
             ],
             [
              0.7777777777777778,
              "#fb9f3a"
             ],
             [
              0.8888888888888888,
              "#fdca26"
             ],
             [
              1,
              "#f0f921"
             ]
            ],
            "type": "histogram2d"
           }
          ],
          "histogram2dcontour": [
           {
            "colorbar": {
             "outlinewidth": 0,
             "ticks": ""
            },
            "colorscale": [
             [
              0,
              "#0d0887"
             ],
             [
              0.1111111111111111,
              "#46039f"
             ],
             [
              0.2222222222222222,
              "#7201a8"
             ],
             [
              0.3333333333333333,
              "#9c179e"
             ],
             [
              0.4444444444444444,
              "#bd3786"
             ],
             [
              0.5555555555555556,
              "#d8576b"
             ],
             [
              0.6666666666666666,
              "#ed7953"
             ],
             [
              0.7777777777777778,
              "#fb9f3a"
             ],
             [
              0.8888888888888888,
              "#fdca26"
             ],
             [
              1,
              "#f0f921"
             ]
            ],
            "type": "histogram2dcontour"
           }
          ],
          "mesh3d": [
           {
            "colorbar": {
             "outlinewidth": 0,
             "ticks": ""
            },
            "type": "mesh3d"
           }
          ],
          "parcoords": [
           {
            "line": {
             "colorbar": {
              "outlinewidth": 0,
              "ticks": ""
             }
            },
            "type": "parcoords"
           }
          ],
          "pie": [
           {
            "automargin": true,
            "type": "pie"
           }
          ],
          "scatter": [
           {
            "marker": {
             "colorbar": {
              "outlinewidth": 0,
              "ticks": ""
             }
            },
            "type": "scatter"
           }
          ],
          "scatter3d": [
           {
            "line": {
             "colorbar": {
              "outlinewidth": 0,
              "ticks": ""
             }
            },
            "marker": {
             "colorbar": {
              "outlinewidth": 0,
              "ticks": ""
             }
            },
            "type": "scatter3d"
           }
          ],
          "scattercarpet": [
           {
            "marker": {
             "colorbar": {
              "outlinewidth": 0,
              "ticks": ""
             }
            },
            "type": "scattercarpet"
           }
          ],
          "scattergeo": [
           {
            "marker": {
             "colorbar": {
              "outlinewidth": 0,
              "ticks": ""
             }
            },
            "type": "scattergeo"
           }
          ],
          "scattergl": [
           {
            "marker": {
             "colorbar": {
              "outlinewidth": 0,
              "ticks": ""
             }
            },
            "type": "scattergl"
           }
          ],
          "scattermapbox": [
           {
            "marker": {
             "colorbar": {
              "outlinewidth": 0,
              "ticks": ""
             }
            },
            "type": "scattermapbox"
           }
          ],
          "scatterpolar": [
           {
            "marker": {
             "colorbar": {
              "outlinewidth": 0,
              "ticks": ""
             }
            },
            "type": "scatterpolar"
           }
          ],
          "scatterpolargl": [
           {
            "marker": {
             "colorbar": {
              "outlinewidth": 0,
              "ticks": ""
             }
            },
            "type": "scatterpolargl"
           }
          ],
          "scatterternary": [
           {
            "marker": {
             "colorbar": {
              "outlinewidth": 0,
              "ticks": ""
             }
            },
            "type": "scatterternary"
           }
          ],
          "surface": [
           {
            "colorbar": {
             "outlinewidth": 0,
             "ticks": ""
            },
            "colorscale": [
             [
              0,
              "#0d0887"
             ],
             [
              0.1111111111111111,
              "#46039f"
             ],
             [
              0.2222222222222222,
              "#7201a8"
             ],
             [
              0.3333333333333333,
              "#9c179e"
             ],
             [
              0.4444444444444444,
              "#bd3786"
             ],
             [
              0.5555555555555556,
              "#d8576b"
             ],
             [
              0.6666666666666666,
              "#ed7953"
             ],
             [
              0.7777777777777778,
              "#fb9f3a"
             ],
             [
              0.8888888888888888,
              "#fdca26"
             ],
             [
              1,
              "#f0f921"
             ]
            ],
            "type": "surface"
           }
          ],
          "table": [
           {
            "cells": {
             "fill": {
              "color": "#EBF0F8"
             },
             "line": {
              "color": "white"
             }
            },
            "header": {
             "fill": {
              "color": "#C8D4E3"
             },
             "line": {
              "color": "white"
             }
            },
            "type": "table"
           }
          ]
         },
         "layout": {
          "annotationdefaults": {
           "arrowcolor": "#2a3f5f",
           "arrowhead": 0,
           "arrowwidth": 1
          },
          "autotypenumbers": "strict",
          "coloraxis": {
           "colorbar": {
            "outlinewidth": 0,
            "ticks": ""
           }
          },
          "colorscale": {
           "diverging": [
            [
             0,
             "#8e0152"
            ],
            [
             0.1,
             "#c51b7d"
            ],
            [
             0.2,
             "#de77ae"
            ],
            [
             0.3,
             "#f1b6da"
            ],
            [
             0.4,
             "#fde0ef"
            ],
            [
             0.5,
             "#f7f7f7"
            ],
            [
             0.6,
             "#e6f5d0"
            ],
            [
             0.7,
             "#b8e186"
            ],
            [
             0.8,
             "#7fbc41"
            ],
            [
             0.9,
             "#4d9221"
            ],
            [
             1,
             "#276419"
            ]
           ],
           "sequential": [
            [
             0,
             "#0d0887"
            ],
            [
             0.1111111111111111,
             "#46039f"
            ],
            [
             0.2222222222222222,
             "#7201a8"
            ],
            [
             0.3333333333333333,
             "#9c179e"
            ],
            [
             0.4444444444444444,
             "#bd3786"
            ],
            [
             0.5555555555555556,
             "#d8576b"
            ],
            [
             0.6666666666666666,
             "#ed7953"
            ],
            [
             0.7777777777777778,
             "#fb9f3a"
            ],
            [
             0.8888888888888888,
             "#fdca26"
            ],
            [
             1,
             "#f0f921"
            ]
           ],
           "sequentialminus": [
            [
             0,
             "#0d0887"
            ],
            [
             0.1111111111111111,
             "#46039f"
            ],
            [
             0.2222222222222222,
             "#7201a8"
            ],
            [
             0.3333333333333333,
             "#9c179e"
            ],
            [
             0.4444444444444444,
             "#bd3786"
            ],
            [
             0.5555555555555556,
             "#d8576b"
            ],
            [
             0.6666666666666666,
             "#ed7953"
            ],
            [
             0.7777777777777778,
             "#fb9f3a"
            ],
            [
             0.8888888888888888,
             "#fdca26"
            ],
            [
             1,
             "#f0f921"
            ]
           ]
          },
          "colorway": [
           "#636efa",
           "#EF553B",
           "#00cc96",
           "#ab63fa",
           "#FFA15A",
           "#19d3f3",
           "#FF6692",
           "#B6E880",
           "#FF97FF",
           "#FECB52"
          ],
          "font": {
           "color": "#2a3f5f"
          },
          "geo": {
           "bgcolor": "white",
           "lakecolor": "white",
           "landcolor": "#E5ECF6",
           "showlakes": true,
           "showland": true,
           "subunitcolor": "white"
          },
          "hoverlabel": {
           "align": "left"
          },
          "hovermode": "closest",
          "mapbox": {
           "style": "light"
          },
          "paper_bgcolor": "white",
          "plot_bgcolor": "#E5ECF6",
          "polar": {
           "angularaxis": {
            "gridcolor": "white",
            "linecolor": "white",
            "ticks": ""
           },
           "bgcolor": "#E5ECF6",
           "radialaxis": {
            "gridcolor": "white",
            "linecolor": "white",
            "ticks": ""
           }
          },
          "scene": {
           "xaxis": {
            "backgroundcolor": "#E5ECF6",
            "gridcolor": "white",
            "gridwidth": 2,
            "linecolor": "white",
            "showbackground": true,
            "ticks": "",
            "zerolinecolor": "white"
           },
           "yaxis": {
            "backgroundcolor": "#E5ECF6",
            "gridcolor": "white",
            "gridwidth": 2,
            "linecolor": "white",
            "showbackground": true,
            "ticks": "",
            "zerolinecolor": "white"
           },
           "zaxis": {
            "backgroundcolor": "#E5ECF6",
            "gridcolor": "white",
            "gridwidth": 2,
            "linecolor": "white",
            "showbackground": true,
            "ticks": "",
            "zerolinecolor": "white"
           }
          },
          "shapedefaults": {
           "line": {
            "color": "#2a3f5f"
           }
          },
          "ternary": {
           "aaxis": {
            "gridcolor": "white",
            "linecolor": "white",
            "ticks": ""
           },
           "baxis": {
            "gridcolor": "white",
            "linecolor": "white",
            "ticks": ""
           },
           "bgcolor": "#E5ECF6",
           "caxis": {
            "gridcolor": "white",
            "linecolor": "white",
            "ticks": ""
           }
          },
          "title": {
           "x": 0.05
          },
          "xaxis": {
           "automargin": true,
           "gridcolor": "white",
           "linecolor": "white",
           "ticks": "",
           "title": {
            "standoff": 15
           },
           "zerolinecolor": "white",
           "zerolinewidth": 2
          },
          "yaxis": {
           "automargin": true,
           "gridcolor": "white",
           "linecolor": "white",
           "ticks": "",
           "title": {
            "standoff": 15
           },
           "zerolinecolor": "white",
           "zerolinewidth": 2
          }
         }
        },
        "title": {
         "font": {
          "color": "#4D5663"
         },
         "text": "Number complaints in each component"
        },
        "xaxis": {
         "gridcolor": "#E1E5ED",
         "showgrid": true,
         "tickfont": {
          "color": "#4D5663"
         },
         "title": {
          "font": {
           "color": "#4D5663"
          },
          "text": ""
         },
         "zerolinecolor": "#E1E5ED"
        },
        "yaxis": {
         "gridcolor": "#E1E5ED",
         "showgrid": true,
         "tickfont": {
          "color": "#4D5663"
         },
         "title": {
          "font": {
           "color": "#4D5663"
          },
          "text": "Number of Complaints"
         },
         "zerolinecolor": "#E1E5ED"
        }
       }
      },
      "text/html": [
       "<div>                            <div id=\"02fb9524-a855-4deb-8116-d42bc07e1f38\" class=\"plotly-graph-div\" style=\"height:525px; width:100%;\"></div>            <script type=\"text/javascript\">                require([\"plotly\"], function(Plotly) {                    window.PLOTLYENV=window.PLOTLYENV || {};\n",
       "                    window.PLOTLYENV.BASE_URL='https://plot.ly';                                    if (document.getElementById(\"02fb9524-a855-4deb-8116-d42bc07e1f38\")) {                    Plotly.newPlot(                        \"02fb9524-a855-4deb-8116-d42bc07e1f38\",                        [{\"marker\": {\"color\": \"rgba(255, 153, 51, 0.6)\", \"line\": {\"color\": \"rgba(255, 153, 51, 1.0)\", \"width\": 1}}, \"name\": \"component\", \"orientation\": \"v\", \"text\": \"\", \"type\": \"bar\", \"x\": [\"fs\", \"build\", \"security\", \"test\", \"documentation\", \"ipc\", \"io\", \"conf\", \"scripts\", \"util\", \"fs/s3\", \"metrics\", \"native\", \"contrib/hod\", \"yetus\", \"tools\", \"ha\", \"kms\", \"record\", \"net\", \"bin\", \"contrib/cloud\", \"tools/distcp\", \"nfs\", \"viewfs\", \"fs/swift\", \"auto-failover\", \"benchmarks\", \"performance\", \"azure\", \"contrib/eclipse-plugin\", \"site\", \"filecache\", \"tracing\", \"fs/azure\", \"trash\", \"contrib/serialization\"], \"y\": [6300, 5488, 4417, 3395, 3339, 2625, 2485, 2156, 1862, 1855, 1624, 1190, 952, 798, 539, 497, 476, 336, 301, 301, 231, 224, 196, 182, 168, 168, 161, 147, 119, 105, 91, 77, 77, 70, 56, 42, 14]}],                        {\"legend\": {\"bgcolor\": \"#F5F6F9\", \"font\": {\"color\": \"#4D5663\"}}, \"paper_bgcolor\": \"#F5F6F9\", \"plot_bgcolor\": \"#F5F6F9\", \"template\": {\"data\": {\"bar\": [{\"error_x\": {\"color\": \"#2a3f5f\"}, \"error_y\": {\"color\": \"#2a3f5f\"}, \"marker\": {\"line\": {\"color\": \"#E5ECF6\", \"width\": 0.5}}, \"type\": \"bar\"}], \"barpolar\": [{\"marker\": {\"line\": {\"color\": \"#E5ECF6\", \"width\": 0.5}}, \"type\": \"barpolar\"}], \"carpet\": [{\"aaxis\": {\"endlinecolor\": \"#2a3f5f\", \"gridcolor\": \"white\", \"linecolor\": \"white\", \"minorgridcolor\": \"white\", \"startlinecolor\": \"#2a3f5f\"}, \"baxis\": {\"endlinecolor\": \"#2a3f5f\", \"gridcolor\": \"white\", \"linecolor\": \"white\", \"minorgridcolor\": \"white\", \"startlinecolor\": \"#2a3f5f\"}, \"type\": \"carpet\"}], \"choropleth\": [{\"colorbar\": {\"outlinewidth\": 0, \"ticks\": \"\"}, \"type\": \"choropleth\"}], \"contour\": [{\"colorbar\": {\"outlinewidth\": 0, \"ticks\": \"\"}, \"colorscale\": [[0.0, \"#0d0887\"], [0.1111111111111111, \"#46039f\"], [0.2222222222222222, \"#7201a8\"], [0.3333333333333333, \"#9c179e\"], [0.4444444444444444, \"#bd3786\"], [0.5555555555555556, \"#d8576b\"], [0.6666666666666666, \"#ed7953\"], [0.7777777777777778, \"#fb9f3a\"], [0.8888888888888888, \"#fdca26\"], [1.0, \"#f0f921\"]], \"type\": \"contour\"}], \"contourcarpet\": [{\"colorbar\": {\"outlinewidth\": 0, \"ticks\": \"\"}, \"type\": \"contourcarpet\"}], \"heatmap\": [{\"colorbar\": {\"outlinewidth\": 0, \"ticks\": \"\"}, \"colorscale\": [[0.0, \"#0d0887\"], [0.1111111111111111, \"#46039f\"], [0.2222222222222222, \"#7201a8\"], [0.3333333333333333, \"#9c179e\"], [0.4444444444444444, \"#bd3786\"], [0.5555555555555556, \"#d8576b\"], [0.6666666666666666, \"#ed7953\"], [0.7777777777777778, \"#fb9f3a\"], [0.8888888888888888, \"#fdca26\"], [1.0, \"#f0f921\"]], \"type\": \"heatmap\"}], \"heatmapgl\": [{\"colorbar\": {\"outlinewidth\": 0, \"ticks\": \"\"}, \"colorscale\": [[0.0, \"#0d0887\"], [0.1111111111111111, \"#46039f\"], [0.2222222222222222, \"#7201a8\"], [0.3333333333333333, \"#9c179e\"], [0.4444444444444444, \"#bd3786\"], [0.5555555555555556, \"#d8576b\"], [0.6666666666666666, \"#ed7953\"], [0.7777777777777778, \"#fb9f3a\"], [0.8888888888888888, \"#fdca26\"], [1.0, \"#f0f921\"]], \"type\": \"heatmapgl\"}], \"histogram\": [{\"marker\": {\"colorbar\": {\"outlinewidth\": 0, \"ticks\": \"\"}}, \"type\": \"histogram\"}], \"histogram2d\": [{\"colorbar\": {\"outlinewidth\": 0, \"ticks\": \"\"}, \"colorscale\": [[0.0, \"#0d0887\"], [0.1111111111111111, \"#46039f\"], [0.2222222222222222, \"#7201a8\"], [0.3333333333333333, \"#9c179e\"], [0.4444444444444444, \"#bd3786\"], [0.5555555555555556, \"#d8576b\"], [0.6666666666666666, \"#ed7953\"], [0.7777777777777778, \"#fb9f3a\"], [0.8888888888888888, \"#fdca26\"], [1.0, \"#f0f921\"]], \"type\": \"histogram2d\"}], \"histogram2dcontour\": [{\"colorbar\": {\"outlinewidth\": 0, \"ticks\": \"\"}, \"colorscale\": [[0.0, \"#0d0887\"], [0.1111111111111111, \"#46039f\"], [0.2222222222222222, \"#7201a8\"], [0.3333333333333333, \"#9c179e\"], [0.4444444444444444, \"#bd3786\"], [0.5555555555555556, \"#d8576b\"], [0.6666666666666666, \"#ed7953\"], [0.7777777777777778, \"#fb9f3a\"], [0.8888888888888888, \"#fdca26\"], [1.0, \"#f0f921\"]], \"type\": \"histogram2dcontour\"}], \"mesh3d\": [{\"colorbar\": {\"outlinewidth\": 0, \"ticks\": \"\"}, \"type\": \"mesh3d\"}], \"parcoords\": [{\"line\": {\"colorbar\": {\"outlinewidth\": 0, \"ticks\": \"\"}}, \"type\": \"parcoords\"}], \"pie\": [{\"automargin\": true, \"type\": \"pie\"}], \"scatter\": [{\"marker\": {\"colorbar\": {\"outlinewidth\": 0, \"ticks\": \"\"}}, \"type\": \"scatter\"}], \"scatter3d\": [{\"line\": {\"colorbar\": {\"outlinewidth\": 0, \"ticks\": \"\"}}, \"marker\": {\"colorbar\": {\"outlinewidth\": 0, \"ticks\": \"\"}}, \"type\": \"scatter3d\"}], \"scattercarpet\": [{\"marker\": {\"colorbar\": {\"outlinewidth\": 0, \"ticks\": \"\"}}, \"type\": \"scattercarpet\"}], \"scattergeo\": [{\"marker\": {\"colorbar\": {\"outlinewidth\": 0, \"ticks\": \"\"}}, \"type\": \"scattergeo\"}], \"scattergl\": [{\"marker\": {\"colorbar\": {\"outlinewidth\": 0, \"ticks\": \"\"}}, \"type\": \"scattergl\"}], \"scattermapbox\": [{\"marker\": {\"colorbar\": {\"outlinewidth\": 0, \"ticks\": \"\"}}, \"type\": \"scattermapbox\"}], \"scatterpolar\": [{\"marker\": {\"colorbar\": {\"outlinewidth\": 0, \"ticks\": \"\"}}, \"type\": \"scatterpolar\"}], \"scatterpolargl\": [{\"marker\": {\"colorbar\": {\"outlinewidth\": 0, \"ticks\": \"\"}}, \"type\": \"scatterpolargl\"}], \"scatterternary\": [{\"marker\": {\"colorbar\": {\"outlinewidth\": 0, \"ticks\": \"\"}}, \"type\": \"scatterternary\"}], \"surface\": [{\"colorbar\": {\"outlinewidth\": 0, \"ticks\": \"\"}, \"colorscale\": [[0.0, \"#0d0887\"], [0.1111111111111111, \"#46039f\"], [0.2222222222222222, \"#7201a8\"], [0.3333333333333333, \"#9c179e\"], [0.4444444444444444, \"#bd3786\"], [0.5555555555555556, \"#d8576b\"], [0.6666666666666666, \"#ed7953\"], [0.7777777777777778, \"#fb9f3a\"], [0.8888888888888888, \"#fdca26\"], [1.0, \"#f0f921\"]], \"type\": \"surface\"}], \"table\": [{\"cells\": {\"fill\": {\"color\": \"#EBF0F8\"}, \"line\": {\"color\": \"white\"}}, \"header\": {\"fill\": {\"color\": \"#C8D4E3\"}, \"line\": {\"color\": \"white\"}}, \"type\": \"table\"}]}, \"layout\": {\"annotationdefaults\": {\"arrowcolor\": \"#2a3f5f\", \"arrowhead\": 0, \"arrowwidth\": 1}, \"autotypenumbers\": \"strict\", \"coloraxis\": {\"colorbar\": {\"outlinewidth\": 0, \"ticks\": \"\"}}, \"colorscale\": {\"diverging\": [[0, \"#8e0152\"], [0.1, \"#c51b7d\"], [0.2, \"#de77ae\"], [0.3, \"#f1b6da\"], [0.4, \"#fde0ef\"], [0.5, \"#f7f7f7\"], [0.6, \"#e6f5d0\"], [0.7, \"#b8e186\"], [0.8, \"#7fbc41\"], [0.9, \"#4d9221\"], [1, \"#276419\"]], \"sequential\": [[0.0, \"#0d0887\"], [0.1111111111111111, \"#46039f\"], [0.2222222222222222, \"#7201a8\"], [0.3333333333333333, \"#9c179e\"], [0.4444444444444444, \"#bd3786\"], [0.5555555555555556, \"#d8576b\"], [0.6666666666666666, \"#ed7953\"], [0.7777777777777778, \"#fb9f3a\"], [0.8888888888888888, \"#fdca26\"], [1.0, \"#f0f921\"]], \"sequentialminus\": [[0.0, \"#0d0887\"], [0.1111111111111111, \"#46039f\"], [0.2222222222222222, \"#7201a8\"], [0.3333333333333333, \"#9c179e\"], [0.4444444444444444, \"#bd3786\"], [0.5555555555555556, \"#d8576b\"], [0.6666666666666666, \"#ed7953\"], [0.7777777777777778, \"#fb9f3a\"], [0.8888888888888888, \"#fdca26\"], [1.0, \"#f0f921\"]]}, \"colorway\": [\"#636efa\", \"#EF553B\", \"#00cc96\", \"#ab63fa\", \"#FFA15A\", \"#19d3f3\", \"#FF6692\", \"#B6E880\", \"#FF97FF\", \"#FECB52\"], \"font\": {\"color\": \"#2a3f5f\"}, \"geo\": {\"bgcolor\": \"white\", \"lakecolor\": \"white\", \"landcolor\": \"#E5ECF6\", \"showlakes\": true, \"showland\": true, \"subunitcolor\": \"white\"}, \"hoverlabel\": {\"align\": \"left\"}, \"hovermode\": \"closest\", \"mapbox\": {\"style\": \"light\"}, \"paper_bgcolor\": \"white\", \"plot_bgcolor\": \"#E5ECF6\", \"polar\": {\"angularaxis\": {\"gridcolor\": \"white\", \"linecolor\": \"white\", \"ticks\": \"\"}, \"bgcolor\": \"#E5ECF6\", \"radialaxis\": {\"gridcolor\": \"white\", \"linecolor\": \"white\", \"ticks\": \"\"}}, \"scene\": {\"xaxis\": {\"backgroundcolor\": \"#E5ECF6\", \"gridcolor\": \"white\", \"gridwidth\": 2, \"linecolor\": \"white\", \"showbackground\": true, \"ticks\": \"\", \"zerolinecolor\": \"white\"}, \"yaxis\": {\"backgroundcolor\": \"#E5ECF6\", \"gridcolor\": \"white\", \"gridwidth\": 2, \"linecolor\": \"white\", \"showbackground\": true, \"ticks\": \"\", \"zerolinecolor\": \"white\"}, \"zaxis\": {\"backgroundcolor\": \"#E5ECF6\", \"gridcolor\": \"white\", \"gridwidth\": 2, \"linecolor\": \"white\", \"showbackground\": true, \"ticks\": \"\", \"zerolinecolor\": \"white\"}}, \"shapedefaults\": {\"line\": {\"color\": \"#2a3f5f\"}}, \"ternary\": {\"aaxis\": {\"gridcolor\": \"white\", \"linecolor\": \"white\", \"ticks\": \"\"}, \"baxis\": {\"gridcolor\": \"white\", \"linecolor\": \"white\", \"ticks\": \"\"}, \"bgcolor\": \"#E5ECF6\", \"caxis\": {\"gridcolor\": \"white\", \"linecolor\": \"white\", \"ticks\": \"\"}}, \"title\": {\"x\": 0.05}, \"xaxis\": {\"automargin\": true, \"gridcolor\": \"white\", \"linecolor\": \"white\", \"ticks\": \"\", \"title\": {\"standoff\": 15}, \"zerolinecolor\": \"white\", \"zerolinewidth\": 2}, \"yaxis\": {\"automargin\": true, \"gridcolor\": \"white\", \"linecolor\": \"white\", \"ticks\": \"\", \"title\": {\"standoff\": 15}, \"zerolinecolor\": \"white\", \"zerolinewidth\": 2}}}, \"title\": {\"font\": {\"color\": \"#4D5663\"}, \"text\": \"Number complaints in each component\"}, \"xaxis\": {\"gridcolor\": \"#E1E5ED\", \"showgrid\": true, \"tickfont\": {\"color\": \"#4D5663\"}, \"title\": {\"font\": {\"color\": \"#4D5663\"}, \"text\": \"\"}, \"zerolinecolor\": \"#E1E5ED\"}, \"yaxis\": {\"gridcolor\": \"#E1E5ED\", \"showgrid\": true, \"tickfont\": {\"color\": \"#4D5663\"}, \"title\": {\"font\": {\"color\": \"#4D5663\"}, \"text\": \"Number of Complaints\"}, \"zerolinecolor\": \"#E1E5ED\"}},                        {\"showLink\": true, \"linkText\": \"Export to plot.ly\", \"plotlyServerURL\": \"https://plot.ly\", \"responsive\": true}                    ).then(function(){\n",
       "                            \n",
       "var gd = document.getElementById('02fb9524-a855-4deb-8116-d42bc07e1f38');\n",
       "var x = new MutationObserver(function (mutations, observer) {{\n",
       "        var display = window.getComputedStyle(gd).display;\n",
       "        if (!display || display === 'none') {{\n",
       "            console.log([gd, 'removed!']);\n",
       "            Plotly.purge(gd);\n",
       "            observer.disconnect();\n",
       "        }}\n",
       "}});\n",
       "\n",
       "// Listen for the removal of the full notebook cells\n",
       "var notebookContainer = gd.closest('#notebook-container');\n",
       "if (notebookContainer) {{\n",
       "    x.observe(notebookContainer, {childList: true});\n",
       "}}\n",
       "\n",
       "// Listen for the clearing of the current output cell\n",
       "var outputEl = gd.closest('.output');\n",
       "if (outputEl) {{\n",
       "    x.observe(outputEl, {childList: true});\n",
       "}}\n",
       "\n",
       "                        })                };                });            </script>        </div>"
      ]
     },
     "metadata": {},
     "output_type": "display_data"
    }
   ],
   "source": [
    "pius_word1.df['component'].value_counts().sort_values(ascending=False).iplot(kind = 'bar', yTitle = 'Number of Complaints', title = 'Number complaints in each component')"
   ]
  },
  {
   "cell_type": "code",
   "execution_count": null,
   "metadata": {},
   "outputs": [
    {
     "data": {
      "application/vnd.plotly.v1+json": {
       "config": {
        "linkText": "Export to plot.ly",
        "plotlyServerURL": "https://plot.ly",
        "showLink": true
       },
       "data": [
        {
         "marker": {
          "color": "rgba(255, 153, 51, 0.6)",
          "line": {
           "color": "rgba(255, 153, 51, 1.0)",
           "width": 1
          }
         },
         "name": "component",
         "orientation": "v",
         "text": "",
         "type": "bar",
         "x": [
          "fs",
          "build",
          "security",
          "test",
          "documentation",
          "ipc",
          "io",
          "conf",
          "scripts",
          "util",
          "fs/s3",
          "metrics",
          "native",
          "contrib/hod",
          "yetus",
          "tools",
          "ha",
          "kms",
          "net",
          "record",
          "bin",
          "contrib/cloud",
          "tools/distcp",
          "nfs",
          "fs/swift",
          "viewfs",
          "auto-failover",
          "benchmarks",
          "performance",
          "azure",
          "contrib/eclipse-plugin",
          "site",
          "filecache",
          "tracing",
          "fs/azure",
          "trash",
          "contrib/serialization"
         ],
         "y": [
          1800,
          1568,
          1262,
          970,
          954,
          750,
          710,
          616,
          532,
          530,
          464,
          340,
          272,
          228,
          154,
          142,
          136,
          96,
          86,
          86,
          66,
          64,
          56,
          52,
          48,
          48,
          46,
          42,
          34,
          30,
          26,
          22,
          22,
          20,
          16,
          12,
          4
         ]
        }
       ],
       "layout": {
        "legend": {
         "bgcolor": "#F5F6F9",
         "font": {
          "color": "#4D5663"
         }
        },
        "paper_bgcolor": "#F5F6F9",
        "plot_bgcolor": "#F5F6F9",
        "template": {
         "data": {
          "bar": [
           {
            "error_x": {
             "color": "#2a3f5f"
            },
            "error_y": {
             "color": "#2a3f5f"
            },
            "marker": {
             "line": {
              "color": "#E5ECF6",
              "width": 0.5
             }
            },
            "type": "bar"
           }
          ],
          "barpolar": [
           {
            "marker": {
             "line": {
              "color": "#E5ECF6",
              "width": 0.5
             }
            },
            "type": "barpolar"
           }
          ],
          "carpet": [
           {
            "aaxis": {
             "endlinecolor": "#2a3f5f",
             "gridcolor": "white",
             "linecolor": "white",
             "minorgridcolor": "white",
             "startlinecolor": "#2a3f5f"
            },
            "baxis": {
             "endlinecolor": "#2a3f5f",
             "gridcolor": "white",
             "linecolor": "white",
             "minorgridcolor": "white",
             "startlinecolor": "#2a3f5f"
            },
            "type": "carpet"
           }
          ],
          "choropleth": [
           {
            "colorbar": {
             "outlinewidth": 0,
             "ticks": ""
            },
            "type": "choropleth"
           }
          ],
          "contour": [
           {
            "colorbar": {
             "outlinewidth": 0,
             "ticks": ""
            },
            "colorscale": [
             [
              0,
              "#0d0887"
             ],
             [
              0.1111111111111111,
              "#46039f"
             ],
             [
              0.2222222222222222,
              "#7201a8"
             ],
             [
              0.3333333333333333,
              "#9c179e"
             ],
             [
              0.4444444444444444,
              "#bd3786"
             ],
             [
              0.5555555555555556,
              "#d8576b"
             ],
             [
              0.6666666666666666,
              "#ed7953"
             ],
             [
              0.7777777777777778,
              "#fb9f3a"
             ],
             [
              0.8888888888888888,
              "#fdca26"
             ],
             [
              1,
              "#f0f921"
             ]
            ],
            "type": "contour"
           }
          ],
          "contourcarpet": [
           {
            "colorbar": {
             "outlinewidth": 0,
             "ticks": ""
            },
            "type": "contourcarpet"
           }
          ],
          "heatmap": [
           {
            "colorbar": {
             "outlinewidth": 0,
             "ticks": ""
            },
            "colorscale": [
             [
              0,
              "#0d0887"
             ],
             [
              0.1111111111111111,
              "#46039f"
             ],
             [
              0.2222222222222222,
              "#7201a8"
             ],
             [
              0.3333333333333333,
              "#9c179e"
             ],
             [
              0.4444444444444444,
              "#bd3786"
             ],
             [
              0.5555555555555556,
              "#d8576b"
             ],
             [
              0.6666666666666666,
              "#ed7953"
             ],
             [
              0.7777777777777778,
              "#fb9f3a"
             ],
             [
              0.8888888888888888,
              "#fdca26"
             ],
             [
              1,
              "#f0f921"
             ]
            ],
            "type": "heatmap"
           }
          ],
          "heatmapgl": [
           {
            "colorbar": {
             "outlinewidth": 0,
             "ticks": ""
            },
            "colorscale": [
             [
              0,
              "#0d0887"
             ],
             [
              0.1111111111111111,
              "#46039f"
             ],
             [
              0.2222222222222222,
              "#7201a8"
             ],
             [
              0.3333333333333333,
              "#9c179e"
             ],
             [
              0.4444444444444444,
              "#bd3786"
             ],
             [
              0.5555555555555556,
              "#d8576b"
             ],
             [
              0.6666666666666666,
              "#ed7953"
             ],
             [
              0.7777777777777778,
              "#fb9f3a"
             ],
             [
              0.8888888888888888,
              "#fdca26"
             ],
             [
              1,
              "#f0f921"
             ]
            ],
            "type": "heatmapgl"
           }
          ],
          "histogram": [
           {
            "marker": {
             "colorbar": {
              "outlinewidth": 0,
              "ticks": ""
             }
            },
            "type": "histogram"
           }
          ],
          "histogram2d": [
           {
            "colorbar": {
             "outlinewidth": 0,
             "ticks": ""
            },
            "colorscale": [
             [
              0,
              "#0d0887"
             ],
             [
              0.1111111111111111,
              "#46039f"
             ],
             [
              0.2222222222222222,
              "#7201a8"
             ],
             [
              0.3333333333333333,
              "#9c179e"
             ],
             [
              0.4444444444444444,
              "#bd3786"
             ],
             [
              0.5555555555555556,
              "#d8576b"
             ],
             [
              0.6666666666666666,
              "#ed7953"
             ],
             [
              0.7777777777777778,
              "#fb9f3a"
             ],
             [
              0.8888888888888888,
              "#fdca26"
             ],
             [
              1,
              "#f0f921"
             ]
            ],
            "type": "histogram2d"
           }
          ],
          "histogram2dcontour": [
           {
            "colorbar": {
             "outlinewidth": 0,
             "ticks": ""
            },
            "colorscale": [
             [
              0,
              "#0d0887"
             ],
             [
              0.1111111111111111,
              "#46039f"
             ],
             [
              0.2222222222222222,
              "#7201a8"
             ],
             [
              0.3333333333333333,
              "#9c179e"
             ],
             [
              0.4444444444444444,
              "#bd3786"
             ],
             [
              0.5555555555555556,
              "#d8576b"
             ],
             [
              0.6666666666666666,
              "#ed7953"
             ],
             [
              0.7777777777777778,
              "#fb9f3a"
             ],
             [
              0.8888888888888888,
              "#fdca26"
             ],
             [
              1,
              "#f0f921"
             ]
            ],
            "type": "histogram2dcontour"
           }
          ],
          "mesh3d": [
           {
            "colorbar": {
             "outlinewidth": 0,
             "ticks": ""
            },
            "type": "mesh3d"
           }
          ],
          "parcoords": [
           {
            "line": {
             "colorbar": {
              "outlinewidth": 0,
              "ticks": ""
             }
            },
            "type": "parcoords"
           }
          ],
          "pie": [
           {
            "automargin": true,
            "type": "pie"
           }
          ],
          "scatter": [
           {
            "marker": {
             "colorbar": {
              "outlinewidth": 0,
              "ticks": ""
             }
            },
            "type": "scatter"
           }
          ],
          "scatter3d": [
           {
            "line": {
             "colorbar": {
              "outlinewidth": 0,
              "ticks": ""
             }
            },
            "marker": {
             "colorbar": {
              "outlinewidth": 0,
              "ticks": ""
             }
            },
            "type": "scatter3d"
           }
          ],
          "scattercarpet": [
           {
            "marker": {
             "colorbar": {
              "outlinewidth": 0,
              "ticks": ""
             }
            },
            "type": "scattercarpet"
           }
          ],
          "scattergeo": [
           {
            "marker": {
             "colorbar": {
              "outlinewidth": 0,
              "ticks": ""
             }
            },
            "type": "scattergeo"
           }
          ],
          "scattergl": [
           {
            "marker": {
             "colorbar": {
              "outlinewidth": 0,
              "ticks": ""
             }
            },
            "type": "scattergl"
           }
          ],
          "scattermapbox": [
           {
            "marker": {
             "colorbar": {
              "outlinewidth": 0,
              "ticks": ""
             }
            },
            "type": "scattermapbox"
           }
          ],
          "scatterpolar": [
           {
            "marker": {
             "colorbar": {
              "outlinewidth": 0,
              "ticks": ""
             }
            },
            "type": "scatterpolar"
           }
          ],
          "scatterpolargl": [
           {
            "marker": {
             "colorbar": {
              "outlinewidth": 0,
              "ticks": ""
             }
            },
            "type": "scatterpolargl"
           }
          ],
          "scatterternary": [
           {
            "marker": {
             "colorbar": {
              "outlinewidth": 0,
              "ticks": ""
             }
            },
            "type": "scatterternary"
           }
          ],
          "surface": [
           {
            "colorbar": {
             "outlinewidth": 0,
             "ticks": ""
            },
            "colorscale": [
             [
              0,
              "#0d0887"
             ],
             [
              0.1111111111111111,
              "#46039f"
             ],
             [
              0.2222222222222222,
              "#7201a8"
             ],
             [
              0.3333333333333333,
              "#9c179e"
             ],
             [
              0.4444444444444444,
              "#bd3786"
             ],
             [
              0.5555555555555556,
              "#d8576b"
             ],
             [
              0.6666666666666666,
              "#ed7953"
             ],
             [
              0.7777777777777778,
              "#fb9f3a"
             ],
             [
              0.8888888888888888,
              "#fdca26"
             ],
             [
              1,
              "#f0f921"
             ]
            ],
            "type": "surface"
           }
          ],
          "table": [
           {
            "cells": {
             "fill": {
              "color": "#EBF0F8"
             },
             "line": {
              "color": "white"
             }
            },
            "header": {
             "fill": {
              "color": "#C8D4E3"
             },
             "line": {
              "color": "white"
             }
            },
            "type": "table"
           }
          ]
         },
         "layout": {
          "annotationdefaults": {
           "arrowcolor": "#2a3f5f",
           "arrowhead": 0,
           "arrowwidth": 1
          },
          "autotypenumbers": "strict",
          "coloraxis": {
           "colorbar": {
            "outlinewidth": 0,
            "ticks": ""
           }
          },
          "colorscale": {
           "diverging": [
            [
             0,
             "#8e0152"
            ],
            [
             0.1,
             "#c51b7d"
            ],
            [
             0.2,
             "#de77ae"
            ],
            [
             0.3,
             "#f1b6da"
            ],
            [
             0.4,
             "#fde0ef"
            ],
            [
             0.5,
             "#f7f7f7"
            ],
            [
             0.6,
             "#e6f5d0"
            ],
            [
             0.7,
             "#b8e186"
            ],
            [
             0.8,
             "#7fbc41"
            ],
            [
             0.9,
             "#4d9221"
            ],
            [
             1,
             "#276419"
            ]
           ],
           "sequential": [
            [
             0,
             "#0d0887"
            ],
            [
             0.1111111111111111,
             "#46039f"
            ],
            [
             0.2222222222222222,
             "#7201a8"
            ],
            [
             0.3333333333333333,
             "#9c179e"
            ],
            [
             0.4444444444444444,
             "#bd3786"
            ],
            [
             0.5555555555555556,
             "#d8576b"
            ],
            [
             0.6666666666666666,
             "#ed7953"
            ],
            [
             0.7777777777777778,
             "#fb9f3a"
            ],
            [
             0.8888888888888888,
             "#fdca26"
            ],
            [
             1,
             "#f0f921"
            ]
           ],
           "sequentialminus": [
            [
             0,
             "#0d0887"
            ],
            [
             0.1111111111111111,
             "#46039f"
            ],
            [
             0.2222222222222222,
             "#7201a8"
            ],
            [
             0.3333333333333333,
             "#9c179e"
            ],
            [
             0.4444444444444444,
             "#bd3786"
            ],
            [
             0.5555555555555556,
             "#d8576b"
            ],
            [
             0.6666666666666666,
             "#ed7953"
            ],
            [
             0.7777777777777778,
             "#fb9f3a"
            ],
            [
             0.8888888888888888,
             "#fdca26"
            ],
            [
             1,
             "#f0f921"
            ]
           ]
          },
          "colorway": [
           "#636efa",
           "#EF553B",
           "#00cc96",
           "#ab63fa",
           "#FFA15A",
           "#19d3f3",
           "#FF6692",
           "#B6E880",
           "#FF97FF",
           "#FECB52"
          ],
          "font": {
           "color": "#2a3f5f"
          },
          "geo": {
           "bgcolor": "white",
           "lakecolor": "white",
           "landcolor": "#E5ECF6",
           "showlakes": true,
           "showland": true,
           "subunitcolor": "white"
          },
          "hoverlabel": {
           "align": "left"
          },
          "hovermode": "closest",
          "mapbox": {
           "style": "light"
          },
          "paper_bgcolor": "white",
          "plot_bgcolor": "#E5ECF6",
          "polar": {
           "angularaxis": {
            "gridcolor": "white",
            "linecolor": "white",
            "ticks": ""
           },
           "bgcolor": "#E5ECF6",
           "radialaxis": {
            "gridcolor": "white",
            "linecolor": "white",
            "ticks": ""
           }
          },
          "scene": {
           "xaxis": {
            "backgroundcolor": "#E5ECF6",
            "gridcolor": "white",
            "gridwidth": 2,
            "linecolor": "white",
            "showbackground": true,
            "ticks": "",
            "zerolinecolor": "white"
           },
           "yaxis": {
            "backgroundcolor": "#E5ECF6",
            "gridcolor": "white",
            "gridwidth": 2,
            "linecolor": "white",
            "showbackground": true,
            "ticks": "",
            "zerolinecolor": "white"
           },
           "zaxis": {
            "backgroundcolor": "#E5ECF6",
            "gridcolor": "white",
            "gridwidth": 2,
            "linecolor": "white",
            "showbackground": true,
            "ticks": "",
            "zerolinecolor": "white"
           }
          },
          "shapedefaults": {
           "line": {
            "color": "#2a3f5f"
           }
          },
          "ternary": {
           "aaxis": {
            "gridcolor": "white",
            "linecolor": "white",
            "ticks": ""
           },
           "baxis": {
            "gridcolor": "white",
            "linecolor": "white",
            "ticks": ""
           },
           "bgcolor": "#E5ECF6",
           "caxis": {
            "gridcolor": "white",
            "linecolor": "white",
            "ticks": ""
           }
          },
          "title": {
           "x": 0.05
          },
          "xaxis": {
           "automargin": true,
           "gridcolor": "white",
           "linecolor": "white",
           "ticks": "",
           "title": {
            "standoff": 15
           },
           "zerolinecolor": "white",
           "zerolinewidth": 2
          },
          "yaxis": {
           "automargin": true,
           "gridcolor": "white",
           "linecolor": "white",
           "ticks": "",
           "title": {
            "standoff": 15
           },
           "zerolinecolor": "white",
           "zerolinewidth": 2
          }
         }
        },
        "title": {
         "font": {
          "color": "#4D5663"
         },
         "text": "Number complaints in each component"
        },
        "xaxis": {
         "gridcolor": "#E1E5ED",
         "showgrid": true,
         "tickfont": {
          "color": "#4D5663"
         },
         "title": {
          "font": {
           "color": "#4D5663"
          },
          "text": ""
         },
         "zerolinecolor": "#E1E5ED"
        },
        "yaxis": {
         "gridcolor": "#E1E5ED",
         "showgrid": true,
         "tickfont": {
          "color": "#4D5663"
         },
         "title": {
          "font": {
           "color": "#4D5663"
          },
          "text": "Number of Complaints"
         },
         "zerolinecolor": "#E1E5ED"
        }
       }
      },
      "text/html": [
       "<div>                            <div id=\"19c3df36-db7f-4c07-ae54-4c2252a3b6ca\" class=\"plotly-graph-div\" style=\"height:525px; width:100%;\"></div>            <script type=\"text/javascript\">                require([\"plotly\"], function(Plotly) {                    window.PLOTLYENV=window.PLOTLYENV || {};\n",
       "                    window.PLOTLYENV.BASE_URL='https://plot.ly';                                    if (document.getElementById(\"19c3df36-db7f-4c07-ae54-4c2252a3b6ca\")) {                    Plotly.newPlot(                        \"19c3df36-db7f-4c07-ae54-4c2252a3b6ca\",                        [{\"marker\": {\"color\": \"rgba(255, 153, 51, 0.6)\", \"line\": {\"color\": \"rgba(255, 153, 51, 1.0)\", \"width\": 1}}, \"name\": \"component\", \"orientation\": \"v\", \"text\": \"\", \"type\": \"bar\", \"x\": [\"fs\", \"build\", \"security\", \"test\", \"documentation\", \"ipc\", \"io\", \"conf\", \"scripts\", \"util\", \"fs/s3\", \"metrics\", \"native\", \"contrib/hod\", \"yetus\", \"tools\", \"ha\", \"kms\", \"net\", \"record\", \"bin\", \"contrib/cloud\", \"tools/distcp\", \"nfs\", \"fs/swift\", \"viewfs\", \"auto-failover\", \"benchmarks\", \"performance\", \"azure\", \"contrib/eclipse-plugin\", \"site\", \"filecache\", \"tracing\", \"fs/azure\", \"trash\", \"contrib/serialization\"], \"y\": [1800, 1568, 1262, 970, 954, 750, 710, 616, 532, 530, 464, 340, 272, 228, 154, 142, 136, 96, 86, 86, 66, 64, 56, 52, 48, 48, 46, 42, 34, 30, 26, 22, 22, 20, 16, 12, 4]}],                        {\"legend\": {\"bgcolor\": \"#F5F6F9\", \"font\": {\"color\": \"#4D5663\"}}, \"paper_bgcolor\": \"#F5F6F9\", \"plot_bgcolor\": \"#F5F6F9\", \"template\": {\"data\": {\"bar\": [{\"error_x\": {\"color\": \"#2a3f5f\"}, \"error_y\": {\"color\": \"#2a3f5f\"}, \"marker\": {\"line\": {\"color\": \"#E5ECF6\", \"width\": 0.5}}, \"type\": \"bar\"}], \"barpolar\": [{\"marker\": {\"line\": {\"color\": \"#E5ECF6\", \"width\": 0.5}}, \"type\": \"barpolar\"}], \"carpet\": [{\"aaxis\": {\"endlinecolor\": \"#2a3f5f\", \"gridcolor\": \"white\", \"linecolor\": \"white\", \"minorgridcolor\": \"white\", \"startlinecolor\": \"#2a3f5f\"}, \"baxis\": {\"endlinecolor\": \"#2a3f5f\", \"gridcolor\": \"white\", \"linecolor\": \"white\", \"minorgridcolor\": \"white\", \"startlinecolor\": \"#2a3f5f\"}, \"type\": \"carpet\"}], \"choropleth\": [{\"colorbar\": {\"outlinewidth\": 0, \"ticks\": \"\"}, \"type\": \"choropleth\"}], \"contour\": [{\"colorbar\": {\"outlinewidth\": 0, \"ticks\": \"\"}, \"colorscale\": [[0.0, \"#0d0887\"], [0.1111111111111111, \"#46039f\"], [0.2222222222222222, \"#7201a8\"], [0.3333333333333333, \"#9c179e\"], [0.4444444444444444, \"#bd3786\"], [0.5555555555555556, \"#d8576b\"], [0.6666666666666666, \"#ed7953\"], [0.7777777777777778, \"#fb9f3a\"], [0.8888888888888888, \"#fdca26\"], [1.0, \"#f0f921\"]], \"type\": \"contour\"}], \"contourcarpet\": [{\"colorbar\": {\"outlinewidth\": 0, \"ticks\": \"\"}, \"type\": \"contourcarpet\"}], \"heatmap\": [{\"colorbar\": {\"outlinewidth\": 0, \"ticks\": \"\"}, \"colorscale\": [[0.0, \"#0d0887\"], [0.1111111111111111, \"#46039f\"], [0.2222222222222222, \"#7201a8\"], [0.3333333333333333, \"#9c179e\"], [0.4444444444444444, \"#bd3786\"], [0.5555555555555556, \"#d8576b\"], [0.6666666666666666, \"#ed7953\"], [0.7777777777777778, \"#fb9f3a\"], [0.8888888888888888, \"#fdca26\"], [1.0, \"#f0f921\"]], \"type\": \"heatmap\"}], \"heatmapgl\": [{\"colorbar\": {\"outlinewidth\": 0, \"ticks\": \"\"}, \"colorscale\": [[0.0, \"#0d0887\"], [0.1111111111111111, \"#46039f\"], [0.2222222222222222, \"#7201a8\"], [0.3333333333333333, \"#9c179e\"], [0.4444444444444444, \"#bd3786\"], [0.5555555555555556, \"#d8576b\"], [0.6666666666666666, \"#ed7953\"], [0.7777777777777778, \"#fb9f3a\"], [0.8888888888888888, \"#fdca26\"], [1.0, \"#f0f921\"]], \"type\": \"heatmapgl\"}], \"histogram\": [{\"marker\": {\"colorbar\": {\"outlinewidth\": 0, \"ticks\": \"\"}}, \"type\": \"histogram\"}], \"histogram2d\": [{\"colorbar\": {\"outlinewidth\": 0, \"ticks\": \"\"}, \"colorscale\": [[0.0, \"#0d0887\"], [0.1111111111111111, \"#46039f\"], [0.2222222222222222, \"#7201a8\"], [0.3333333333333333, \"#9c179e\"], [0.4444444444444444, \"#bd3786\"], [0.5555555555555556, \"#d8576b\"], [0.6666666666666666, \"#ed7953\"], [0.7777777777777778, \"#fb9f3a\"], [0.8888888888888888, \"#fdca26\"], [1.0, \"#f0f921\"]], \"type\": \"histogram2d\"}], \"histogram2dcontour\": [{\"colorbar\": {\"outlinewidth\": 0, \"ticks\": \"\"}, \"colorscale\": [[0.0, \"#0d0887\"], [0.1111111111111111, \"#46039f\"], [0.2222222222222222, \"#7201a8\"], [0.3333333333333333, \"#9c179e\"], [0.4444444444444444, \"#bd3786\"], [0.5555555555555556, \"#d8576b\"], [0.6666666666666666, \"#ed7953\"], [0.7777777777777778, \"#fb9f3a\"], [0.8888888888888888, \"#fdca26\"], [1.0, \"#f0f921\"]], \"type\": \"histogram2dcontour\"}], \"mesh3d\": [{\"colorbar\": {\"outlinewidth\": 0, \"ticks\": \"\"}, \"type\": \"mesh3d\"}], \"parcoords\": [{\"line\": {\"colorbar\": {\"outlinewidth\": 0, \"ticks\": \"\"}}, \"type\": \"parcoords\"}], \"pie\": [{\"automargin\": true, \"type\": \"pie\"}], \"scatter\": [{\"marker\": {\"colorbar\": {\"outlinewidth\": 0, \"ticks\": \"\"}}, \"type\": \"scatter\"}], \"scatter3d\": [{\"line\": {\"colorbar\": {\"outlinewidth\": 0, \"ticks\": \"\"}}, \"marker\": {\"colorbar\": {\"outlinewidth\": 0, \"ticks\": \"\"}}, \"type\": \"scatter3d\"}], \"scattercarpet\": [{\"marker\": {\"colorbar\": {\"outlinewidth\": 0, \"ticks\": \"\"}}, \"type\": \"scattercarpet\"}], \"scattergeo\": [{\"marker\": {\"colorbar\": {\"outlinewidth\": 0, \"ticks\": \"\"}}, \"type\": \"scattergeo\"}], \"scattergl\": [{\"marker\": {\"colorbar\": {\"outlinewidth\": 0, \"ticks\": \"\"}}, \"type\": \"scattergl\"}], \"scattermapbox\": [{\"marker\": {\"colorbar\": {\"outlinewidth\": 0, \"ticks\": \"\"}}, \"type\": \"scattermapbox\"}], \"scatterpolar\": [{\"marker\": {\"colorbar\": {\"outlinewidth\": 0, \"ticks\": \"\"}}, \"type\": \"scatterpolar\"}], \"scatterpolargl\": [{\"marker\": {\"colorbar\": {\"outlinewidth\": 0, \"ticks\": \"\"}}, \"type\": \"scatterpolargl\"}], \"scatterternary\": [{\"marker\": {\"colorbar\": {\"outlinewidth\": 0, \"ticks\": \"\"}}, \"type\": \"scatterternary\"}], \"surface\": [{\"colorbar\": {\"outlinewidth\": 0, \"ticks\": \"\"}, \"colorscale\": [[0.0, \"#0d0887\"], [0.1111111111111111, \"#46039f\"], [0.2222222222222222, \"#7201a8\"], [0.3333333333333333, \"#9c179e\"], [0.4444444444444444, \"#bd3786\"], [0.5555555555555556, \"#d8576b\"], [0.6666666666666666, \"#ed7953\"], [0.7777777777777778, \"#fb9f3a\"], [0.8888888888888888, \"#fdca26\"], [1.0, \"#f0f921\"]], \"type\": \"surface\"}], \"table\": [{\"cells\": {\"fill\": {\"color\": \"#EBF0F8\"}, \"line\": {\"color\": \"white\"}}, \"header\": {\"fill\": {\"color\": \"#C8D4E3\"}, \"line\": {\"color\": \"white\"}}, \"type\": \"table\"}]}, \"layout\": {\"annotationdefaults\": {\"arrowcolor\": \"#2a3f5f\", \"arrowhead\": 0, \"arrowwidth\": 1}, \"autotypenumbers\": \"strict\", \"coloraxis\": {\"colorbar\": {\"outlinewidth\": 0, \"ticks\": \"\"}}, \"colorscale\": {\"diverging\": [[0, \"#8e0152\"], [0.1, \"#c51b7d\"], [0.2, \"#de77ae\"], [0.3, \"#f1b6da\"], [0.4, \"#fde0ef\"], [0.5, \"#f7f7f7\"], [0.6, \"#e6f5d0\"], [0.7, \"#b8e186\"], [0.8, \"#7fbc41\"], [0.9, \"#4d9221\"], [1, \"#276419\"]], \"sequential\": [[0.0, \"#0d0887\"], [0.1111111111111111, \"#46039f\"], [0.2222222222222222, \"#7201a8\"], [0.3333333333333333, \"#9c179e\"], [0.4444444444444444, \"#bd3786\"], [0.5555555555555556, \"#d8576b\"], [0.6666666666666666, \"#ed7953\"], [0.7777777777777778, \"#fb9f3a\"], [0.8888888888888888, \"#fdca26\"], [1.0, \"#f0f921\"]], \"sequentialminus\": [[0.0, \"#0d0887\"], [0.1111111111111111, \"#46039f\"], [0.2222222222222222, \"#7201a8\"], [0.3333333333333333, \"#9c179e\"], [0.4444444444444444, \"#bd3786\"], [0.5555555555555556, \"#d8576b\"], [0.6666666666666666, \"#ed7953\"], [0.7777777777777778, \"#fb9f3a\"], [0.8888888888888888, \"#fdca26\"], [1.0, \"#f0f921\"]]}, \"colorway\": [\"#636efa\", \"#EF553B\", \"#00cc96\", \"#ab63fa\", \"#FFA15A\", \"#19d3f3\", \"#FF6692\", \"#B6E880\", \"#FF97FF\", \"#FECB52\"], \"font\": {\"color\": \"#2a3f5f\"}, \"geo\": {\"bgcolor\": \"white\", \"lakecolor\": \"white\", \"landcolor\": \"#E5ECF6\", \"showlakes\": true, \"showland\": true, \"subunitcolor\": \"white\"}, \"hoverlabel\": {\"align\": \"left\"}, \"hovermode\": \"closest\", \"mapbox\": {\"style\": \"light\"}, \"paper_bgcolor\": \"white\", \"plot_bgcolor\": \"#E5ECF6\", \"polar\": {\"angularaxis\": {\"gridcolor\": \"white\", \"linecolor\": \"white\", \"ticks\": \"\"}, \"bgcolor\": \"#E5ECF6\", \"radialaxis\": {\"gridcolor\": \"white\", \"linecolor\": \"white\", \"ticks\": \"\"}}, \"scene\": {\"xaxis\": {\"backgroundcolor\": \"#E5ECF6\", \"gridcolor\": \"white\", \"gridwidth\": 2, \"linecolor\": \"white\", \"showbackground\": true, \"ticks\": \"\", \"zerolinecolor\": \"white\"}, \"yaxis\": {\"backgroundcolor\": \"#E5ECF6\", \"gridcolor\": \"white\", \"gridwidth\": 2, \"linecolor\": \"white\", \"showbackground\": true, \"ticks\": \"\", \"zerolinecolor\": \"white\"}, \"zaxis\": {\"backgroundcolor\": \"#E5ECF6\", \"gridcolor\": \"white\", \"gridwidth\": 2, \"linecolor\": \"white\", \"showbackground\": true, \"ticks\": \"\", \"zerolinecolor\": \"white\"}}, \"shapedefaults\": {\"line\": {\"color\": \"#2a3f5f\"}}, \"ternary\": {\"aaxis\": {\"gridcolor\": \"white\", \"linecolor\": \"white\", \"ticks\": \"\"}, \"baxis\": {\"gridcolor\": \"white\", \"linecolor\": \"white\", \"ticks\": \"\"}, \"bgcolor\": \"#E5ECF6\", \"caxis\": {\"gridcolor\": \"white\", \"linecolor\": \"white\", \"ticks\": \"\"}}, \"title\": {\"x\": 0.05}, \"xaxis\": {\"automargin\": true, \"gridcolor\": \"white\", \"linecolor\": \"white\", \"ticks\": \"\", \"title\": {\"standoff\": 15}, \"zerolinecolor\": \"white\", \"zerolinewidth\": 2}, \"yaxis\": {\"automargin\": true, \"gridcolor\": \"white\", \"linecolor\": \"white\", \"ticks\": \"\", \"title\": {\"standoff\": 15}, \"zerolinecolor\": \"white\", \"zerolinewidth\": 2}}}, \"title\": {\"font\": {\"color\": \"#4D5663\"}, \"text\": \"Number complaints in each component\"}, \"xaxis\": {\"gridcolor\": \"#E1E5ED\", \"showgrid\": true, \"tickfont\": {\"color\": \"#4D5663\"}, \"title\": {\"font\": {\"color\": \"#4D5663\"}, \"text\": \"\"}, \"zerolinecolor\": \"#E1E5ED\"}, \"yaxis\": {\"gridcolor\": \"#E1E5ED\", \"showgrid\": true, \"tickfont\": {\"color\": \"#4D5663\"}, \"title\": {\"font\": {\"color\": \"#4D5663\"}, \"text\": \"Number of Complaints\"}, \"zerolinecolor\": \"#E1E5ED\"}},                        {\"showLink\": true, \"linkText\": \"Export to plot.ly\", \"plotlyServerURL\": \"https://plot.ly\", \"responsive\": true}                    ).then(function(){\n",
       "                            \n",
       "var gd = document.getElementById('19c3df36-db7f-4c07-ae54-4c2252a3b6ca');\n",
       "var x = new MutationObserver(function (mutations, observer) {{\n",
       "        var display = window.getComputedStyle(gd).display;\n",
       "        if (!display || display === 'none') {{\n",
       "            console.log([gd, 'removed!']);\n",
       "            Plotly.purge(gd);\n",
       "            observer.disconnect();\n",
       "        }}\n",
       "}});\n",
       "\n",
       "// Listen for the removal of the full notebook cells\n",
       "var notebookContainer = gd.closest('#notebook-container');\n",
       "if (notebookContainer) {{\n",
       "    x.observe(notebookContainer, {childList: true});\n",
       "}}\n",
       "\n",
       "// Listen for the clearing of the current output cell\n",
       "var outputEl = gd.closest('.output');\n",
       "if (outputEl) {{\n",
       "    x.observe(outputEl, {childList: true});\n",
       "}}\n",
       "\n",
       "                        })                };                });            </script>        </div>"
      ]
     },
     "metadata": {},
     "output_type": "display_data"
    }
   ],
   "source": [
    "'''pius_word1.df['component'].value_counts().sort_values(ascending=False).iplot(kind = 'bar', yTitle = 'Number of Complaints', title = 'Number complaints in each component')'''"
   ]
  },
  {
   "cell_type": "code",
   "execution_count": null,
   "metadata": {},
   "outputs": [],
   "source": [
    "'''def set_model():\n",
    "    model = Sequential()\n",
    "    model.add(Embedding(MAX_NB_WORDS, EMBEDDING_DIM, input_length=X_train.shape[1]))\n",
    "    model.add(SpatialDropout1D(0.2))\n",
    "    model.add(LSTM(100, dropout=0.2, recurrent_dropout=0.2))\n",
    "    model.add(Dense(37, activation='softmax'))\n",
    "    model.compile(loss='categorical_crossentropy', optimizer='adam', metrics=['accuracy'])'''\n"
   ]
  },
  {
   "cell_type": "code",
   "execution_count": 25,
   "metadata": {},
   "outputs": [],
   "source": [
    "word_hist_all = []\n",
    "for i in range(3):\n",
    "    word_hist_all.append(word_hist1[i].history)\n",
    "for i in range(3):\n",
    "    word_hist_all.append(word_hist2[i].history)\n",
    "for i in range(3):\n",
    "    word_hist_all.append(word_hist3[i].history)\n",
    "for i in range(3):\n",
    "    word_hist_all.append(word_hist4[i].history)\n",
    "for i in range(3):\n",
    "    word_hist_all.append(word_hist5[i].history)\n",
    "for i in range(3):\n",
    "    word_hist_all.append(word_hist6[i].history)\n",
    "for i in range(3):\n",
    "    word_hist_all.append(word_hist7[i].history)\n"
   ]
  },
  {
   "cell_type": "code",
   "execution_count": 32,
   "metadata": {},
   "outputs": [],
   "source": [
    "for i in range(3):\n",
    "    word_hist_all.append(word_hist7[i].history)\n",
    "    \n",
    "for x in range(21):\n",
    "    # convert the history dict to a pandas DataFrame\n",
    "    hist_df = pd.DataFrame(word_hist_all[x])\n",
    "\n",
    "    # save to csv\n",
    "    hist_csv_file = 'history/trainhistoryRecallat{}_data{}.csv'.format(int((x%3)*5+5), int(x/3+1))\n",
    "    with open(hist_csv_file, mode = 'w') as f:\n",
    "        hist_df.to_csv(f)"
   ]
  },
  {
   "cell_type": "code",
   "execution_count": 6,
   "metadata": {},
   "outputs": [
    {
     "data": {
      "text/plain": [
       "\"model = Sequential()\\nmodel.add(Embedding(MAX_NB_WORDS, EMBEDDING_DIM, input_length=X.shape[1]))\\n\\nmodel.add(SpatialDropout1D(0.2))\\nmodel.add(LSTM(100, dropout=0.2, recurrent_dropout=0.2))\\n#model.add(LSTM(100, return_sequences=True))\\nmodel.add(Dense(37, activation='sigmoid'))\\n\""
      ]
     },
     "execution_count": 6,
     "metadata": {},
     "output_type": "execute_result"
    },
    {
     "data": {
      "text/plain": [
       "(40602, 250)"
      ]
     },
     "execution_count": 6,
     "metadata": {},
     "output_type": "execute_result"
    }
   ],
   "source": [
    "'''model = Sequential()\n",
    "model.add(Embedding(MAX_NB_WORDS, EMBEDDING_DIM, input_length=X.shape[1]))\n",
    "\n",
    "model.add(SpatialDropout1D(0.2))\n",
    "model.add(LSTM(100, dropout=0.2, recurrent_dropout=0.2))\n",
    "#model.add(LSTM(100, return_sequences=True))\n",
    "model.add(Dense(37, activation='sigmoid'))\n",
    "'''\n",
    "pius_word8.X_train.shape\n",
    "\n",
    "filter_length = 300\n",
    "num_classes = 37\n",
    "modelCNN = tf.keras.Sequential()\n",
    "modelCNN.add(Embedding(MAX_NB_WORDS, 20, input_length= MAX_SEQUENCE_LENGTH))\n",
    "modelCNN.add(Dropout(0.1))\n",
    "modelCNN.add(tf.keras.layers.Conv1D(filter_length, 3, padding = 'valid', activation = 'relu', strides = 1))\n",
    "modelCNN.add(tf.keras.layers.GlobalMaxPool1D())\n",
    "modelCNN.add(Dense(num_classes))\n",
    "modelCNN.add(tf.keras.layers.Activation('sigmoid'))\n",
    "\n",
    "modelCNN.compile(optimizer = 'adam', loss  = 'binary_crossentropy', metrics = [tf.keras.metrics.Recall(top_k = 5)])"
   ]
  },
  {
   "cell_type": "code",
   "execution_count": null,
   "metadata": {},
   "outputs": [
    {
     "ename": "Error",
     "evalue": "Session cannot generate requests",
     "output_type": "error",
     "traceback": [
      "Error: Session cannot generate requests",
      "at S.executeCodeCell (c:\\Users\\PiusHwang\\.vscode\\extensions\\ms-toolsai.jupyter-2021.10.1101450599\\out\\client\\extension.js:66:301742)",
      "at S.execute (c:\\Users\\PiusHwang\\.vscode\\extensions\\ms-toolsai.jupyter-2021.10.1101450599\\out\\client\\extension.js:66:300732)",
      "at S.start (c:\\Users\\PiusHwang\\.vscode\\extensions\\ms-toolsai.jupyter-2021.10.1101450599\\out\\client\\extension.js:66:296408)",
      "at runMicrotasks (<anonymous>)",
      "at processTicksAndRejections (internal/process/task_queues.js:93:5)",
      "at async t.CellExecutionQueue.executeQueuedCells (c:\\Users\\PiusHwang\\.vscode\\extensions\\ms-toolsai.jupyter-2021.10.1101450599\\out\\client\\extension.js:66:312326)",
      "at async t.CellExecutionQueue.start (c:\\Users\\PiusHwang\\.vscode\\extensions\\ms-toolsai.jupyter-2021.10.1101450599\\out\\client\\extension.js:66:311862)"
     ]
    }
   ],
   "source": [
    "\n",
    "\n",
    "for topk in range(5, 16, 5):\n",
    "    filter_length = 300\n",
    "    num_classes = 37\n",
    "    modelCNN = tf.keras.Sequential()\n",
    "    modelCNN.add(Embedding(MAX_NB_WORDS, 20, input_length= MAX_SEQUENCE_LENGTH))\n",
    "    modelCNN.add(Dropout(0.1))\n",
    "    modelCNN.add(tf.keras.layers.Conv1D(filter_length, 3, padding = 'valid', activation = 'relu', strides = 1))\n",
    "    modelCNN.add(tf.keras.layers.GlobalMaxPool1D())\n",
    "    modelCNN.add(Dense(num_classes))\n",
    "    modelCNN.add(tf.keras.layers.Activation('sigmoid'))\n",
    "\n",
    "    modelCNN.summary()\n",
    "    modelCNN.compile(optimizer = 'adam', loss  = 'binary_crossentropy', metrics = [tf.keras.metrics.Recall(top_k = topk)])\n",
    "    modelCNN.fit(pius_word8.X_train, pius_word8.Y_train, epochs=20, batch_size = 64, validation_split=0.1)\n",
    "\n",
    "    accr = pius_word1.modelCNN.evaluate(pius_word1.X_test, pius_word1.Y_test)\n",
    "    print('Test set\\n Loss: {:0.3f}\\n Accuracy: {:0.3f}'.format(accr[0], accr[1]))\n",
    "\n",
    "    word_hist1.append(pius_word1.history)"
   ]
  },
  {
   "cell_type": "code",
   "execution_count": 36,
   "metadata": {},
   "outputs": [
    {
     "name": "stdout",
     "output_type": "stream",
     "text": [
      "77/77 [==============================] - 1s 8ms/step - loss: 0.1625 - recall_6: 0.3452\n",
      "Test set\n",
      "  Loss: 0.163\n",
      "  recall: 0.345\n"
     ]
    }
   ],
   "source": [
    "accr = modelCNN.evaluate(pius_word8.X_test,pius_word8.Y_test)\n",
    "print('Test set\\n  Loss: {:0.3f}\\n  recall: {:0.3f}'.format(accr[0],accr[1]))"
   ]
  },
  {
   "cell_type": "markdown",
   "metadata": {},
   "source": []
  }
 ],
 "metadata": {
  "interpreter": {
   "hash": "2cafbbdf5f0c485b1a1935b2358d1e2de8ca6414272176d54707d0003e55811a"
  },
  "kernelspec": {
   "display_name": "Python 3.7.9 64-bit (conda)",
   "name": "python3"
  },
  "language_info": {
   "codemirror_mode": {
    "name": "ipython",
    "version": 3
   },
   "file_extension": ".py",
   "mimetype": "text/x-python",
   "name": "python",
   "nbconvert_exporter": "python",
   "pygments_lexer": "ipython3",
   "version": "3.7.11"
  },
  "orig_nbformat": 4
 },
 "nbformat": 4,
 "nbformat_minor": 2
}
